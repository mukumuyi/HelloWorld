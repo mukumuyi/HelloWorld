{
  "cells": [
    {
      "cell_type": "markdown",
      "metadata": {
        "id": "0jkMqXfBLI45"
      },
      "source": [
        "# 学習ノート\n",
        "齢40にして、勉強を始めます。  \n",
        "2023/07/30 初版作成  \n",
        "2023/11/19 学習内容を追加"
      ]
    },
    {
      "cell_type": "markdown",
      "metadata": {
        "id": "ZrN45tF7LbaF"
      },
      "source": [
        "### システム系の全般学習\n",
        "[システム関連学習用書籍](https://qiita.com/python_hello_world/items/201855a70d11db7144c9)  \n",
        "[データ視覚化関連書籍](https://data-viz-lab.com/dataanalytics-books)\n"
      ]
    },
    {
      "cell_type": "markdown",
      "metadata": {
        "id": "p9gM0spsBHtu"
      },
      "source": [
        "#### 見えるかを実現したい"
      ]
    },
    {
      "cell_type": "markdown",
      "metadata": {
        "id": "M0S9KH8tBOCB"
      },
      "source": [
        "#### JavaScript関係\n",
        "D3.js\n",
        "\n",
        "https://vasturiano.github.io/timelines-chart/example/categorical/  \n",
        "https://vasturiano.github.io/timelines-chart/"
      ]
    },
    {
      "cell_type": "markdown",
      "metadata": {
        "id": "4ibN3IbDLI4-"
      },
      "source": [
        "#### python関係"
      ]
    },
    {
      "cell_type": "markdown",
      "metadata": {
        "id": "-3Si2nN_NhlT"
      },
      "source": [
        "##### [1.東京大学のpythonの教科書](https://colab.research.google.com/github/utokyo-ipp/utokyo-ipp.github.io/blob/master/colab/index.ipynb)  \n",
        "\n",
        "11/19 matplotlib 着手"
      ]
    },
    {
      "cell_type": "markdown",
      "metadata": {
        "id": "XUBuoqBJNkMj"
      },
      "source": [
        "##### 2.見える化用のGantt作成 ：PyPracticePlotly.ipynb  "
      ]
    },
    {
      "cell_type": "markdown",
      "metadata": {
        "id": "prOVB9TILI5A"
      },
      "source": [
        "#### SQL関係"
      ]
    },
    {
      "cell_type": "markdown",
      "metadata": {
        "id": "U4Znqi_bNNpJ"
      },
      "source": [
        "##### [1.データ分析100本ノック](https://qiita.com/mahiro72/items/f468c0450f4ccecc300a)  \n",
        " Start 7/22 ～  \n",
        " Dockerの環境構築に手間取る。  "
      ]
    },
    {
      "cell_type": "markdown",
      "metadata": {
        "id": "43oI59gQLI5A"
      },
      "source": [
        "#### C#関係"
      ]
    },
    {
      "cell_type": "markdown",
      "metadata": {
        "id": "dhfaaY7-NeFB"
      },
      "source": [
        "##### [1.環境構築](https://teratail.com/questions/217007)"
      ]
    },
    {
      "cell_type": "markdown",
      "metadata": {
        "id": "nqdXKONAMfSN"
      },
      "source": [
        "### 言語勉強"
      ]
    },
    {
      "cell_type": "markdown",
      "metadata": {
        "id": "-XUDc8jcLI5B"
      },
      "source": [
        "#### 英語学習"
      ]
    },
    {
      "cell_type": "markdown",
      "metadata": {
        "id": "KdoWFd9FNxlr"
      },
      "source": [
        "##### 1.Sakura English"
      ]
    }
  ],
  "metadata": {
    "colab": {
      "provenance": []
    },
    "kernelspec": {
      "display_name": "Python 3",
      "language": "python",
      "name": "python3"
    },
    "language_info": {
      "codemirror_mode": {
        "name": "ipython",
        "version": 3
      },
      "file_extension": ".py",
      "mimetype": "text/x-python",
      "name": "python",
      "nbconvert_exporter": "python",
      "pygments_lexer": "ipython3",
      "version": "3.10.5"
    },
    "orig_nbformat": 4
  },
  "nbformat": 4,
  "nbformat_minor": 0
}
