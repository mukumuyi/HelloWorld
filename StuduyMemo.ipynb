{
  "cells": [
    {
      "cell_type": "markdown",
      "metadata": {
        "id": "0jkMqXfBLI45"
      },
      "source": [
        "# 学習ノート\n",
        "齢40にして、勉強を始めます。  \n",
        "2023/07/30 初版作成  \n",
        "2023/11/19 学習内容を追加"
      ]
    },
    {
      "cell_type": "markdown",
      "source": [
        "### システム系の全般学習\n",
        "[参考書籍１](https://qiita.com/python_hello_world/items/201855a70d11db7144c9)"
      ],
      "metadata": {
        "id": "ZrN45tF7LbaF"
      }
    },
    {
      "cell_type": "markdown",
      "source": [
        "#### 見えるかを実現したい"
      ],
      "metadata": {
        "id": "p9gM0spsBHtu"
      }
    },
    {
      "cell_type": "markdown",
      "source": [
        "### JavaScriptの可能性\n",
        "https://vasturiano.github.io/timelines-chart/example/categorical/\n",
        "https://vasturiano.github.io/timelines-chart/"
      ],
      "metadata": {
        "id": "M0S9KH8tBOCB"
      }
    },
    {
      "cell_type": "markdown",
      "metadata": {
        "id": "4ibN3IbDLI4-"
      },
      "source": [
        "#### python関係"
      ]
    },
    {
      "cell_type": "markdown",
      "source": [
        "##### [1.東京大学のpythonの教科書](https://colab.research.google.com/github/utokyo-ipp/utokyo-ipp.github.io/blob/master/colab/index.ipynb)  \n",
        "\n",
        "11/19 matplotlib 着手"
      ],
      "metadata": {
        "id": "-3Si2nN_NhlT"
      }
    },
    {
      "cell_type": "markdown",
      "source": [
        "##### 2.見える化用のGantt作成 ：PyPracticePlotly.ipynb  "
      ],
      "metadata": {
        "id": "XUBuoqBJNkMj"
      }
    },
    {
      "cell_type": "markdown",
      "metadata": {
        "id": "43oI59gQLI5A"
      },
      "source": [
        "#### C#関係"
      ]
    },
    {
      "cell_type": "markdown",
      "source": [
        "##### [1.環境構築](https://teratail.com/questions/217007)"
      ],
      "metadata": {
        "id": "dhfaaY7-NeFB"
      }
    },
    {
      "cell_type": "markdown",
      "metadata": {
        "id": "prOVB9TILI5A"
      },
      "source": [
        "#### SQL関係"
      ]
    },
    {
      "cell_type": "markdown",
      "source": [
        "##### [1.データ分析100本ノック](https://qiita.com/mahiro72/items/f468c0450f4ccecc300a)  \n",
        " Start 7/22 ～  \n",
        " Dockerの環境構築に手間取る。  "
      ],
      "metadata": {
        "id": "U4Znqi_bNNpJ"
      }
    },
    {
      "cell_type": "markdown",
      "source": [
        "### 言語勉強"
      ],
      "metadata": {
        "id": "nqdXKONAMfSN"
      }
    },
    {
      "cell_type": "markdown",
      "metadata": {
        "id": "-XUDc8jcLI5B"
      },
      "source": [
        "#### 英語学習"
      ]
    },
    {
      "cell_type": "markdown",
      "source": [
        "##### 1.Sakura English"
      ],
      "metadata": {
        "id": "KdoWFd9FNxlr"
      }
    }
  ],
  "metadata": {
    "kernelspec": {
      "display_name": "Python 3",
      "language": "python",
      "name": "python3"
    },
    "language_info": {
      "codemirror_mode": {
        "name": "ipython",
        "version": 3
      },
      "file_extension": ".py",
      "mimetype": "text/x-python",
      "name": "python",
      "nbconvert_exporter": "python",
      "pygments_lexer": "ipython3",
      "version": "3.10.5"
    },
    "orig_nbformat": 4,
    "colab": {
      "provenance": []
    }
  },
  "nbformat": 4,
  "nbformat_minor": 0
}