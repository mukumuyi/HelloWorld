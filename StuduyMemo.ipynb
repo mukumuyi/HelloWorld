{
  "cells": [
    {
      "cell_type": "markdown",
      "metadata": {
        "id": "0jkMqXfBLI45"
      },
      "source": [
        "# 学習ノート\n",
        "齢40にして、勉強を始めます。  "
      ]
    },
    {
      "cell_type": "markdown",
      "metadata": {},
      "source": [
        "2023/07/30 初版作成  \n",
        "2023/11/19 学習内容を追加  \n",
        "2023/12/16 Gitの基本操作を追加。pythonの前処理にてPDFからのデータ取得Try。"
      ]
    },
    {
      "cell_type": "markdown",
      "metadata": {
        "id": "ZrN45tF7LbaF"
      },
      "source": [
        "## システム系の全般学習\n",
        "[システム関連学習用書籍](https://qiita.com/python_hello_world/items/201855a70d11db7144c9)  \n",
        "[データ視覚化関連書籍](https://data-viz-lab.com/dataanalytics-books)\n"
      ]
    },
    {
      "cell_type": "markdown",
      "metadata": {},
      "source": [
        "### Sakura Editor  \n",
        "[xml整形](https://qiita.com/fujisystem/items/5302fe0911bf3e19ce1f)"
      ]
    },
    {
      "cell_type": "markdown",
      "metadata": {},
      "source": [
        "### VisualCode  "
      ]
    },
    {
      "cell_type": "markdown",
      "metadata": {},
      "source": [
        "### Git"
      ]
    },
    {
      "cell_type": "markdown",
      "metadata": {},
      "source": [
        "\n",
        "#### Git操作の基本手順 [URL1](https://zenn.dev/shimomura/articles/vs-code-git-github) [URL2](https://qiita.com/te-k/items/ba844bcc353f1a2e8596)\n"
      ]
    },
    {
      "cell_type": "markdown",
      "metadata": {},
      "source": [
        "##### clone ; GitHubにあるリポジトリからローカルのPCにコピーを作成する\n",
        "git clone URL"
      ]
    },
    {
      "cell_type": "markdown",
      "metadata": {},
      "source": [
        "\n",
        "##### pull : リモートのmasterブランチをpullしてローカルのブランチを最新にする\n",
        "git pull origin master"
      ]
    },
    {
      "cell_type": "markdown",
      "metadata": {},
      "source": [
        "##### checkout : 新しくブランチを作る、（-bが無い時はブランチを移動）\n",
        "git checkout -b ブランチ名"
      ]
    },
    {
      "cell_type": "markdown",
      "metadata": {},
      "source": [
        "##### add : 指定したファイルをステージングエリア（インデックス）に登録する\n",
        "git add ファイル"
      ]
    },
    {
      "cell_type": "markdown",
      "metadata": {},
      "source": [
        "##### commit : ファイルの変更をローカルリポジトリに登録する(-A 全部を)\n",
        "git commit -m “コミットメッセージ”\n",
        "git commit -A"
      ]
    },
    {
      "cell_type": "markdown",
      "metadata": {},
      "source": [
        "##### push : リモートリポジトリにcommitしたファイルを反映する\n",
        "git push origin ブランチ名"
      ]
    },
    {
      "cell_type": "markdown",
      "metadata": {},
      "source": [
        "##### stash : 新規開発をしているときにレビューや緊急の修正など一時的に今の状態を記録しておきたい時に使う\n",
        "git stash -u"
      ]
    },
    {
      "cell_type": "markdown",
      "metadata": {
        "id": "p9gM0spsBHtu"
      },
      "source": [
        "### 見えるかを実現したい  \n",
        "timeline chart    \n",
        " explanetary color and change      \n",
        " to be able to use both csv & json data and select which easily  \n",
        " delete waste logic  \n",
        " separate section by group  \n",
        " zoom when mouse scroll with ctrl  \n",
        " scroll when drug move the grapical section return(12/25)     \n",
        " scroll return(12/25)    \n",
        "\n",
        " D3 VerUp->v5     (1/4)   \n",
        " tooltip datetype is not good(1/4) \n",
        " bottom to define length (1/4)    \n",
        " when mouseover display tooltip as start,end,name (1/4) \n",
        " Preventing overlap of labels with bar graphs  (1/4)   \n",
        " move yAxis when Vertical scroll  (1/4)   \n",
        " flex xAxis when Vertical scroll  (1/4)   \n",
        " yAxis Scroll(12/30)  \n",
        " convert from csv to json  (12/30)   \n",
        " explanetary color(12/25)  \n",
        " multipul bar in same lane(12/25)  \n",
        " not overlap multipul bar(12/25)  \n",
        " data get from JSON (12/25)  \n",
        "  \n",
        "  \n",
        "  rect:Chart Part  \n",
        "  axis:  \n",
        "  tick:Name of X layer  "
      ]
    },
    {
      "cell_type": "markdown",
      "metadata": {},
      "source": [
        "#### Viasual\n",
        "\n",
        "[canva](https://www.canva.com/ja_jp/)\n",
        "\n",
        "[Color Theory]  \n",
        "  Color Image  \n",
        "   Red  Yellow  Green  Blue  Parple  \n",
        "\n",
        "Conbination Of Color  \n",
        " analogous colors　類似職  \n",
        " complementary color 補色 → 文字と背景はNG 浮き出る感じは出る。  \n",
        "[Color Hunt](https://colorhunt.co/)  \n",
        "[Adobe Color Wheel](https://color.adobe.com/ja/create/color-wheel)  \n",
        "  \n",
        "[Typography]  \n",
        "Serif\n",
        "  \n",
        "[User Interface]  \n",
        "1.Hierarchy  \n",
        "2.Layout  \n",
        "3.Alignment  \n",
        "4.White Space  \n",
        "5.Audience  \n",
        "[Daily UI](https://www.dailyui.co/#signup)  \n",
        "[Collection UI](https://collectui.com/)  \n",
        "\n",
        "[User Experience]  \n",
        "1.Simplicity  \n",
        "2.Consistency  \n",
        "3.Reading Patterns  \n",
        "-> F-layout\n",
        "-> Z-layout\n",
        "4.All Platform Design  \n",
        "5.Don't Use Your Powers for Evil  \n"
      ]
    },
    {
      "cell_type": "markdown",
      "metadata": {},
      "source": [
        "### Web System  \n",
        "[html,css,javascript guide](https://developer.mozilla.org/en-US/)"
      ]
    },
    {
      "cell_type": "markdown",
      "metadata": {},
      "source": [
        "2023/12/17 Section6  \n",
        "2023/12/24 Section9"
      ]
    },
    {
      "cell_type": "markdown",
      "metadata": {},
      "source": [
        "#### CSS  \n",
        " CSS Training  \n",
        "[world flags](http://lascarid.es/fussyflags/)  \n",
        "  \n",
        " CSS Flex Box  \n",
        "[CheatSheet](https://css-tricks.com/snippets/css/a-guide-to-flexbox/)  \n",
        "[GAME: Flexbox Froggy](https://appbrewery.github.io/flexboxfroggy/#ja)  \n",
        "[FlexShrink](https://appbrewery.github.io/flexbox-sizing-exercise/)\n",
        "\n",
        " CSS Grid  \n",
        "[GridSizing](https://appbrewery.github.io/grid-sizing/)  \n",
        "[GAME: Grid Garden](https://appbrewery.github.io/gridgarden/#ja)\n",
        "\n",
        " Boot Strap  \n",
        "[Boot Strap](https://getbootstrap.com/)"
      ]
    },
    {
      "cell_type": "markdown",
      "metadata": {},
      "source": [
        "##### CSS Selector\n",
        "Element Selector XX{ }  \n",
        "Class Selector .XX{ }  \n",
        "Id Selector #XX{ }   \n",
        "Attribute Selector p[XX] { }  \n",
        "Universal Selector * { }\n",
        "\n",
        "10.LIFE\\15_Source\\85_Udemy\\[Udemy]TheComplete2023WebDevelopmentBootcamp\\5.3 CSS Selectors\"\n"
      ]
    },
    {
      "cell_type": "markdown",
      "metadata": {
        "id": "M0S9KH8tBOCB"
      },
      "source": [
        "#### JavaScript関係"
      ]
    },
    {
      "cell_type": "markdown",
      "metadata": {},
      "source": [
        "エラー\n",
        "プロパティがnull　：　https://qiita.com/seki-hopper/items/d7bbc62bf13beddacfc3\n",
        "\n",
        "JavaScriptで変更したいAttrを探すには、URLのSource分析で該当の個所のAttrを見るとわかるかも。"
      ]
    },
    {
      "cell_type": "markdown",
      "metadata": {},
      "source": [
        "[D3.js](https://wizardace.com/)  \n",
        "[D3.js Timeline001](https://qiita.com/masayuki_200801/items/8f5c67ad82bf6293211e)  \n",
        "[D3.timeline part](https://codepen.io/mukumuyi/pen/xxBxWoR)\n",
        "\n",
        "https://vasturiano.github.io/timelines-chart/example/categorical/  \n",
        "https://vasturiano.github.io/timelines-chart/"
      ]
    },
    {
      "cell_type": "markdown",
      "metadata": {},
      "source": [
        "### DataScience"
      ]
    },
    {
      "cell_type": "markdown",
      "metadata": {
        "id": "4ibN3IbDLI4-"
      },
      "source": [
        "#### python関係"
      ]
    },
    {
      "cell_type": "markdown",
      "metadata": {
        "id": "-3Si2nN_NhlT"
      },
      "source": [
        "##### [1.東京大学のpythonの教科書](https://colab.research.google.com/github/utokyo-ipp/utokyo-ipp.github.io/blob/master/colab/index.ipynb)  \n",
        "\n",
        "11/19 matplotlib 着手\n",
        "\n",
        "##### 2.見える化用のGantt作成 ：PyPracticePlotly.ipynb  "
      ]
    },
    {
      "cell_type": "markdown",
      "metadata": {},
      "source": [
        "##### 3.前処理系 ： \"github\\10_python\\PreProcess.ipynb\"\n",
        "2023/12/16 企業からの求人票のPDFをExcel一覧化しようとしたが、formatのばらつきが大きく断念。"
      ]
    },
    {
      "cell_type": "markdown",
      "metadata": {
        "id": "prOVB9TILI5A"
      },
      "source": [
        "#### SQL関係"
      ]
    },
    {
      "cell_type": "markdown",
      "metadata": {
        "id": "U4Znqi_bNNpJ"
      },
      "source": [
        "##### [1.データ分析100本ノック](https://qiita.com/mahiro72/items/f468c0450f4ccecc300a)  \n",
        " Start 7/22 ～  \n",
        " Dockerの環境構築に手間取る。  "
      ]
    },
    {
      "cell_type": "markdown",
      "metadata": {},
      "source": [
        "### Aplication"
      ]
    },
    {
      "cell_type": "markdown",
      "metadata": {
        "id": "43oI59gQLI5A"
      },
      "source": [
        "#### C#関係"
      ]
    },
    {
      "cell_type": "markdown",
      "metadata": {
        "id": "dhfaaY7-NeFB"
      },
      "source": [
        "##### [1.環境構築](https://teratail.com/questions/217007)"
      ]
    },
    {
      "cell_type": "markdown",
      "metadata": {},
      "source": [
        "##### 2.プロジェクトのセットアップやパッケージの追加"
      ]
    },
    {
      "cell_type": "markdown",
      "metadata": {},
      "source": [
        "##### 手順\n",
        "Visual Studio Code (VSCode) では、プロジェクトのセットアップとパッケージの追加が通常の Visual Studio とは異なります。以下は、VSCode で C# プロジェクトをセットアップし、OxyPlot を使用する手順です。\n",
        "\n",
        "1.プロジェクトの作成:  \n",
        "空のフォルダを作成し、そのフォルダを VSCode で開きます。  \n",
        "ターミナルで次のコマンドを実行して、新しい C# プロジェクトを作成します。  \n",
        " dotnet new console  \n",
        "\n",
        "2.OxyPlot パッケージの追加:  \n",
        "ターミナルで、次のコマンドを実行して OxyPlot パッケージを追加します。  \n",
        " dotnet add package OxyPlot.WindowsForms  \n",
        "  \n",
        "3.プログラムの修正:  \n",
        "Program.cs ファイルを開き、OxyPlot の using ディレクティブを追加します。  \n",
        "  \n",
        " using OxyPlot.WindowsForms;  \n",
        "  \n",
        "プロジェクトのエントリ ポイント (Main メソッド) 内で、OxyPlot を使用してグラフを描画するコードを追加します。先ほどのフォーム ベースの例を使用できます。  \n",
        "  \n",
        "4.アプリケーションの実行:  \n",
        "ターミナルで次のコマンドを実行して、アプリケーションをビルドおよび実行します。    \n",
        " dotnet run  \n",
        "\n",
        "これで、VSCode 上で OxyPlot を使用した C# アプリケーションが動作するはずです。VSCode では、ターミナルを使用してコマンドを実行することが一般的です。"
      ]
    },
    {
      "cell_type": "markdown",
      "metadata": {
        "id": "nqdXKONAMfSN"
      },
      "source": [
        "### 言語勉強"
      ]
    },
    {
      "cell_type": "markdown",
      "metadata": {
        "id": "-XUDc8jcLI5B"
      },
      "source": [
        "#### 英語学習"
      ]
    },
    {
      "cell_type": "markdown",
      "metadata": {
        "id": "KdoWFd9FNxlr"
      },
      "source": [
        "##### 1.Sakura English"
      ]
    }
  ],
  "metadata": {
    "colab": {
      "provenance": []
    },
    "kernelspec": {
      "display_name": "Python 3",
      "language": "python",
      "name": "python3"
    },
    "language_info": {
      "codemirror_mode": {
        "name": "ipython",
        "version": 3
      },
      "file_extension": ".py",
      "mimetype": "text/x-python",
      "name": "python",
      "nbconvert_exporter": "python",
      "pygments_lexer": "ipython3",
      "version": "3.10.5"
    },
    "orig_nbformat": 4
  },
  "nbformat": 4,
  "nbformat_minor": 0
}
