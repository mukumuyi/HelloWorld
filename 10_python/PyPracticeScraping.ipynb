{
 "cells": [
  {
   "attachments": {},
   "cell_type": "markdown",
   "metadata": {},
   "source": [
    "# スクレイピングについて学習します"
   ]
  },
  {
   "attachments": {},
   "cell_type": "markdown",
   "metadata": {},
   "source": [
    "## pythonでデータをダウンロード"
   ]
  },
  {
   "attachments": {},
   "cell_type": "markdown",
   "metadata": {},
   "source": [
    "### requestsでアクセスしてみよう"
   ]
  },
  {
   "cell_type": "code",
   "execution_count": 18,
   "metadata": {},
   "outputs": [],
   "source": [
    "## Package Install\n",
    "## ターミナルで以下を実行する。\n",
    "# pip install -U requests"
   ]
  },
  {
   "cell_type": "code",
   "execution_count": 17,
   "metadata": {},
   "outputs": [
    {
     "name": "stdout",
     "output_type": "stream",
     "text": [
      "<!DOCTYPE html>\n",
      "<html>\n",
      "\t<head>\n",
      "\t\t<meta charset=\"UTF-8\">\n",
      "\t\t<title>Python2年生</title>\n",
      "\t</head>\n",
      "\t<body>\n",
      "\t\t<h2>第1章 Pythonでデータをダウンロード</h2>\n",
      "\t\t<ol>\n",
      "\t\t\t<li>スクレイピングってなに？</li>\n",
      "\t\t\t<li>Pythonをインストールしてみよう</li>\n",
      "\t\t\t<li>requestsでアクセスしてみよう</li>\n",
      "\t\t</ol>\n",
      "\t</body>\n",
      "</html>\n"
     ]
    }
   ],
   "source": [
    "import requests\n",
    "\n",
    "url = \"https://www.ymori.com/books/python2nen/test1.html\"\n",
    "response = requests.get(url)\n",
    "\n",
    "response.encoding = response.apparent_encoding\n",
    "\n",
    "filename = \"download.txt\"\n",
    "with open(filename,mode=\"w\") as f:\n",
    "    f.write(response.text)\n",
    "\n",
    "print(response.text)\n"
   ]
  },
  {
   "attachments": {},
   "cell_type": "markdown",
   "metadata": {},
   "source": [
    "## HTMLを解析してみよう"
   ]
  },
  {
   "attachments": {},
   "cell_type": "markdown",
   "metadata": {},
   "source": [
    "### HTMLを解析してみよう"
   ]
  },
  {
   "attachments": {},
   "cell_type": "markdown",
   "metadata": {},
   "source": [
    "## Package Install\n",
    "## ターミナルで以下を実行する。\n",
    "# pip install -U beautifulsoup4"
   ]
  },
  {
   "cell_type": "code",
   "execution_count": 24,
   "metadata": {},
   "outputs": [
    {
     "name": "stdout",
     "output_type": "stream",
     "text": [
      "Python2年生\n",
      "第1章 Pythonでデータをダウンロード\n",
      "スクレイピングってなに？\n"
     ]
    }
   ],
   "source": [
    "import requests\n",
    "from bs4 import BeautifulSoup\n",
    "\n",
    "# Get Web Page\n",
    "load_url = \"https://www.ymori.com/books/python2nen/test1.html\"\n",
    "html = requests.get(load_url)\n",
    "soup = BeautifulSoup(html.content,\"html.parser\")\n",
    "\n",
    "# Display HTML\n",
    "#print(soup)\n",
    "\n",
    "print(soup.find(\"title\").text)\n",
    "print(soup.find(\"h2\").text)\n",
    "print(soup.find(\"li\").text)"
   ]
  },
  {
   "cell_type": "code",
   "execution_count": 31,
   "metadata": {},
   "outputs": [
    {
     "name": "stdout",
     "output_type": "stream",
     "text": [
      "<div id=\"chap2\">\n",
      "<h2>第2章 HTMLを解析しよう</h2>\n",
      "<ol>\n",
      "<li>HTMLを解析してみよう</li>\n",
      "<li>ニュースの最新記事一覧を取得してみよう</li>\n",
      "<li>リンク一覧をファイルに書き出そう</li>\n",
      "<li>画像を一括ダウンロードしよう</li>\n",
      "</ol>\n",
      "</div>\n",
      "HTMLを解析してみよう\n",
      "ニュースの最新記事一覧を取得してみよう\n",
      "リンク一覧をファイルに書き出そう\n",
      "画像を一括ダウンロードしよう\n"
     ]
    }
   ],
   "source": [
    "import requests\n",
    "from bs4 import BeautifulSoup\n",
    "\n",
    "# Get Web Page\n",
    "load_url = \"https://www.ymori.com/books/python2nen/test2.html\"\n",
    "html = requests.get(load_url)\n",
    "soup = BeautifulSoup(html.content,\"html.parser\")\n",
    "\n",
    "# Display HTML\n",
    "chap2 = soup.find(id=\"chap2\")\n",
    "print(chap2)\n",
    "for i in chap2.findAll(\"li\"):\n",
    "    print(i.text)\n",
    "\n",
    "\n",
    "# print(soup)\n",
    "# for i in soup.findAll(\"li\"):\n",
    "#     print(i.text)\n",
    "\n",
    "# print(soup.find(\"title\").text)\n",
    "# print(soup.find(\"h2\").text)\n",
    "# print(soup.find(\"li\").text)"
   ]
  },
  {
   "attachments": {},
   "cell_type": "markdown",
   "metadata": {},
   "source": [
    "### ニュースの最新記事一覧を取得してみよう"
   ]
  },
  {
   "cell_type": "code",
   "execution_count": 35,
   "metadata": {},
   "outputs": [
    {
     "name": "stdout",
     "output_type": "stream",
     "text": [
      "つながりすぎない mixiの利用者増\n",
      "「リモート交際」DV被害リスクも\n",
      "Microsoft 検索エンジンにAI搭載\n",
      "Teams アジア太平洋地域で障害\n",
      "米Zoom1300人削減へ 全体の15%\n",
      "レトロゲーム高騰 投資の見方も\n",
      "Anker携帯バッテリー 一部回収へ\n",
      "Switch販売1.2億台GAMEBOY超え\n",
      "もっと見る\n"
     ]
    }
   ],
   "source": [
    "import requests\n",
    "from bs4 import BeautifulSoup\n",
    "\n",
    "# Get Web Page\n",
    "load_url = \"https://news.yahoo.co.jp/categories/it\"\n",
    "html = requests.get(load_url)\n",
    "soup = BeautifulSoup(html.content,\"html.parser\")\n",
    "\n",
    "# Search By Class\n",
    "topic = soup.find(class_=\"sc-kBMPsl hNrcdi\")\n",
    "for element in topic.find_all(\"a\"):\n",
    "    print(element.text)\n",
    "\n"
   ]
  },
  {
   "attachments": {},
   "cell_type": "markdown",
   "metadata": {},
   "source": [
    "### リンク一覧をファイルに書き出そう"
   ]
  },
  {
   "cell_type": "code",
   "execution_count": 11,
   "metadata": {},
   "outputs": [],
   "source": [
    "import requests\n",
    "from bs4 import BeautifulSoup\n",
    "import urllib\n",
    "\n",
    "# Get Web Page\n",
    "load_url = \"https://www.ymori.com/books/python2nen/test2.html\"\n",
    "html = requests.get(load_url)\n",
    "soup = BeautifulSoup(html.content,\"html.parser\")\n",
    "\n",
    "# Search By a\n",
    "filename = \"linklist.txt\"\n",
    "with open(filename,\"w\") as f:\n",
    "    for element in soup.find_all(\"a\"):\n",
    "        url = element.get(\"href\")\n",
    "        link_url = urllib.parse.urljoin(load_url,url)\n",
    "        f.write(element.text + \"\\n\")\n",
    "        f.write(link_url +\"\\n\")\n",
    "        f.write(\"\\n\")\n"
   ]
  },
  {
   "attachments": {},
   "cell_type": "markdown",
   "metadata": {},
   "source": [
    "### 画像を一括ダウンロードしよう"
   ]
  },
  {
   "cell_type": "code",
   "execution_count": 1,
   "metadata": {},
   "outputs": [],
   "source": [
    "import requests\n",
    "from bs4 import BeautifulSoup\n",
    "from pathlib import Path\n",
    "import urllib\n",
    "import time\n",
    "\n",
    "# Anlayse Web Page\n",
    "load_url = \"http://www.ymori.com/books/python2nen/test2.html\"\n",
    "html = requests.get(load_url)\n",
    "soup =BeautifulSoup(html.content,\"html.parser\")\n",
    "\n",
    "# Make Folder to Store\n",
    "out_folder = Path(\"download2\")\n",
    "out_folder.mkdir(exist_ok=True)\n",
    "\n",
    "for element in soup.find_all(\"img\"):\n",
    "    src = element.get(\"src\")\n",
    "\n",
    "    image_url = urllib.parse.urljoin(load_url,src)\n",
    "    imgdata = requests.get(image_url)\n",
    "    \n",
    "    filename = image_url.split(\"/\")[-1]\n",
    "    out_path = out_folder.joinpath(filename)\n",
    "\n",
    "# Write Phote \n",
    "    with open(out_path,mode=\"wb\") as f:\n",
    "        f.write(imgdata.content)\n",
    "\n",
    "    time.sleep(1)"
   ]
  },
  {
   "cell_type": "markdown",
   "metadata": {},
   "source": [
    "### pandasを使ってみよう"
   ]
  },
  {
   "cell_type": "code",
   "execution_count": 8,
   "metadata": {},
   "outputs": [
    {
     "name": "stdout",
     "output_type": "stream",
     "text": [
      "データの件数 =  6\n",
      "項目名      =  ['名前' '国語' '数学' '英語' '理科' '社会']\n",
      "インデックス =  [0 1 2 3 4 5]\n",
      "    国語  数学\n",
      "0   83  89\n",
      "1   66  93\n",
      "2  100  84\n",
      "3   60  73\n",
      "4   92  62\n",
      "5   96  92\n",
      "名前    B助\n",
      "国語    66\n",
      "数学    93\n",
      "英語    75\n",
      "理科    88\n",
      "社会    76\n",
      "Name: 1, dtype: object\n"
     ]
    }
   ],
   "source": [
    "import pandas as pd\n",
    " \n",
    " # read CSV\n",
    "df = pd.read_csv(\"test2.csv\")\n",
    "\n",
    "print(\"データの件数 = \",len(df))\n",
    "print(\"項目名      = \",df.columns.values)\n",
    "print(\"インデックス = \",df.index.values)\n",
    "print(df[[\"国語\",\"数学\"]])\n",
    "print(df.loc[1])\n"
   ]
  },
  {
   "attachments": {},
   "cell_type": "markdown",
   "metadata": {},
   "source": [
    "### オープンデータってなに？"
   ]
  },
  {
   "attachments": {},
   "cell_type": "markdown",
   "metadata": {},
   "source": [
    "### 郵便局：郵便番号データ"
   ]
  },
  {
   "cell_type": "code",
   "execution_count": null,
   "metadata": {},
   "outputs": [],
   "source": [
    "import pandas as pd\n",
    "\n",
    "# データフレームを読み込む\n",
    "df = pd.read_csv(\"13TOKYO.csv\",header=None,encoding=\"shift_jis\")\n",
    "\n",
    "print(len(df))\n",
    "print(df.columns.values)\n"
   ]
  }
 ],
 "metadata": {
  "kernelspec": {
   "display_name": "Python 3.10.5 64-bit",
   "language": "python",
   "name": "python3"
  },
  "language_info": {
   "codemirror_mode": {
    "name": "ipython",
    "version": 3
   },
   "file_extension": ".py",
   "mimetype": "text/x-python",
   "name": "python",
   "nbconvert_exporter": "python",
   "pygments_lexer": "ipython3",
   "version": "3.10.5"
  },
  "orig_nbformat": 4,
  "vscode": {
   "interpreter": {
    "hash": "302eb6b7991d9250228386f0be687ac4ce423e05a82923fc07bef1035868863d"
   }
  }
 },
 "nbformat": 4,
 "nbformat_minor": 2
}
