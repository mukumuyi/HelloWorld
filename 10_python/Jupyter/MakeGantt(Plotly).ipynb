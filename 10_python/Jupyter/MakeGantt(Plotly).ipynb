{
 "cells": [
  {
   "cell_type": "markdown",
   "metadata": {},
   "source": [
    "# Plotlyを使ってGanttを作ってみる。 \n",
    "2023/7/29"
   ]
  },
  {
   "cell_type": "markdown",
   "metadata": {},
   "source": [
    "事前準備ライブラリのインストール\n",
    "参考になるURL"
   ]
  },
  {
   "cell_type": "code",
   "execution_count": null,
   "metadata": {},
   "outputs": [],
   "source": [
    "## Package Install\n",
    "## ターミナルで以下を実行する。\n",
    "# pip install -U plotly\n",
    "# pip install -U pydbc\n",
    "# pip install -U matplotlib\n",
    "\n",
    "\n",
    "## URL\n",
    "# https://plotly.com/graphing-libraries/ # plotly library introduction"
   ]
  },
  {
   "cell_type": "markdown",
   "metadata": {},
   "source": [
    "必要なライブラリを有効化する"
   ]
  },
  {
   "cell_type": "code",
   "execution_count": 2,
   "metadata": {},
   "outputs": [],
   "source": [
    "import pandas as pd \n",
    "import pyodbc\n",
    "import plotly.express as px\n",
    "import plotly.io as pio\n",
    "import matplotlib.pyplot as plt\n",
    "import numpy as np"
   ]
  },
  {
   "cell_type": "markdown",
   "metadata": {},
   "source": [
    "DBからDFにデータを展開する(sqlserver)"
   ]
  },
  {
   "cell_type": "code",
   "execution_count": 4,
   "metadata": {},
   "outputs": [
    {
     "name": "stderr",
     "output_type": "stream",
     "text": [
      "C:\\Users\\nishi\\AppData\\Local\\Temp\\ipykernel_10124\\3919769664.py:12: UserWarning: pandas only supports SQLAlchemy connectable (engine/connection) or database string URI or sqlite3 DBAPI2 connection. Other DBAPI2 objects are not tested. Please consider using SQLAlchemy.\n",
      "  df = pd.read_sql(query, cnxn)\n"
     ]
    }
   ],
   "source": [
    "# Some other example server values are\n",
    "# server = 'localhost\\sqlexpress' # for a named instance\n",
    "# server = 'myserver,port' # to specify an alternate port\n",
    "server = 'yutakaPC\\SQLEXPRESS' \n",
    "database = 'MYDB' \n",
    "username = 'DB_User' \n",
    "password = 'DB_User'  \n",
    "cnxn = pyodbc.connect('DRIVER={SQL Server};SERVER='+server+';DATABASE='+database+';UID='+username+';PWD='+ password)\n",
    "cursor = cnxn.cursor()\n",
    "# select 26 rows from SQL table to insert in dataframe.\n",
    "query = \"select * from [MYDB].[TRN_LOT_PROCESS] order by Resource,Start,Finish,Object;\"\n",
    "df = pd.read_sql(query, cnxn)\n",
    "df['Key'] = df['Resource'] + '-' + df['Object']\n",
    "df['Task'] = df['Object'] \n",
    "df.to_csv('../../00_data/schedule_sample.csv')\n",
    "# print(df.sort_values(by=['Resource','Start'])['Key'])\n",
    "# print(df.head(26))"
   ]
  },
  {
   "cell_type": "markdown",
   "metadata": {},
   "source": [
    "Matpot使ってみる"
   ]
  },
  {
   "cell_type": "code",
   "execution_count": null,
   "metadata": {},
   "outputs": [],
   "source": []
  },
  {
   "cell_type": "markdown",
   "metadata": {},
   "source": [
    "ガントチャートを作りたい"
   ]
  },
  {
   "cell_type": "code",
   "execution_count": 6,
   "metadata": {},
   "outputs": [
    {
     "data": {
      "application/vnd.plotly.v1+json": {
       "config": {
        "plotlyServerURL": "https://plot.ly"
       },
       "data": [
        {
         "alignmentgroup": "True",
         "base": [
          "2023-07-30T08:58:00",
          "2023-07-30T09:18:00",
          "2023-07-30T09:25:00",
          "2023-07-30T09:28:00",
          "2023-07-30T09:16:00",
          "2023-07-30T09:27:00",
          "2023-07-30T09:38:00",
          "2023-07-30T09:57:00",
          "2023-07-30T09:00:00",
          "2023-07-30T09:15:00"
         ],
         "cliponaxis": false,
         "hovertemplate": "Status=WAIT<br>Start=%{base}<br>Finish=%{x}<br>Key=%{y}<br>Object=%{text}<extra></extra>",
         "legendgroup": "WAIT",
         "marker": {
          "color": "limegreen",
          "opacity": 1,
          "pattern": {
           "shape": ""
          }
         },
         "name": "WAIT",
         "offsetgroup": "WAIT",
         "orientation": "h",
         "showlegend": true,
         "text": [
          "JOB-001",
          "JOB-011",
          "JOB-002",
          "JOB-003",
          "JOB-013",
          "JOB-005",
          "JOB-006",
          "JOB-015",
          "JOB-007",
          "JOB-017"
         ],
         "textangle": 0,
         "textfont": {
          "size": 10
         },
         "textposition": "inside",
         "type": "bar",
         "width": 1,
         "x": [
          5160000,
          23220000,
          3540000,
          18360000,
          16860000,
          15300000,
          34200000,
          10020000,
          50400000,
          85620000
         ],
         "xaxis": "x",
         "y": [
          "A-JOB-001",
          "A-JOB-011",
          "A-JOB-002",
          "A-JOB-003",
          "B-JOB-013",
          "B-JOB-005",
          "B-JOB-006",
          "B-JOB-015",
          "C-JOB-007",
          "C-JOB-017"
         ],
         "yaxis": "y"
        },
        {
         "alignmentgroup": "True",
         "base": [
          "2023-07-30T09:23:00",
          "2023-07-30T09:29:00",
          "2023-07-30T09:03:00",
          "2023-07-30T09:28:00",
          "2023-07-30T09:11:00",
          "2023-07-30T09:27:00",
          "2023-07-30T09:31:00",
          "2023-07-30T09:32:00"
         ],
         "cliponaxis": false,
         "hovertemplate": "Status=RUN<br>Start=%{base}<br>Finish=%{x}<br>Key=%{y}<br>Object=%{text}<extra></extra>",
         "legendgroup": "RUN",
         "marker": {
          "color": "Blue",
          "opacity": 1,
          "pattern": {
           "shape": ""
          }
         },
         "name": "RUN",
         "offsetgroup": "RUN",
         "orientation": "h",
         "showlegend": true,
         "text": [
          "JOB-010",
          "JOB-012",
          "JOB-004",
          "JOB-014",
          "JOB-008",
          "JOB-016",
          "JOB-009",
          "JOB-018"
         ],
         "textangle": 0,
         "textfont": {
          "size": 10
         },
         "textposition": "inside",
         "type": "bar",
         "width": 1,
         "x": [
          24360000,
          24840000,
          6660000,
          660000,
          53640000,
          66900000,
          64620000,
          7980000
         ],
         "xaxis": "x",
         "y": [
          "A-JOB-010",
          "A-JOB-012",
          "B-JOB-004",
          "B-JOB-014",
          "C-JOB-008",
          "C-JOB-016",
          "C-JOB-009",
          "C-JOB-018"
         ],
         "yaxis": "y"
        }
       ],
       "layout": {
        "bargap": 0,
        "bargroupgap": 0,
        "barmode": "group",
        "clickmode": "event+select",
        "dragmode": "pan",
        "font": {
         "family": "Arial",
         "size": 20
        },
        "hoverlabel": {
         "bgcolor": "#DAEEED",
         "font": {
          "size": 15
         }
        },
        "legend": {
         "title": {
          "text": "Status"
         },
         "tracegroupgap": 0,
         "x": 0.9
        },
        "template": {
         "data": {
          "bar": [
           {
            "error_x": {
             "color": "#2a3f5f"
            },
            "error_y": {
             "color": "#2a3f5f"
            },
            "marker": {
             "line": {
              "color": "#E5ECF6",
              "width": 0.5
             },
             "pattern": {
              "fillmode": "overlay",
              "size": 10,
              "solidity": 0.2
             }
            },
            "type": "bar"
           }
          ],
          "barpolar": [
           {
            "marker": {
             "line": {
              "color": "#E5ECF6",
              "width": 0.5
             },
             "pattern": {
              "fillmode": "overlay",
              "size": 10,
              "solidity": 0.2
             }
            },
            "type": "barpolar"
           }
          ],
          "carpet": [
           {
            "aaxis": {
             "endlinecolor": "#2a3f5f",
             "gridcolor": "white",
             "linecolor": "white",
             "minorgridcolor": "white",
             "startlinecolor": "#2a3f5f"
            },
            "baxis": {
             "endlinecolor": "#2a3f5f",
             "gridcolor": "white",
             "linecolor": "white",
             "minorgridcolor": "white",
             "startlinecolor": "#2a3f5f"
            },
            "type": "carpet"
           }
          ],
          "choropleth": [
           {
            "colorbar": {
             "outlinewidth": 0,
             "ticks": ""
            },
            "type": "choropleth"
           }
          ],
          "contour": [
           {
            "colorbar": {
             "outlinewidth": 0,
             "ticks": ""
            },
            "colorscale": [
             [
              0,
              "#0d0887"
             ],
             [
              0.1111111111111111,
              "#46039f"
             ],
             [
              0.2222222222222222,
              "#7201a8"
             ],
             [
              0.3333333333333333,
              "#9c179e"
             ],
             [
              0.4444444444444444,
              "#bd3786"
             ],
             [
              0.5555555555555556,
              "#d8576b"
             ],
             [
              0.6666666666666666,
              "#ed7953"
             ],
             [
              0.7777777777777778,
              "#fb9f3a"
             ],
             [
              0.8888888888888888,
              "#fdca26"
             ],
             [
              1,
              "#f0f921"
             ]
            ],
            "type": "contour"
           }
          ],
          "contourcarpet": [
           {
            "colorbar": {
             "outlinewidth": 0,
             "ticks": ""
            },
            "type": "contourcarpet"
           }
          ],
          "heatmap": [
           {
            "colorbar": {
             "outlinewidth": 0,
             "ticks": ""
            },
            "colorscale": [
             [
              0,
              "#0d0887"
             ],
             [
              0.1111111111111111,
              "#46039f"
             ],
             [
              0.2222222222222222,
              "#7201a8"
             ],
             [
              0.3333333333333333,
              "#9c179e"
             ],
             [
              0.4444444444444444,
              "#bd3786"
             ],
             [
              0.5555555555555556,
              "#d8576b"
             ],
             [
              0.6666666666666666,
              "#ed7953"
             ],
             [
              0.7777777777777778,
              "#fb9f3a"
             ],
             [
              0.8888888888888888,
              "#fdca26"
             ],
             [
              1,
              "#f0f921"
             ]
            ],
            "type": "heatmap"
           }
          ],
          "heatmapgl": [
           {
            "colorbar": {
             "outlinewidth": 0,
             "ticks": ""
            },
            "colorscale": [
             [
              0,
              "#0d0887"
             ],
             [
              0.1111111111111111,
              "#46039f"
             ],
             [
              0.2222222222222222,
              "#7201a8"
             ],
             [
              0.3333333333333333,
              "#9c179e"
             ],
             [
              0.4444444444444444,
              "#bd3786"
             ],
             [
              0.5555555555555556,
              "#d8576b"
             ],
             [
              0.6666666666666666,
              "#ed7953"
             ],
             [
              0.7777777777777778,
              "#fb9f3a"
             ],
             [
              0.8888888888888888,
              "#fdca26"
             ],
             [
              1,
              "#f0f921"
             ]
            ],
            "type": "heatmapgl"
           }
          ],
          "histogram": [
           {
            "marker": {
             "pattern": {
              "fillmode": "overlay",
              "size": 10,
              "solidity": 0.2
             }
            },
            "type": "histogram"
           }
          ],
          "histogram2d": [
           {
            "colorbar": {
             "outlinewidth": 0,
             "ticks": ""
            },
            "colorscale": [
             [
              0,
              "#0d0887"
             ],
             [
              0.1111111111111111,
              "#46039f"
             ],
             [
              0.2222222222222222,
              "#7201a8"
             ],
             [
              0.3333333333333333,
              "#9c179e"
             ],
             [
              0.4444444444444444,
              "#bd3786"
             ],
             [
              0.5555555555555556,
              "#d8576b"
             ],
             [
              0.6666666666666666,
              "#ed7953"
             ],
             [
              0.7777777777777778,
              "#fb9f3a"
             ],
             [
              0.8888888888888888,
              "#fdca26"
             ],
             [
              1,
              "#f0f921"
             ]
            ],
            "type": "histogram2d"
           }
          ],
          "histogram2dcontour": [
           {
            "colorbar": {
             "outlinewidth": 0,
             "ticks": ""
            },
            "colorscale": [
             [
              0,
              "#0d0887"
             ],
             [
              0.1111111111111111,
              "#46039f"
             ],
             [
              0.2222222222222222,
              "#7201a8"
             ],
             [
              0.3333333333333333,
              "#9c179e"
             ],
             [
              0.4444444444444444,
              "#bd3786"
             ],
             [
              0.5555555555555556,
              "#d8576b"
             ],
             [
              0.6666666666666666,
              "#ed7953"
             ],
             [
              0.7777777777777778,
              "#fb9f3a"
             ],
             [
              0.8888888888888888,
              "#fdca26"
             ],
             [
              1,
              "#f0f921"
             ]
            ],
            "type": "histogram2dcontour"
           }
          ],
          "mesh3d": [
           {
            "colorbar": {
             "outlinewidth": 0,
             "ticks": ""
            },
            "type": "mesh3d"
           }
          ],
          "parcoords": [
           {
            "line": {
             "colorbar": {
              "outlinewidth": 0,
              "ticks": ""
             }
            },
            "type": "parcoords"
           }
          ],
          "pie": [
           {
            "automargin": true,
            "type": "pie"
           }
          ],
          "scatter": [
           {
            "fillpattern": {
             "fillmode": "overlay",
             "size": 10,
             "solidity": 0.2
            },
            "type": "scatter"
           }
          ],
          "scatter3d": [
           {
            "line": {
             "colorbar": {
              "outlinewidth": 0,
              "ticks": ""
             }
            },
            "marker": {
             "colorbar": {
              "outlinewidth": 0,
              "ticks": ""
             }
            },
            "type": "scatter3d"
           }
          ],
          "scattercarpet": [
           {
            "marker": {
             "colorbar": {
              "outlinewidth": 0,
              "ticks": ""
             }
            },
            "type": "scattercarpet"
           }
          ],
          "scattergeo": [
           {
            "marker": {
             "colorbar": {
              "outlinewidth": 0,
              "ticks": ""
             }
            },
            "type": "scattergeo"
           }
          ],
          "scattergl": [
           {
            "marker": {
             "colorbar": {
              "outlinewidth": 0,
              "ticks": ""
             }
            },
            "type": "scattergl"
           }
          ],
          "scattermapbox": [
           {
            "marker": {
             "colorbar": {
              "outlinewidth": 0,
              "ticks": ""
             }
            },
            "type": "scattermapbox"
           }
          ],
          "scatterpolar": [
           {
            "marker": {
             "colorbar": {
              "outlinewidth": 0,
              "ticks": ""
             }
            },
            "type": "scatterpolar"
           }
          ],
          "scatterpolargl": [
           {
            "marker": {
             "colorbar": {
              "outlinewidth": 0,
              "ticks": ""
             }
            },
            "type": "scatterpolargl"
           }
          ],
          "scatterternary": [
           {
            "marker": {
             "colorbar": {
              "outlinewidth": 0,
              "ticks": ""
             }
            },
            "type": "scatterternary"
           }
          ],
          "surface": [
           {
            "colorbar": {
             "outlinewidth": 0,
             "ticks": ""
            },
            "colorscale": [
             [
              0,
              "#0d0887"
             ],
             [
              0.1111111111111111,
              "#46039f"
             ],
             [
              0.2222222222222222,
              "#7201a8"
             ],
             [
              0.3333333333333333,
              "#9c179e"
             ],
             [
              0.4444444444444444,
              "#bd3786"
             ],
             [
              0.5555555555555556,
              "#d8576b"
             ],
             [
              0.6666666666666666,
              "#ed7953"
             ],
             [
              0.7777777777777778,
              "#fb9f3a"
             ],
             [
              0.8888888888888888,
              "#fdca26"
             ],
             [
              1,
              "#f0f921"
             ]
            ],
            "type": "surface"
           }
          ],
          "table": [
           {
            "cells": {
             "fill": {
              "color": "#EBF0F8"
             },
             "line": {
              "color": "white"
             }
            },
            "header": {
             "fill": {
              "color": "#C8D4E3"
             },
             "line": {
              "color": "white"
             }
            },
            "type": "table"
           }
          ]
         },
         "layout": {
          "annotationdefaults": {
           "arrowcolor": "#2a3f5f",
           "arrowhead": 0,
           "arrowwidth": 1
          },
          "autotypenumbers": "strict",
          "coloraxis": {
           "colorbar": {
            "outlinewidth": 0,
            "ticks": ""
           }
          },
          "colorscale": {
           "diverging": [
            [
             0,
             "#8e0152"
            ],
            [
             0.1,
             "#c51b7d"
            ],
            [
             0.2,
             "#de77ae"
            ],
            [
             0.3,
             "#f1b6da"
            ],
            [
             0.4,
             "#fde0ef"
            ],
            [
             0.5,
             "#f7f7f7"
            ],
            [
             0.6,
             "#e6f5d0"
            ],
            [
             0.7,
             "#b8e186"
            ],
            [
             0.8,
             "#7fbc41"
            ],
            [
             0.9,
             "#4d9221"
            ],
            [
             1,
             "#276419"
            ]
           ],
           "sequential": [
            [
             0,
             "#0d0887"
            ],
            [
             0.1111111111111111,
             "#46039f"
            ],
            [
             0.2222222222222222,
             "#7201a8"
            ],
            [
             0.3333333333333333,
             "#9c179e"
            ],
            [
             0.4444444444444444,
             "#bd3786"
            ],
            [
             0.5555555555555556,
             "#d8576b"
            ],
            [
             0.6666666666666666,
             "#ed7953"
            ],
            [
             0.7777777777777778,
             "#fb9f3a"
            ],
            [
             0.8888888888888888,
             "#fdca26"
            ],
            [
             1,
             "#f0f921"
            ]
           ],
           "sequentialminus": [
            [
             0,
             "#0d0887"
            ],
            [
             0.1111111111111111,
             "#46039f"
            ],
            [
             0.2222222222222222,
             "#7201a8"
            ],
            [
             0.3333333333333333,
             "#9c179e"
            ],
            [
             0.4444444444444444,
             "#bd3786"
            ],
            [
             0.5555555555555556,
             "#d8576b"
            ],
            [
             0.6666666666666666,
             "#ed7953"
            ],
            [
             0.7777777777777778,
             "#fb9f3a"
            ],
            [
             0.8888888888888888,
             "#fdca26"
            ],
            [
             1,
             "#f0f921"
            ]
           ]
          },
          "colorway": [
           "#636efa",
           "#EF553B",
           "#00cc96",
           "#ab63fa",
           "#FFA15A",
           "#19d3f3",
           "#FF6692",
           "#B6E880",
           "#FF97FF",
           "#FECB52"
          ],
          "font": {
           "color": "#2a3f5f"
          },
          "geo": {
           "bgcolor": "white",
           "lakecolor": "white",
           "landcolor": "#E5ECF6",
           "showlakes": true,
           "showland": true,
           "subunitcolor": "white"
          },
          "hoverlabel": {
           "align": "left"
          },
          "hovermode": "closest",
          "mapbox": {
           "style": "light"
          },
          "paper_bgcolor": "white",
          "plot_bgcolor": "#E5ECF6",
          "polar": {
           "angularaxis": {
            "gridcolor": "white",
            "linecolor": "white",
            "ticks": ""
           },
           "bgcolor": "#E5ECF6",
           "radialaxis": {
            "gridcolor": "white",
            "linecolor": "white",
            "ticks": ""
           }
          },
          "scene": {
           "xaxis": {
            "backgroundcolor": "#E5ECF6",
            "gridcolor": "white",
            "gridwidth": 2,
            "linecolor": "white",
            "showbackground": true,
            "ticks": "",
            "zerolinecolor": "white"
           },
           "yaxis": {
            "backgroundcolor": "#E5ECF6",
            "gridcolor": "white",
            "gridwidth": 2,
            "linecolor": "white",
            "showbackground": true,
            "ticks": "",
            "zerolinecolor": "white"
           },
           "zaxis": {
            "backgroundcolor": "#E5ECF6",
            "gridcolor": "white",
            "gridwidth": 2,
            "linecolor": "white",
            "showbackground": true,
            "ticks": "",
            "zerolinecolor": "white"
           }
          },
          "shapedefaults": {
           "line": {
            "color": "#2a3f5f"
           }
          },
          "ternary": {
           "aaxis": {
            "gridcolor": "white",
            "linecolor": "white",
            "ticks": ""
           },
           "baxis": {
            "gridcolor": "white",
            "linecolor": "white",
            "ticks": ""
           },
           "bgcolor": "#E5ECF6",
           "caxis": {
            "gridcolor": "white",
            "linecolor": "white",
            "ticks": ""
           }
          },
          "title": {
           "x": 0.05
          },
          "xaxis": {
           "automargin": true,
           "gridcolor": "white",
           "linecolor": "white",
           "ticks": "",
           "title": {
            "standoff": 15
           },
           "zerolinecolor": "white",
           "zerolinewidth": 2
          },
          "yaxis": {
           "automargin": true,
           "gridcolor": "white",
           "linecolor": "white",
           "ticks": "",
           "title": {
            "standoff": 15
           },
           "zerolinecolor": "white",
           "zerolinewidth": 2
          }
         }
        },
        "title": {
         "text": "1st made gantt chart"
        },
        "xaxis": {
         "anchor": "y",
         "domain": [
          0,
          1
         ],
         "linecolor": "Black",
         "showgrid": true,
         "showline": true,
         "showticklabels": true,
         "side": "bottom",
         "tickangle": 0,
         "tickfont": {
          "size": 15
         },
         "tickformat": "%Y/%m/%d %H:%M",
         "title": {
          "text": "Time"
         },
         "type": "date",
         "zeroline": true
        },
        "yaxis": {
         "anchor": "x",
         "autorange": "reversed",
         "categoryarray": [
          "A-JOB-001",
          "A-JOB-011",
          "A-JOB-010",
          "A-JOB-002",
          "A-JOB-003",
          "A-JOB-012",
          "B-JOB-004",
          "B-JOB-013",
          "B-JOB-005",
          "B-JOB-014",
          "B-JOB-006",
          "B-JOB-015",
          "C-JOB-007",
          "C-JOB-008",
          "C-JOB-017",
          "C-JOB-016",
          "C-JOB-009",
          "C-JOB-018"
         ],
         "categoryorder": "array",
         "domain": [
          0,
          1
         ],
         "linecolor": "Black",
         "showgrid": true,
         "showline": true,
         "title": {
          "text": ""
         },
         "zeroline": true
        }
       }
      }
     },
     "metadata": {},
     "output_type": "display_data"
    }
   ],
   "source": [
    "# df = pd.DataFrame([\n",
    "#     dict(Resource=\"A\",Object=\"Job A\", Status=\"End\",Start='2023-07-29 10:00', Finish='2023-07-29 12:00'),\n",
    "#     dict(Resource=\"A\",Object=\"Job C\", Status=\"End\",Start='2023-07-30 13:05', Finish='2023-07-30 16:00'),\n",
    "#     dict(Resource=\"A\",Object=\"Job B\", Status=\"End\",Start='2023-07-29 11:15', Finish='2023-07-29 15:00'),\n",
    "#     dict(Resource=\"A\",Object=\"Job F\", Status=\"Abend\",Start='2023-07-29 11:15', Finish='2023-07-29 15:00'),\n",
    "#     dict(Resource=\"A\",Object=\"Job G\", Status=\"Abend\",Start='2023-07-29 11:15', Finish='2023-07-29 15:00'),\n",
    "#     dict(Resource=\"A\",Object=\"Job G\", Status=\"Abend\",Start='2023-07-29 14:15', Finish='2023-07-29 18:00'),\n",
    "#     dict(Resource=\"A\",Object=\"Job G\", Status=\"Abend\",Start='2023-07-29 19:15', Finish='2023-07-29 21:00'),\n",
    "#     dict(Resource=\"A\",Object=\"Job I\", Status=\"Abend\",Start='2023-07-29 21:15', Finish='2023-07-29 22:00'),\n",
    "#     dict(Resource=\"A\",Object=\"Job I\", Status=\"Abend\",Start='2023-07-29 14:15', Finish='2023-07-29 18:00'),\n",
    "#     dict(Resource=\"A\",Object=\"Job H\", Status=\"Abend\",Start='2023-07-29 11:15', Finish='2023-07-29 15:00'),\n",
    "#     dict(Resource=\"B\",Object=\"Job I\", Status=\"Abend\",Start='2023-07-29 13:12', Finish='2023-07-29 16:00'),\n",
    "#     dict(Resource=\"B\",Object=\"Job D\", Status=\"End\",Start='2023-07-31 13:12', Finish='2023-07-31 16:00'),\n",
    "#     dict(Resource=\"C\",Object=\"Job E\", Status=\"Abend\",Start='2023-07-29 14:03', Finish='2023-07-29 15:00')\n",
    "# ])\n",
    "\n",
    "# print(df.head(26))\n",
    "\n",
    "fig = px.timeline(\n",
    "    df,                                                 # DF to use \n",
    "    title=\"1st made gantt chart\",                       # tittle of this graph\n",
    "    x_start='Start', x_end='Finish',                    # the column name of DF to use star time & end time column\n",
    "    y='Key',\n",
    "    # y='Resource',\n",
    "    # y='Object',                                           # the column name of DF to use row name  \n",
    "    text='Object',                                        # the column name of DF to use display\n",
    "    # pattern_shape='Object',\n",
    "    opacity= 1,\n",
    "    color_discrete_map={'RUN': 'Blue','WAIT':'limegreen','DOWN':'red'},\n",
    "    # facet_row=\"Resource\",\n",
    "    # width=1200, height=600,\n",
    "    color='Status'                                      # the column name of DF to use color section\n",
    ")\n",
    "\n",
    "# 画面向けのConfig\n",
    "config = dict(\n",
    "    {'scrollZoom': True,\n",
    "        'displaylogo': False,\n",
    "        'modeBarButtonsToAdd': [\n",
    "        # 'drawline',  # 直線\n",
    "        'drawopenpath',  # 自由な線\n",
    "        # 'drawclosedpath',  # 閉じたフリーフォーム\n",
    "        # 'drawcircle',  # 円\n",
    "        # 'drawrect',  # 四角\n",
    "        'eraseshape',  # 図形の削除\n",
    "        'toggleSpikelines',  # ホバーしたプロットに垂直・水平な線\n",
    "        'hoverclosest',  # 直近のプロット1点をホバー\n",
    "        'hovercompare',  # 直近のプロットと同じxのプロット全点をホバー\n",
    "        ]\n",
    "        ,'edits': {\n",
    "        'axisTitleText': True,  # 軸ラベルの内容の変更を可能に\n",
    "        }\n",
    "    }\n",
    ")\n",
    "\n",
    "# text font\n",
    "fig.update_traces(width=1,textfont_size=10, textangle=0, textposition='inside', cliponaxis=False)\n",
    "\n",
    "# 全体のレイアウト修正\n",
    "fig.update_layout(\n",
    "    # showlegend=False,\n",
    "    legend_x=0.9,\n",
    "    clickmode='event+select',\n",
    "    dragmode='pan',\n",
    "\n",
    "    xaxis_title=\"Time\", \n",
    "    yaxis_title=\"\",\n",
    "\n",
    "    font_size=20,font_family = 'Arial',                 # グラフ全体のフォントサイズ変更\n",
    "    hoverlabel_bgcolor='#DAEEED',                       # Change the hover tooltip background color to a universal light blue color.\n",
    "    hoverlabel_font_size=15,\n",
    "    # textangle = -180,\n",
    "    # newshape_line_color='red',                          # \n",
    "    bargap=0,bargroupgap=0,\n",
    "    barmode=\"group\"                                     # チャートを並べて表示してくれる。                    \n",
    ")\n",
    "\n",
    "# 横軸のレイアウト修正\n",
    "fig.update_xaxes(\n",
    "    # setting of tick \n",
    "    showticklabels = True,side =\"bottom\",               # Place the tick labels on the top of the chart\n",
    "    tickfont_size=15, tickangle = 0,\n",
    "    tickformat='%Y/%m/%d %H:%M',                        # 横軸の書式を変更                                                        \n",
    "    # setting of line\n",
    "    showline = True,linecolor = 'Black',\n",
    "    zeroline = True,\n",
    "    showgrid = True,\n",
    "    type=\"date\",\n",
    "    # rangeslider=dict(                                   # グラフ下にレンジスライダーを追加\n",
    "    #     visible=True,\n",
    "    #     thickness=0.05\n",
    "    # ),                     \n",
    "    # rangeselector=dict(                                 # グラフ上にレンジセレクターを追加\n",
    "    #     # xanchor='center',x=1,\n",
    "    #     # yanchor='bottom',y=0,        \n",
    "    #     buttons=list([\n",
    "    #         dict(\n",
    "    #             count=3,                                # 数値\n",
    "    #             label='3h',                             # ボタンラベル\n",
    "    #             step='hour',                            # 単位\n",
    "    #             stepmode='backward'                     # 現時点より以前\n",
    "    #             # stepmode='todate'                     # 一番最初時点から   \n",
    "    #         ),\n",
    "    #         dict(\n",
    "    #             count=6,                                # 数値\n",
    "    #             label='6h',                             # ボタンラベル\n",
    "    #             step='hour',                            # 単位\n",
    "    #             stepmode='backward'                     # 現時点より以前\n",
    "    #         ),\n",
    "    #         dict(\n",
    "    #             count=12,                               # 数値\n",
    "    #             label='12h',                            # ボタンラベル\n",
    "    #             step='hour',                            # 単位\n",
    "    #             stepmode='backward'                     # 現時点より以前\n",
    "    #         ),\n",
    "    #         dict(\n",
    "    #             count=1,                                # 数値\n",
    "    #             label='1day',                           # ボタンラベル\n",
    "    #             step='day',                             # 単位\n",
    "    #             stepmode='backward'                     # 現時点より以前                \n",
    "    #         ),\n",
    "    #         dict(step='all')\n",
    "    #     ])\n",
    "    # )\n",
    ")\n",
    "\n",
    "# 縦軸のレイアウト修正\n",
    "fig.update_yaxes(\n",
    "    autorange='reversed',\n",
    "    categoryarray=df.sort_values(by=['Resource','Start'])['Key'],       # 並べたい順序を指定する。\n",
    "    categoryorder='array',                                              # Ccategoryarrayで指定した順番でソートするときに利用する。\n",
    "    # categoryorder='category ascending',\n",
    "    # gridcolor = 'Black',\n",
    "    showline = True,linecolor = 'Black',\n",
    "    zeroline = True,\n",
    "    showgrid = True\n",
    ")                  # 縦軸の向きを逆にする\n",
    "\n",
    "fig.show()\n",
    "\n",
    "pio.write_html(fig,file=\"./Gantt.html\",config=config)"
   ]
  },
  {
   "cell_type": "markdown",
   "metadata": {},
   "source": [
    "簡単なガントチャートならこっちでいいかも・・・"
   ]
  },
  {
   "cell_type": "code",
   "execution_count": 130,
   "metadata": {},
   "outputs": [
    {
     "data": {
      "application/vnd.plotly.v1+json": {
       "config": {
        "plotlyServerURL": "https://plot.ly"
       },
       "data": [
        {
         "fill": "toself",
         "fillcolor": "rgb(255, 127, 14)",
         "hoverinfo": "name",
         "legendgroup": "rgb(255, 127, 14)",
         "mode": "none",
         "name": "WAIT",
         "showlegend": false,
         "type": "scatter",
         "x": [
          "2023-07-30T08:58:00",
          "2023-07-30T10:24:00",
          "2023-07-30T10:24:00",
          "2023-07-30T08:58:00",
          "2023-07-30T08:58:00",
          "2023-07-30T09:18:00",
          "2023-07-30T15:45:00",
          "2023-07-30T15:45:00",
          "2023-07-30T09:18:00",
          "2023-07-30T09:18:00",
          "2023-07-30T09:25:00",
          "2023-07-30T10:24:00",
          "2023-07-30T10:24:00",
          "2023-07-30T09:25:00",
          "2023-07-30T09:25:00",
          "2023-07-30T09:28:00",
          "2023-07-30T14:34:00",
          "2023-07-30T14:34:00",
          "2023-07-30T09:28:00",
          "2023-07-30T09:28:00",
          "2023-07-30T09:16:00",
          "2023-07-30T13:57:00",
          "2023-07-30T13:57:00",
          "2023-07-30T09:16:00",
          "2023-07-30T09:16:00",
          "2023-07-30T09:27:00",
          "2023-07-30T13:42:00",
          "2023-07-30T13:42:00",
          "2023-07-30T09:27:00",
          "2023-07-30T09:27:00",
          "2023-07-30T09:38:00",
          "2023-07-30T19:08:00",
          "2023-07-30T19:08:00",
          "2023-07-30T09:38:00",
          "2023-07-30T09:38:00",
          "2023-07-30T09:57:00",
          "2023-07-30T12:44:00",
          "2023-07-30T12:44:00",
          "2023-07-30T09:57:00",
          "2023-07-30T09:57:00",
          "2023-07-30T09:00:00",
          "2023-07-30T23:00:00",
          "2023-07-30T23:00:00",
          "2023-07-30T09:00:00",
          "2023-07-30T09:00:00",
          "2023-07-30T09:15:00",
          "2023-07-31T09:02:00",
          "2023-07-31T09:02:00",
          "2023-07-30T09:15:00"
         ],
         "y": [
          -0.2,
          -0.2,
          0.2,
          0.2,
          null,
          0.8,
          0.8,
          1.2,
          1.2,
          null,
          2.8,
          2.8,
          3.2,
          3.2,
          null,
          3.8,
          3.8,
          4.2,
          4.2,
          null,
          6.8,
          6.8,
          7.2,
          7.2,
          null,
          7.8,
          7.8,
          8.2,
          8.2,
          null,
          9.8,
          9.8,
          10.2,
          10.2,
          null,
          10.8,
          10.8,
          11.2,
          11.2,
          null,
          11.8,
          11.8,
          12.2,
          12.2,
          null,
          13.8,
          13.8,
          14.2,
          14.2
         ]
        },
        {
         "fill": "toself",
         "fillcolor": "rgb(31, 119, 180)",
         "hoverinfo": "name",
         "legendgroup": "rgb(31, 119, 180)",
         "mode": "none",
         "name": "RUN",
         "showlegend": false,
         "type": "scatter",
         "x": [
          "2023-07-30T09:23:00",
          "2023-07-30T16:09:00",
          "2023-07-30T16:09:00",
          "2023-07-30T09:23:00",
          "2023-07-30T09:23:00",
          "2023-07-30T09:29:00",
          "2023-07-30T16:23:00",
          "2023-07-30T16:23:00",
          "2023-07-30T09:29:00",
          "2023-07-30T09:29:00",
          "2023-07-30T09:03:00",
          "2023-07-30T10:54:00",
          "2023-07-30T10:54:00",
          "2023-07-30T09:03:00",
          "2023-07-30T09:03:00",
          "2023-07-30T09:28:00",
          "2023-07-30T09:39:00",
          "2023-07-30T09:39:00",
          "2023-07-30T09:28:00",
          "2023-07-30T09:28:00",
          "2023-07-30T09:11:00",
          "2023-07-31T00:05:00",
          "2023-07-31T00:05:00",
          "2023-07-30T09:11:00",
          "2023-07-30T09:11:00",
          "2023-07-30T09:27:00",
          "2023-07-31T04:02:00",
          "2023-07-31T04:02:00",
          "2023-07-30T09:27:00",
          "2023-07-30T09:27:00",
          "2023-07-30T09:31:00",
          "2023-07-31T03:28:00",
          "2023-07-31T03:28:00",
          "2023-07-30T09:31:00",
          "2023-07-30T09:31:00",
          "2023-07-30T09:32:00",
          "2023-07-30T11:45:00",
          "2023-07-30T11:45:00",
          "2023-07-30T09:32:00"
         ],
         "y": [
          1.8,
          1.8,
          2.2,
          2.2,
          null,
          4.8,
          4.8,
          5.2,
          5.2,
          null,
          5.8,
          5.8,
          6.2,
          6.2,
          null,
          8.8,
          8.8,
          9.2,
          9.2,
          null,
          12.8,
          12.8,
          13.2,
          13.2,
          null,
          14.8,
          14.8,
          15.2,
          15.2,
          null,
          15.8,
          15.8,
          16.2,
          16.2,
          null,
          16.8,
          16.8,
          17.2,
          17.2
         ]
        },
        {
         "legendgroup": "rgb(255, 127, 14)",
         "marker": {
          "color": "rgb(255, 127, 14)",
          "opacity": 0,
          "size": 1
         },
         "mode": "markers",
         "name": "",
         "showlegend": false,
         "text": [
          null,
          null,
          null,
          null,
          null,
          null,
          null,
          null,
          null,
          null,
          null,
          null,
          null,
          null,
          null,
          null,
          null,
          null,
          null,
          null
         ],
         "type": "scatter",
         "x": [
          "2023-07-30T08:58:00",
          "2023-07-30T10:24:00",
          "2023-07-30T09:18:00",
          "2023-07-30T15:45:00",
          "2023-07-30T09:25:00",
          "2023-07-30T10:24:00",
          "2023-07-30T09:28:00",
          "2023-07-30T14:34:00",
          "2023-07-30T09:16:00",
          "2023-07-30T13:57:00",
          "2023-07-30T09:27:00",
          "2023-07-30T13:42:00",
          "2023-07-30T09:38:00",
          "2023-07-30T19:08:00",
          "2023-07-30T09:57:00",
          "2023-07-30T12:44:00",
          "2023-07-30T09:00:00",
          "2023-07-30T23:00:00",
          "2023-07-30T09:15:00",
          "2023-07-31T09:02:00"
         ],
         "y": [
          0,
          0,
          1,
          1,
          3,
          3,
          4,
          4,
          7,
          7,
          8,
          8,
          10,
          10,
          11,
          11,
          12,
          12,
          14,
          14
         ]
        },
        {
         "legendgroup": "rgb(31, 119, 180)",
         "marker": {
          "color": "rgb(31, 119, 180)",
          "opacity": 0,
          "size": 1
         },
         "mode": "markers",
         "name": "",
         "showlegend": false,
         "text": [
          null,
          null,
          null,
          null,
          null,
          null,
          null,
          null,
          null,
          null,
          null,
          null,
          null,
          null,
          null,
          null
         ],
         "type": "scatter",
         "x": [
          "2023-07-30T09:23:00",
          "2023-07-30T16:09:00",
          "2023-07-30T09:29:00",
          "2023-07-30T16:23:00",
          "2023-07-30T09:03:00",
          "2023-07-30T10:54:00",
          "2023-07-30T09:28:00",
          "2023-07-30T09:39:00",
          "2023-07-30T09:11:00",
          "2023-07-31T00:05:00",
          "2023-07-30T09:27:00",
          "2023-07-31T04:02:00",
          "2023-07-30T09:31:00",
          "2023-07-31T03:28:00",
          "2023-07-30T09:32:00",
          "2023-07-30T11:45:00"
         ],
         "y": [
          2,
          2,
          5,
          5,
          6,
          6,
          9,
          9,
          13,
          13,
          15,
          15,
          16,
          16,
          17,
          17
         ]
        }
       ],
       "layout": {
        "height": 600,
        "hovermode": "closest",
        "showlegend": false,
        "template": {
         "data": {
          "bar": [
           {
            "error_x": {
             "color": "#2a3f5f"
            },
            "error_y": {
             "color": "#2a3f5f"
            },
            "marker": {
             "line": {
              "color": "#E5ECF6",
              "width": 0.5
             },
             "pattern": {
              "fillmode": "overlay",
              "size": 10,
              "solidity": 0.2
             }
            },
            "type": "bar"
           }
          ],
          "barpolar": [
           {
            "marker": {
             "line": {
              "color": "#E5ECF6",
              "width": 0.5
             },
             "pattern": {
              "fillmode": "overlay",
              "size": 10,
              "solidity": 0.2
             }
            },
            "type": "barpolar"
           }
          ],
          "carpet": [
           {
            "aaxis": {
             "endlinecolor": "#2a3f5f",
             "gridcolor": "white",
             "linecolor": "white",
             "minorgridcolor": "white",
             "startlinecolor": "#2a3f5f"
            },
            "baxis": {
             "endlinecolor": "#2a3f5f",
             "gridcolor": "white",
             "linecolor": "white",
             "minorgridcolor": "white",
             "startlinecolor": "#2a3f5f"
            },
            "type": "carpet"
           }
          ],
          "choropleth": [
           {
            "colorbar": {
             "outlinewidth": 0,
             "ticks": ""
            },
            "type": "choropleth"
           }
          ],
          "contour": [
           {
            "colorbar": {
             "outlinewidth": 0,
             "ticks": ""
            },
            "colorscale": [
             [
              0,
              "#0d0887"
             ],
             [
              0.1111111111111111,
              "#46039f"
             ],
             [
              0.2222222222222222,
              "#7201a8"
             ],
             [
              0.3333333333333333,
              "#9c179e"
             ],
             [
              0.4444444444444444,
              "#bd3786"
             ],
             [
              0.5555555555555556,
              "#d8576b"
             ],
             [
              0.6666666666666666,
              "#ed7953"
             ],
             [
              0.7777777777777778,
              "#fb9f3a"
             ],
             [
              0.8888888888888888,
              "#fdca26"
             ],
             [
              1,
              "#f0f921"
             ]
            ],
            "type": "contour"
           }
          ],
          "contourcarpet": [
           {
            "colorbar": {
             "outlinewidth": 0,
             "ticks": ""
            },
            "type": "contourcarpet"
           }
          ],
          "heatmap": [
           {
            "colorbar": {
             "outlinewidth": 0,
             "ticks": ""
            },
            "colorscale": [
             [
              0,
              "#0d0887"
             ],
             [
              0.1111111111111111,
              "#46039f"
             ],
             [
              0.2222222222222222,
              "#7201a8"
             ],
             [
              0.3333333333333333,
              "#9c179e"
             ],
             [
              0.4444444444444444,
              "#bd3786"
             ],
             [
              0.5555555555555556,
              "#d8576b"
             ],
             [
              0.6666666666666666,
              "#ed7953"
             ],
             [
              0.7777777777777778,
              "#fb9f3a"
             ],
             [
              0.8888888888888888,
              "#fdca26"
             ],
             [
              1,
              "#f0f921"
             ]
            ],
            "type": "heatmap"
           }
          ],
          "heatmapgl": [
           {
            "colorbar": {
             "outlinewidth": 0,
             "ticks": ""
            },
            "colorscale": [
             [
              0,
              "#0d0887"
             ],
             [
              0.1111111111111111,
              "#46039f"
             ],
             [
              0.2222222222222222,
              "#7201a8"
             ],
             [
              0.3333333333333333,
              "#9c179e"
             ],
             [
              0.4444444444444444,
              "#bd3786"
             ],
             [
              0.5555555555555556,
              "#d8576b"
             ],
             [
              0.6666666666666666,
              "#ed7953"
             ],
             [
              0.7777777777777778,
              "#fb9f3a"
             ],
             [
              0.8888888888888888,
              "#fdca26"
             ],
             [
              1,
              "#f0f921"
             ]
            ],
            "type": "heatmapgl"
           }
          ],
          "histogram": [
           {
            "marker": {
             "pattern": {
              "fillmode": "overlay",
              "size": 10,
              "solidity": 0.2
             }
            },
            "type": "histogram"
           }
          ],
          "histogram2d": [
           {
            "colorbar": {
             "outlinewidth": 0,
             "ticks": ""
            },
            "colorscale": [
             [
              0,
              "#0d0887"
             ],
             [
              0.1111111111111111,
              "#46039f"
             ],
             [
              0.2222222222222222,
              "#7201a8"
             ],
             [
              0.3333333333333333,
              "#9c179e"
             ],
             [
              0.4444444444444444,
              "#bd3786"
             ],
             [
              0.5555555555555556,
              "#d8576b"
             ],
             [
              0.6666666666666666,
              "#ed7953"
             ],
             [
              0.7777777777777778,
              "#fb9f3a"
             ],
             [
              0.8888888888888888,
              "#fdca26"
             ],
             [
              1,
              "#f0f921"
             ]
            ],
            "type": "histogram2d"
           }
          ],
          "histogram2dcontour": [
           {
            "colorbar": {
             "outlinewidth": 0,
             "ticks": ""
            },
            "colorscale": [
             [
              0,
              "#0d0887"
             ],
             [
              0.1111111111111111,
              "#46039f"
             ],
             [
              0.2222222222222222,
              "#7201a8"
             ],
             [
              0.3333333333333333,
              "#9c179e"
             ],
             [
              0.4444444444444444,
              "#bd3786"
             ],
             [
              0.5555555555555556,
              "#d8576b"
             ],
             [
              0.6666666666666666,
              "#ed7953"
             ],
             [
              0.7777777777777778,
              "#fb9f3a"
             ],
             [
              0.8888888888888888,
              "#fdca26"
             ],
             [
              1,
              "#f0f921"
             ]
            ],
            "type": "histogram2dcontour"
           }
          ],
          "mesh3d": [
           {
            "colorbar": {
             "outlinewidth": 0,
             "ticks": ""
            },
            "type": "mesh3d"
           }
          ],
          "parcoords": [
           {
            "line": {
             "colorbar": {
              "outlinewidth": 0,
              "ticks": ""
             }
            },
            "type": "parcoords"
           }
          ],
          "pie": [
           {
            "automargin": true,
            "type": "pie"
           }
          ],
          "scatter": [
           {
            "fillpattern": {
             "fillmode": "overlay",
             "size": 10,
             "solidity": 0.2
            },
            "type": "scatter"
           }
          ],
          "scatter3d": [
           {
            "line": {
             "colorbar": {
              "outlinewidth": 0,
              "ticks": ""
             }
            },
            "marker": {
             "colorbar": {
              "outlinewidth": 0,
              "ticks": ""
             }
            },
            "type": "scatter3d"
           }
          ],
          "scattercarpet": [
           {
            "marker": {
             "colorbar": {
              "outlinewidth": 0,
              "ticks": ""
             }
            },
            "type": "scattercarpet"
           }
          ],
          "scattergeo": [
           {
            "marker": {
             "colorbar": {
              "outlinewidth": 0,
              "ticks": ""
             }
            },
            "type": "scattergeo"
           }
          ],
          "scattergl": [
           {
            "marker": {
             "colorbar": {
              "outlinewidth": 0,
              "ticks": ""
             }
            },
            "type": "scattergl"
           }
          ],
          "scattermapbox": [
           {
            "marker": {
             "colorbar": {
              "outlinewidth": 0,
              "ticks": ""
             }
            },
            "type": "scattermapbox"
           }
          ],
          "scatterpolar": [
           {
            "marker": {
             "colorbar": {
              "outlinewidth": 0,
              "ticks": ""
             }
            },
            "type": "scatterpolar"
           }
          ],
          "scatterpolargl": [
           {
            "marker": {
             "colorbar": {
              "outlinewidth": 0,
              "ticks": ""
             }
            },
            "type": "scatterpolargl"
           }
          ],
          "scatterternary": [
           {
            "marker": {
             "colorbar": {
              "outlinewidth": 0,
              "ticks": ""
             }
            },
            "type": "scatterternary"
           }
          ],
          "surface": [
           {
            "colorbar": {
             "outlinewidth": 0,
             "ticks": ""
            },
            "colorscale": [
             [
              0,
              "#0d0887"
             ],
             [
              0.1111111111111111,
              "#46039f"
             ],
             [
              0.2222222222222222,
              "#7201a8"
             ],
             [
              0.3333333333333333,
              "#9c179e"
             ],
             [
              0.4444444444444444,
              "#bd3786"
             ],
             [
              0.5555555555555556,
              "#d8576b"
             ],
             [
              0.6666666666666666,
              "#ed7953"
             ],
             [
              0.7777777777777778,
              "#fb9f3a"
             ],
             [
              0.8888888888888888,
              "#fdca26"
             ],
             [
              1,
              "#f0f921"
             ]
            ],
            "type": "surface"
           }
          ],
          "table": [
           {
            "cells": {
             "fill": {
              "color": "#EBF0F8"
             },
             "line": {
              "color": "white"
             }
            },
            "header": {
             "fill": {
              "color": "#C8D4E3"
             },
             "line": {
              "color": "white"
             }
            },
            "type": "table"
           }
          ]
         },
         "layout": {
          "annotationdefaults": {
           "arrowcolor": "#2a3f5f",
           "arrowhead": 0,
           "arrowwidth": 1
          },
          "autotypenumbers": "strict",
          "coloraxis": {
           "colorbar": {
            "outlinewidth": 0,
            "ticks": ""
           }
          },
          "colorscale": {
           "diverging": [
            [
             0,
             "#8e0152"
            ],
            [
             0.1,
             "#c51b7d"
            ],
            [
             0.2,
             "#de77ae"
            ],
            [
             0.3,
             "#f1b6da"
            ],
            [
             0.4,
             "#fde0ef"
            ],
            [
             0.5,
             "#f7f7f7"
            ],
            [
             0.6,
             "#e6f5d0"
            ],
            [
             0.7,
             "#b8e186"
            ],
            [
             0.8,
             "#7fbc41"
            ],
            [
             0.9,
             "#4d9221"
            ],
            [
             1,
             "#276419"
            ]
           ],
           "sequential": [
            [
             0,
             "#0d0887"
            ],
            [
             0.1111111111111111,
             "#46039f"
            ],
            [
             0.2222222222222222,
             "#7201a8"
            ],
            [
             0.3333333333333333,
             "#9c179e"
            ],
            [
             0.4444444444444444,
             "#bd3786"
            ],
            [
             0.5555555555555556,
             "#d8576b"
            ],
            [
             0.6666666666666666,
             "#ed7953"
            ],
            [
             0.7777777777777778,
             "#fb9f3a"
            ],
            [
             0.8888888888888888,
             "#fdca26"
            ],
            [
             1,
             "#f0f921"
            ]
           ],
           "sequentialminus": [
            [
             0,
             "#0d0887"
            ],
            [
             0.1111111111111111,
             "#46039f"
            ],
            [
             0.2222222222222222,
             "#7201a8"
            ],
            [
             0.3333333333333333,
             "#9c179e"
            ],
            [
             0.4444444444444444,
             "#bd3786"
            ],
            [
             0.5555555555555556,
             "#d8576b"
            ],
            [
             0.6666666666666666,
             "#ed7953"
            ],
            [
             0.7777777777777778,
             "#fb9f3a"
            ],
            [
             0.8888888888888888,
             "#fdca26"
            ],
            [
             1,
             "#f0f921"
            ]
           ]
          },
          "colorway": [
           "#636efa",
           "#EF553B",
           "#00cc96",
           "#ab63fa",
           "#FFA15A",
           "#19d3f3",
           "#FF6692",
           "#B6E880",
           "#FF97FF",
           "#FECB52"
          ],
          "font": {
           "color": "#2a3f5f"
          },
          "geo": {
           "bgcolor": "white",
           "lakecolor": "white",
           "landcolor": "#E5ECF6",
           "showlakes": true,
           "showland": true,
           "subunitcolor": "white"
          },
          "hoverlabel": {
           "align": "left"
          },
          "hovermode": "closest",
          "mapbox": {
           "style": "light"
          },
          "paper_bgcolor": "white",
          "plot_bgcolor": "#E5ECF6",
          "polar": {
           "angularaxis": {
            "gridcolor": "white",
            "linecolor": "white",
            "ticks": ""
           },
           "bgcolor": "#E5ECF6",
           "radialaxis": {
            "gridcolor": "white",
            "linecolor": "white",
            "ticks": ""
           }
          },
          "scene": {
           "xaxis": {
            "backgroundcolor": "#E5ECF6",
            "gridcolor": "white",
            "gridwidth": 2,
            "linecolor": "white",
            "showbackground": true,
            "ticks": "",
            "zerolinecolor": "white"
           },
           "yaxis": {
            "backgroundcolor": "#E5ECF6",
            "gridcolor": "white",
            "gridwidth": 2,
            "linecolor": "white",
            "showbackground": true,
            "ticks": "",
            "zerolinecolor": "white"
           },
           "zaxis": {
            "backgroundcolor": "#E5ECF6",
            "gridcolor": "white",
            "gridwidth": 2,
            "linecolor": "white",
            "showbackground": true,
            "ticks": "",
            "zerolinecolor": "white"
           }
          },
          "shapedefaults": {
           "line": {
            "color": "#2a3f5f"
           }
          },
          "ternary": {
           "aaxis": {
            "gridcolor": "white",
            "linecolor": "white",
            "ticks": ""
           },
           "baxis": {
            "gridcolor": "white",
            "linecolor": "white",
            "ticks": ""
           },
           "bgcolor": "#E5ECF6",
           "caxis": {
            "gridcolor": "white",
            "linecolor": "white",
            "ticks": ""
           }
          },
          "title": {
           "x": 0.05
          },
          "xaxis": {
           "automargin": true,
           "gridcolor": "white",
           "linecolor": "white",
           "ticks": "",
           "title": {
            "standoff": 15
           },
           "zerolinecolor": "white",
           "zerolinewidth": 2
          },
          "yaxis": {
           "automargin": true,
           "gridcolor": "white",
           "linecolor": "white",
           "ticks": "",
           "title": {
            "standoff": 15
           },
           "zerolinecolor": "white",
           "zerolinewidth": 2
          }
         }
        },
        "title": {
         "text": "Gantt Chart"
        },
        "xaxis": {
         "rangeselector": {
          "buttons": [
           {
            "count": 7,
            "label": "1w",
            "step": "day",
            "stepmode": "backward"
           },
           {
            "count": 1,
            "label": "1m",
            "step": "month",
            "stepmode": "backward"
           },
           {
            "count": 6,
            "label": "6m",
            "step": "month",
            "stepmode": "backward"
           },
           {
            "count": 1,
            "label": "YTD",
            "step": "year",
            "stepmode": "todate"
           },
           {
            "count": 1,
            "label": "1y",
            "step": "year",
            "stepmode": "backward"
           },
           {
            "step": "all"
           }
          ]
         },
         "showgrid": false,
         "type": "date",
         "zeroline": false
        },
        "yaxis": {
         "autorange": false,
         "range": [
          -1,
          19
         ],
         "showgrid": false,
         "ticktext": [
          "JOB-001",
          "JOB-011",
          "JOB-010",
          "JOB-002",
          "JOB-003",
          "JOB-012",
          "JOB-004",
          "JOB-013",
          "JOB-005",
          "JOB-014",
          "JOB-006",
          "JOB-015",
          "JOB-007",
          "JOB-008",
          "JOB-017",
          "JOB-016",
          "JOB-009",
          "JOB-018"
         ],
         "tickvals": [
          0,
          1,
          2,
          3,
          4,
          5,
          6,
          7,
          8,
          9,
          10,
          11,
          12,
          13,
          14,
          15,
          16,
          17
         ],
         "zeroline": false
        }
       }
      }
     },
     "metadata": {},
     "output_type": "display_data"
    }
   ],
   "source": [
    "import plotly.figure_factory as ff\n",
    "\n",
    "fig = ff.create_gantt(df, index_col='Status',bar_width=0.2)\n",
    "fig.show()\n"
   ]
  },
  {
   "cell_type": "code",
   "execution_count": null,
   "metadata": {},
   "outputs": [],
   "source": []
  }
 ],
 "metadata": {
  "kernelspec": {
   "display_name": "Python 3",
   "language": "python",
   "name": "python3"
  },
  "language_info": {
   "codemirror_mode": {
    "name": "ipython",
    "version": 3
   },
   "file_extension": ".py",
   "mimetype": "text/x-python",
   "name": "python",
   "nbconvert_exporter": "python",
   "pygments_lexer": "ipython3",
   "version": "3.10.5"
  },
  "orig_nbformat": 4,
  "vscode": {
   "interpreter": {
    "hash": "302eb6b7991d9250228386f0be687ac4ce423e05a82923fc07bef1035868863d"
   }
  }
 },
 "nbformat": 4,
 "nbformat_minor": 2
}
