{
 "cells": [
  {
   "attachments": {},
   "cell_type": "markdown",
   "metadata": {},
   "source": [
    "### 1.Yahooファイナンスから配当金ランキング取得"
   ]
  },
  {
   "cell_type": "code",
   "execution_count": 15,
   "metadata": {},
   "outputs": [],
   "source": [
    "# Make \"StockDevidendYield.csv\" from Yahoo Finance Japan\n",
    "import csv\n",
    "import re\n",
    "\n",
    "# import numpy as np\n",
    "# import pandas as pd\n",
    "import requests\n",
    "from bs4 import BeautifulSoup\n",
    "\n",
    "# Get Web Page\n",
    "load_url = \"https://finance.yahoo.co.jp/stocks/ranking/dividendYield\"\n",
    "html = requests.get(load_url)\n",
    "soup = BeautifulSoup(html.content,\"html.parser\")\n",
    "\n",
    "# Get Table \n",
    "stocklist = soup.find(class_=\"zvh5L2Gz\")\n",
    "namelist = stocklist.find_all(class_=\"_1GwpkGwB\")\n",
    "\n",
    "# Make Csv\n",
    "header = ['name','DevidendYield']\n",
    "filename = \"StockDevidendYield.csv\"\n",
    "with open(filename,\"w\", newline=\"\") as f:\n",
    "    writer = csv.writer(f)\n",
    "    writer.writerow(header)\n",
    "    for element in stocklist.find_all(class_=\"_1GwpkGwB\"):\n",
    "        # Get Stock Name by href (if change the html archetecture you need to revice)\n",
    "        name = element.find(href=re.compile(\"https://finance.yahoo.co.jp/quote/\")).text\n",
    "        # Get yield by class (if change the class_name you need to revice)\n",
    "        devidendyield = element.find(class_=\"P452zeXX i9grwWp1 _2Iu2a9lx\").text\n",
    "        writer.writerow([name, devidendyield])\n"
   ]
  },
  {
   "cell_type": "code",
   "execution_count": 21,
   "metadata": {},
   "outputs": [
    {
     "name": "stdout",
     "output_type": "stream",
     "text": [
      "<h2>売上高</h2>\n",
      "<dl class=\"gdl\"><dt>2008/03</dt><dd><span class=\"ratio\" style=\"width:100%;\"></span><span class=\"text\">1兆9456億</span></dd><dt><a href=\"/E04236/S0003C33/pl\" title=\"有価証券報告書 - 業績\">2009/03</a><span class=\"co_br\"> -4.11%</span></dt><dd><span class=\"ratio\" style=\"width:96%;\"></span><span class=\"text\">1兆8658億</span></dd><dt><a href=\"/E04236/S0005YPL/pl\" title=\"有価証券報告書 - 業績\">2010/03</a><span class=\"co_br\"> -27.75%</span></dt><dd><span class=\"ratio\" style=\"width:69%;\"></span><span class=\"text\">1兆3479億</span></dd><dt><a href=\"/E04236/S0008KEH/pl\" title=\"有価証券報告書 - 業績\">2011/03</a><span class=\"co_red\"> +14.52%</span></dt><dd><span class=\"ratio\" style=\"width:79%;\"></span><span class=\"text\">1兆5436億</span></dd><dt><a href=\"/E04236/S000B3WI/pl\" title=\"有価証券報告書 - 業績\">2012/03</a><span class=\"co_br\"> -7.02%</span></dt><dd><span class=\"ratio\" style=\"width:74%;\"></span><span class=\"text\">1兆4352億</span></dd><dt><a href=\"/E04236/S000DMQW/pl\" title=\"有価証券報告書 - 業績\">2013/03</a><span class=\"co_red\"> +5.15%</span></dt><dd><span class=\"ratio\" style=\"width:78%;\"></span><span class=\"text\">1兆5091億</span></dd><dt><a href=\"/E04236/S10024P3/pl\" title=\"有価証券報告書 - 業績\">2014/03</a><span class=\"co_red\"> +14.59%</span></dt><dd><span class=\"ratio\" style=\"width:89%;\"></span><span class=\"text\">1兆7294億</span></dd><dt><a href=\"/E04236/S10051CA/pl\" title=\"有価証券報告書 - 業績\">2015/03</a><span class=\"co_red\"> +5.07%</span></dt><dd><span class=\"ratio\" style=\"width:93%;\"></span><span class=\"text\">1兆8170億</span></dd><dt><a href=\"/E04236/S1007ROL/pl\" title=\"有価証券報告書 - 業績\">2016/03</a><span class=\"co_br\"> -5.77%</span></dt><dd><span class=\"ratio\" style=\"width:88%;\"></span><span class=\"text\">1兆7122億</span></dd><dt><a href=\"/E04236/S100ALTF/pl\" title=\"有価証券報告書 - 業績\">2017/03</a><span class=\"co_br\"> -12.14%</span></dt><dd><span class=\"ratio\" style=\"width:77%;\"></span><span class=\"text\">1兆5043億</span></dd><dt><a href=\"/E04236/S100DBJ1/pl\" title=\"有価証券報告書 - 業績\">2018/03</a><span class=\"co_red\"> +9.84%</span></dt><dd><span class=\"ratio\" style=\"width:85%;\"></span><span class=\"text\">1兆6523億</span></dd><dt><a href=\"/E04236/S100G7SC/pl\" title=\"有価証券報告書 - 業績\">2019/03</a><span class=\"co_br\"> -25.32%</span></dt><dd><span class=\"ratio\" style=\"width:63%;\"></span><span class=\"text\">1兆2340億</span></dd><dt><a href=\"/E04236/S100IW06/pl\" title=\"有価証券報告書 - 業績\">2020/03</a><span class=\"co_br\"> -6.38%</span></dt><dd><span class=\"ratio\" style=\"width:59%;\"></span><span class=\"text\">1兆1554億</span></dd><dt><a href=\"/E04236/S100LL1R/pl\" title=\"有価証券報告書 - 業績\">2021/03</a><span class=\"co_br\"> -14.19%</span></dt><dd><span class=\"ratio\" style=\"width:51%;\"></span><span class=\"text\">9914億2600万</span></dd><dt><a href=\"/E04236/S100OAA8/pl\" title=\"有価証券報告書 - 業績\">2022/03</a><span class=\"co_red\"> +28.03%</span></dt><dd><span class=\"ratio\" style=\"width:65%;\"></span><span class=\"text\">1兆2693億</span></dd><dt><a href=\"/E04236/081220230130595721#c_forecast\" title=\"2023年3月期第3四半期決算短信〔日本基準〕(連結)\">2023/03</a><span class=\"co_gr\">予</span><span class=\"co_red\"> +26.05%</span></dt><dd><span class=\"exp\" style=\"width:82%;\"></span><span class=\"text\">1兆6000億</span></dd></dl>\n"
     ]
    }
   ],
   "source": [
    "# Make \"StockDevidendYield.csv\" from Yahoo Finance Japan\n",
    "import csv\n",
    "import re\n",
    "\n",
    "# import numpy as np\n",
    "# import pandas as pd\n",
    "import requests\n",
    "from bs4 import BeautifulSoup\n",
    "\n",
    "# Get Web Page\n",
    "load_url = \"https://irbank.net/E04236/results\"\n",
    "html = requests.get(load_url)\n",
    "soup = BeautifulSoup(html.content,\"html.parser\")\n",
    "\n",
    "# Get Table \n",
    "companytable = soup.find(id=\"c_1\")\n",
    "namelist = companytable.find_all(class_=\"_1GwpkGwB\")\n",
    "\n",
    "# print(companytable)\n",
    "for i in companytable.:\n",
    "    print(i)\n",
    "\n",
    "# Make Csv\n",
    "# header = ['name','DevidendYield']\n",
    "# filename = \"StockDevidendYield.csv\"\n",
    "# with open(filename,\"w\", newline=\"\") as f:\n",
    "#     writer = csv.writer(f)\n",
    "#     writer.writerow(header)\n",
    "#     for element in stocklist.find_all(class_=\"_1GwpkGwB\"):\n",
    "#         # Get Stock Name by href (if change the html archetecture you need to revice)\n",
    "#         name = element.find(href=re.compile(\"https://finance.yahoo.co.jp/quote/\")).text\n",
    "#         # Get yield by class (if change the class_name you need to revice)\n",
    "#         devidendyield = element.find(class_=\"P452zeXX i9grwWp1 _2Iu2a9lx\").text\n",
    "#         writer.writerow([name, devidendyield])\n"
   ]
  }
 ],
 "metadata": {
  "kernelspec": {
   "display_name": "Python 3",
   "language": "python",
   "name": "python3"
  },
  "language_info": {
   "codemirror_mode": {
    "name": "ipython",
    "version": 3
   },
   "file_extension": ".py",
   "mimetype": "text/x-python",
   "name": "python",
   "nbconvert_exporter": "python",
   "pygments_lexer": "ipython3",
   "version": "3.10.5"
  },
  "orig_nbformat": 4,
  "vscode": {
   "interpreter": {
    "hash": "302eb6b7991d9250228386f0be687ac4ce423e05a82923fc07bef1035868863d"
   }
  }
 },
 "nbformat": 4,
 "nbformat_minor": 2
}
