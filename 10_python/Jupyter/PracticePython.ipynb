{
 "cells": [
  {
   "cell_type": "code",
   "execution_count": 2,
   "metadata": {},
   "outputs": [
    {
     "ename": "SyntaxError",
     "evalue": "invalid syntax (2535859746.py, line 8)",
     "output_type": "error",
     "traceback": [
      "\u001b[1;36m  Input \u001b[1;32mIn [2]\u001b[1;36m\u001b[0m\n\u001b[1;33m    pip install --U requests\u001b[0m\n\u001b[1;37m        ^\u001b[0m\n\u001b[1;31mSyntaxError\u001b[0m\u001b[1;31m:\u001b[0m invalid syntax\n"
     ]
    }
   ],
   "source": [
    "## https://teratail.com/questions/338233\n",
    "## 利用しているディレクトリ情報を見る。\n",
    "\n",
    "import sys\n",
    "print(sys.executable)\n",
    "\n",
    "## Package Install\n",
    "pip install -U requests"
   ]
  },
  {
   "cell_type": "code",
   "execution_count": 8,
   "metadata": {},
   "outputs": [
    {
     "ename": "ModuleNotFoundError",
     "evalue": "No module named 'GetAzureAccessToken'",
     "output_type": "error",
     "traceback": [
      "\u001b[1;31m---------------------------------------------------------------------------\u001b[0m",
      "\u001b[1;31mModuleNotFoundError\u001b[0m                       Traceback (most recent call last)",
      "\u001b[1;32mc:\\Users\\nishi\\OneDrive\\ドキュメント\\10.LIFE\\15_Source\\10_python\\PracticePython.ipynb Cell 2'\u001b[0m in \u001b[0;36m<cell line: 5>\u001b[1;34m()\u001b[0m\n\u001b[0;32m      <a href='vscode-notebook-cell:/c%3A/Users/nishi/OneDrive/%E3%83%89%E3%82%AD%E3%83%A5%E3%83%A1%E3%83%B3%E3%83%88/10.LIFE/15_Source/10_python/PracticePython.ipynb#ch0000001?line=2'>3</a>\u001b[0m \u001b[39mimport\u001b[39;00m \u001b[39margparse\u001b[39;00m\n\u001b[0;32m      <a href='vscode-notebook-cell:/c%3A/Users/nishi/OneDrive/%E3%83%89%E3%82%AD%E3%83%A5%E3%83%A1%E3%83%B3%E3%83%88/10.LIFE/15_Source/10_python/PracticePython.ipynb#ch0000001?line=3'>4</a>\u001b[0m \u001b[39mimport\u001b[39;00m \u001b[39mtime\u001b[39;00m\n\u001b[1;32m----> <a href='vscode-notebook-cell:/c%3A/Users/nishi/OneDrive/%E3%83%89%E3%82%AD%E3%83%A5%E3%83%A1%E3%83%B3%E3%83%88/10.LIFE/15_Source/10_python/PracticePython.ipynb#ch0000001?line=4'>5</a>\u001b[0m \u001b[39mfrom\u001b[39;00m \u001b[39mGetAzureAccessToken\u001b[39;00m \u001b[39mimport\u001b[39;00m get_azure_access_token  \u001b[39m# Azureアクセスのためのアクセストークンの取得オリジナル関数\u001b[39;00m\n\u001b[0;32m      <a href='vscode-notebook-cell:/c%3A/Users/nishi/OneDrive/%E3%83%89%E3%82%AD%E3%83%A5%E3%83%A1%E3%83%B3%E3%83%88/10.LIFE/15_Source/10_python/PracticePython.ipynb#ch0000001?line=7'>8</a>\u001b[0m \u001b[39m# 全User情報の取得\u001b[39;00m\n\u001b[0;32m      <a href='vscode-notebook-cell:/c%3A/Users/nishi/OneDrive/%E3%83%89%E3%82%AD%E3%83%A5%E3%83%A1%E3%83%B3%E3%83%88/10.LIFE/15_Source/10_python/PracticePython.ipynb#ch0000001?line=8'>9</a>\u001b[0m \u001b[39mdef\u001b[39;00m \u001b[39mget_ad_all_groups\u001b[39m(access_token):\n\u001b[0;32m     <a href='vscode-notebook-cell:/c%3A/Users/nishi/OneDrive/%E3%83%89%E3%82%AD%E3%83%A5%E3%83%A1%E3%83%B3%E3%83%88/10.LIFE/15_Source/10_python/PracticePython.ipynb#ch0000001?line=9'>10</a>\u001b[0m \n\u001b[0;32m     <a href='vscode-notebook-cell:/c%3A/Users/nishi/OneDrive/%E3%83%89%E3%82%AD%E3%83%A5%E3%83%A1%E3%83%B3%E3%83%88/10.LIFE/15_Source/10_python/PracticePython.ipynb#ch0000001?line=10'>11</a>\u001b[0m     \u001b[39m# Microsoft Graphを実行するためのヘッダ情報\u001b[39;00m\n",
      "\u001b[1;31mModuleNotFoundError\u001b[0m: No module named 'GetAzureAccessToken'"
     ]
    }
   ],
   "source": [
    "import json\n",
    "import requests\n",
    "import argparse\n",
    "import time\n",
    "from GetAzureAccessToken import get_azure_access_token\n",
    "  # Azureアクセスのためのアクセストークンの取得オリジナル関数\n",
    "\n",
    "\n",
    "# 全User情報の取得\n",
    "def get_ad_all_groups(access_token):\n",
    "\n",
    "    # Microsoft Graphを実行するためのヘッダ情報\n",
    "    headers = {\n",
    "        'Authorization': 'Bearer %s' % access_token\n",
    "    }\n",
    "\n",
    "    # 全グループの id, ddisplayName, mail の取得のURL\n",
    "    UsersGet_URL = \"https://graph.microsoft.com/v1.0/groups?$count=true&$select=id,displayName,mail&$orderby=displayName\"\n",
    "\n",
    "    # 全Users情報取得のGetリクエスト\n",
    "    res1 = requests.get(\n",
    "        UsersGet_URL,\n",
    "        headers=headers\n",
    "    )\n",
    "    # requrest処理をクローズする\n",
    "    res1.close\n",
    "\n",
    "    # res1をjsonファイルに整形しユーザ情報の取得\n",
    "    print(\"取得した全グループ情報：\")\n",
    "    for num, item in enumerate(res1.json()['value']):\n",
    "        print(item)\n",
    "\n",
    "    return num+1\n",
    "\n",
    "\n",
    "parser = argparse.ArgumentParser(description='AzureActiveDirectoryの全Group情報の取得')\n",
    "args = parser.parse_args()\n",
    "\n",
    "start = time.time()\n",
    "access_token = get_azure_access_token()\n",
    "num = get_ad_all_groups(access_token)\n",
    "get_time = time.time() - start\n",
    "\n",
    "print(\"\")\n",
    "print(f\"全グループ数:{num}\")\n",
    "print(\"取得時間:{0}\".format(get_time) + \" [sec]\")\n",
    "print(\"\")"
   ]
  },
  {
   "cell_type": "code",
   "execution_count": 5,
   "metadata": {},
   "outputs": [
    {
     "ename": "SyntaxError",
     "evalue": "invalid syntax (1305088797.py, line 1)",
     "output_type": "error",
     "traceback": [
      "\u001b[1;36m  Input \u001b[1;32mIn [5]\u001b[1;36m\u001b[0m\n\u001b[1;33m    pip install requests\u001b[0m\n\u001b[1;37m        ^\u001b[0m\n\u001b[1;31mSyntaxError\u001b[0m\u001b[1;31m:\u001b[0m invalid syntax\n"
     ]
    }
   ],
   "source": [
    "import requests\n",
    "\n",
    "url = \"http://www.ymori.com/books/python2nen/testl.html\"\n",
    "response = requests.get(url)\n",
    "\n",
    "response.encoding = response.apparent_encoding\n",
    "\n",
    "print(response.text)"
   ]
  },
  {
   "cell_type": "code",
   "execution_count": null,
   "metadata": {},
   "outputs": [],
   "source": [
    "def words_order(text: str, words: list) -> bool:\n",
    "    # your code here\n",
    "    print(text)\n",
    "    tex\n",
    "    return False\n",
    "\n",
    "\n",
    "if __name__ == \"__main__\":\n",
    "    print(\"Example:\")\n",
    "    print(words_order(\"hi world im here\", [\"world\", \"here\"]))\n",
    "\n",
    "    # These \"asserts\" are used for self-checking and not for an auto-testing\n",
    "    assert words_order(\"hi world im here\", [\"world\", \"here\"]) == True\n",
    "    assert words_order(\"hi world im here\", [\"here\", \"world\"]) == False\n",
    "    assert words_order(\"hi world im here\", [\"world\"]) == True\n",
    "    assert words_order(\"hi world im here\", [\"world\", \"here\", \"hi\"]) == False\n",
    "    assert words_order(\"hi world im here\", [\"world\", \"im\", \"here\"]) == True\n",
    "    assert words_order(\"hi world im here\", [\"world\", \"hi\", \"here\"]) == False\n",
    "    assert words_order(\"hi world im here\", [\"world\", \"world\"]) == False\n",
    "    assert words_order(\"hi world im here\", [\"country\", \"world\"]) == False\n",
    "    assert words_order(\"hi world im here\", [\"wo\", \"rld\"]) == False\n",
    "    assert words_order(\"\", [\"world\", \"here\"]) == False\n",
    "    print(\"Coding complete? Click 'Check' to earn cool rewards!\")\n"
   ]
  },
  {
   "cell_type": "code",
   "execution_count": null,
   "metadata": {},
   "outputs": [],
   "source": [
    "import requests\n",
    "import time\n",
    "from bs4 import BeautifulSoup\n",
    "\n",
    "response = requests.get('https://toiguru.jp/toeic-vocabulary-list#smoothplay1')\n",
    "\n",
    "soup = BeautifulSoup(response.text,'lxml')\n",
    "\n",
    "words = soup.findAll('td')\n",
    "for word in words:\n",
    " #不要なものを空白に置き換える。\n",
    "    word = str(words).replace('<td>', '').replace('</td>', '').replace('<br/>', ':')\n",
    "    f = open('english_words.txt', 'w',encoding='UTF-8')\n",
    "    f.write(word)\n",
    "    f.close()\n",
    "    print(word)\n",
    " #スクレイピングマナー   \n",
    "    time.sleep(1) "
   ]
  }
 ],
 "metadata": {
  "kernelspec": {
   "display_name": "Python 3.10.5 64-bit",
   "language": "python",
   "name": "python3"
  },
  "language_info": {
   "codemirror_mode": {
    "name": "ipython",
    "version": 3
   },
   "file_extension": ".py",
   "mimetype": "text/x-python",
   "name": "python",
   "nbconvert_exporter": "python",
   "pygments_lexer": "ipython3",
   "version": "3.10.5"
  },
  "orig_nbformat": 4,
  "vscode": {
   "interpreter": {
    "hash": "302eb6b7991d9250228386f0be687ac4ce423e05a82923fc07bef1035868863d"
   }
  }
 },
 "nbformat": 4,
 "nbformat_minor": 2
}
