{
 "cells": [
  {
   "cell_type": "markdown",
   "metadata": {},
   "source": [
    "# Plotlyを使ってGanttを作ってみる。 \n",
    "2023/7/29"
   ]
  },
  {
   "cell_type": "markdown",
   "metadata": {},
   "source": [
    "事前準備ライブラリのインストール\n",
    "参考になるURL"
   ]
  },
  {
   "cell_type": "code",
   "execution_count": null,
   "metadata": {},
   "outputs": [],
   "source": [
    "## Package Install\n",
    "## ターミナルで以下を実行する。\n",
    "# pip install -U plotly\n",
    "# pip install -U pydbc\n",
    "# pip install -U matplotlib\n",
    "# pip install -U pygwalker\n",
    "# pip install -U statsmodels\n",
    "# pip install -U bokeh\n",
    "# pip install -U msticpy\n",
    "\n",
    "## URL\n",
    "# https://plotly.com/graphing-libraries/ # plotly library introduction"
   ]
  },
  {
   "cell_type": "markdown",
   "metadata": {},
   "source": [
    "必要なライブラリを有効化する"
   ]
  },
  {
   "cell_type": "code",
   "execution_count": 1,
   "metadata": {},
   "outputs": [],
   "source": [
    "import pandas as pd \n",
    "import pyodbc\n",
    "import plotly.express as px\n",
    "import plotly.io as pio\n",
    "import matplotlib.pyplot as plt\n",
    "import numpy as np\n",
    "\n",
    "import matplotlib as mpl"
   ]
  },
  {
   "cell_type": "code",
   "execution_count": 11,
   "metadata": {},
   "outputs": [],
   "source": [
    "from bokeh.plotting import figure, show\n",
    " \n",
    "# prepare some data\n",
    "x = [1, 2, 3, 4, 5]\n",
    "y = [6, 7, 2, 4, 5]\n",
    " \n",
    "# create a new plot with a title and axis labels\n",
    "p = figure(title=\"シンプルな線の例\", x_axis_label='x', y_axis_label='y')\n",
    " \n",
    "# add a line renderer with legend and line thickness to the plot\n",
    "p.line(x, y, legend_label=\"Temp.\", line_width=2)\n",
    " \n",
    "# show the results\n",
    "show(p)"
   ]
  },
  {
   "cell_type": "markdown",
   "metadata": {},
   "source": [
    "DBからDFにデータを展開する(sqlserver)"
   ]
  },
  {
   "cell_type": "code",
   "execution_count": 17,
   "metadata": {},
   "outputs": [
    {
     "name": "stdout",
     "output_type": "stream",
     "text": [
      "   Resource   Object Status               Start              Finish  \\\n",
      "0         A  JOB-001   WAIT 2023-07-30 08:58:00 2023-07-30 10:24:00   \n",
      "1         A  JOB-011   WAIT 2023-07-30 09:18:00 2023-07-30 15:45:00   \n",
      "2         A  JOB-010    RUN 2023-07-30 09:23:00 2023-07-30 16:09:00   \n",
      "3         A  JOB-002   WAIT 2023-07-30 09:25:00 2023-07-30 10:24:00   \n",
      "4         A  JOB-003   WAIT 2023-07-30 09:28:00 2023-07-30 14:34:00   \n",
      "5         A  JOB-012    RUN 2023-07-30 09:29:00 2023-07-30 16:23:00   \n",
      "6         B  JOB-004    RUN 2023-07-30 09:03:00 2023-07-30 10:54:00   \n",
      "7         B  JOB-013   WAIT 2023-07-30 09:16:00 2023-07-30 13:57:00   \n",
      "8         B  JOB-005   WAIT 2023-07-30 09:27:00 2023-07-30 13:42:00   \n",
      "9         B  JOB-014    RUN 2023-07-30 09:28:00 2023-07-30 09:39:00   \n",
      "10        B  JOB-006   WAIT 2023-07-30 09:38:00 2023-07-30 19:08:00   \n",
      "11        B  JOB-015   WAIT 2023-07-30 09:57:00 2023-07-30 12:44:00   \n",
      "12        C  JOB-007   WAIT 2023-07-30 09:00:00 2023-07-30 23:00:00   \n",
      "13        C  JOB-008    RUN 2023-07-30 09:11:00 2023-07-31 00:05:00   \n",
      "14        C  JOB-017   WAIT 2023-07-30 09:15:00 2023-07-31 09:02:00   \n",
      "15        C  JOB-016    RUN 2023-07-30 09:27:00 2023-07-31 04:02:00   \n",
      "16        C  JOB-009    RUN 2023-07-30 09:31:00 2023-07-31 03:28:00   \n",
      "17        C  JOB-018    RUN 2023-07-30 09:32:00 2023-07-30 11:45:00   \n",
      "\n",
      "          Key     Task  \n",
      "0   A-JOB-001  JOB-001  \n",
      "1   A-JOB-011  JOB-011  \n",
      "2   A-JOB-010  JOB-010  \n",
      "3   A-JOB-002  JOB-002  \n",
      "4   A-JOB-003  JOB-003  \n",
      "5   A-JOB-012  JOB-012  \n",
      "6   B-JOB-004  JOB-004  \n",
      "7   B-JOB-013  JOB-013  \n",
      "8   B-JOB-005  JOB-005  \n",
      "9   B-JOB-014  JOB-014  \n",
      "10  B-JOB-006  JOB-006  \n",
      "11  B-JOB-015  JOB-015  \n",
      "12  C-JOB-007  JOB-007  \n",
      "13  C-JOB-008  JOB-008  \n",
      "14  C-JOB-017  JOB-017  \n",
      "15  C-JOB-016  JOB-016  \n",
      "16  C-JOB-009  JOB-009  \n",
      "17  C-JOB-018  JOB-018  \n"
     ]
    },
    {
     "name": "stderr",
     "output_type": "stream",
     "text": [
      "C:\\Users\\nishi\\AppData\\Local\\Temp\\ipykernel_27036\\1966829176.py:12: UserWarning:\n",
      "\n",
      "pandas only supports SQLAlchemy connectable (engine/connection) or database string URI or sqlite3 DBAPI2 connection. Other DBAPI2 objects are not tested. Please consider using SQLAlchemy.\n",
      "\n"
     ]
    }
   ],
   "source": [
    "# Some other example server values are\n",
    "# server = 'localhost\\sqlexpress' # for a named instance\n",
    "# server = 'myserver,port' # to specify an alternate port\n",
    "server = 'yutakaPC\\SQLEXPRESS' \n",
    "database = 'MYDB' \n",
    "username = 'DB_User' \n",
    "password = 'DB_User'  \n",
    "cnxn = pyodbc.connect('DRIVER={SQL Server};SERVER='+server+';DATABASE='+database+';UID='+username+';PWD='+ password)\n",
    "cursor = cnxn.cursor()\n",
    "# select 26 rows from SQL table to insert in dataframe.\n",
    "query = \"select * from [MYDB].[TRN_LOT_PROCESS] order by Resource,Start,Finish,Object;\"\n",
    "df = pd.read_sql(query, cnxn)\n",
    "df['Key'] = df['Resource'] + '-' + df['Object']\n",
    "df['Task'] = df['Object'] \n",
    "#print(df.sort_values(by=['Resource','Start'])['Key'])\n",
    "print(df.head(26))"
   ]
  },
  {
   "cell_type": "code",
   "execution_count": 30,
   "metadata": {},
   "outputs": [
    {
     "data": {
      "text/html": [
       "    <style>\n",
       "        .bk-notebook-logo {\n",
       "            display: block;\n",
       "            width: 20px;\n",
       "            height: 20px;\n",
       "            background-image: url(data:image/png;base64,iVBORw0KGgoAAAANSUhEUgAAABQAAAAUCAYAAACNiR0NAAAABHNCSVQICAgIfAhkiAAAAAlwSFlzAAALEgAACxIB0t1+/AAAABx0RVh0U29mdHdhcmUAQWRvYmUgRmlyZXdvcmtzIENTNui8sowAAAOkSURBVDiNjZRtaJVlGMd/1/08zzln5zjP1LWcU9N0NkN8m2CYjpgQYQXqSs0I84OLIC0hkEKoPtiH3gmKoiJDU7QpLgoLjLIQCpEsNJ1vqUOdO7ppbuec5+V+rj4ctwzd8IIbbi6u+8f1539dt3A78eXC7QizUF7gyV1fD1Yqg4JWz84yffhm0qkFqBogB9rM8tZdtwVsPUhWhGcFJngGeWrPzHm5oaMmkfEg1usvLFyc8jLRqDOMru7AyC8saQr7GG7f5fvDeH7Ej8CM66nIF+8yngt6HWaKh7k49Soy9nXurCi1o3qUbS3zWfrYeQDTB/Qj6kX6Ybhw4B+bOYoLKCC9H3Nu/leUTZ1JdRWkkn2ldcCamzrcf47KKXdAJllSlxAOkRgyHsGC/zRday5Qld9DyoM4/q/rUoy/CXh3jzOu3bHUVZeU+DEn8FInkPBFlu3+nW3Nw0mk6vCDiWg8CeJaxEwuHS3+z5RgY+YBR6V1Z1nxSOfoaPa4LASWxxdNp+VWTk7+4vzaou8v8PN+xo+KY2xsw6une2frhw05CTYOmQvsEhjhWjn0bmXPjpE1+kplmmkP3suftwTubK9Vq22qKmrBhpY4jvd5afdRA3wGjFAgcnTK2s4hY0/GPNIb0nErGMCRxWOOX64Z8RAC4oCXdklmEvcL8o0BfkNK4lUg9HTl+oPlQxdNo3Mg4Nv175e/1LDGzZen30MEjRUtmXSfiTVu1kK8W4txyV6BMKlbgk3lMwYCiusNy9fVfvvwMxv8Ynl6vxoByANLTWplvuj/nF9m2+PDtt1eiHPBr1oIfhCChQMBw6Aw0UulqTKZdfVvfG7VcfIqLG9bcldL/+pdWTLxLUy8Qq38heUIjh4XlzZxzQm19lLFlr8vdQ97rjZVOLf8nclzckbcD4wxXMidpX30sFd37Fv/GtwwhzhxGVAprjbg0gCAEeIgwCZyTV2Z1REEW8O4py0wsjeloKoMr6iCY6dP92H6Vw/oTyICIthibxjm/DfN9lVz8IqtqKYLUXfoKVMVQVVJOElGjrnnUt9T9wbgp8AyYKaGlqingHZU/uG2NTZSVqwHQTWkx9hxjkpWDaCg6Ckj5qebgBVbT3V3NNXMSiWSDdGV3hrtzla7J+duwPOToIg42ChPQOQjspnSlp1V+Gjdged7+8UN5CRAV7a5EdFNwCjEaBR27b3W890TE7g24NAP/mMDXRWrGoFPQI9ls/MWO2dWFAar/xcOIImbbpA3zgAAAABJRU5ErkJggg==);\n",
       "        }\n",
       "    </style>\n",
       "    <div>\n",
       "        <a href=\"https://bokeh.org\" target=\"_blank\" class=\"bk-notebook-logo\"></a>\n",
       "        <span id=\"a818de0d-e884-4efe-a6cc-c741587c10c0\">Loading BokehJS ...</span>\n",
       "    </div>\n"
      ]
     },
     "metadata": {},
     "output_type": "display_data"
    },
    {
     "data": {
      "application/javascript": "(function(root) {\n  function now() {\n    return new Date();\n  }\n\n  const force = true;\n\n  if (typeof root._bokeh_onload_callbacks === \"undefined\" || force === true) {\n    root._bokeh_onload_callbacks = [];\n    root._bokeh_is_loading = undefined;\n  }\n\nconst JS_MIME_TYPE = 'application/javascript';\n  const HTML_MIME_TYPE = 'text/html';\n  const EXEC_MIME_TYPE = 'application/vnd.bokehjs_exec.v0+json';\n  const CLASS_NAME = 'output_bokeh rendered_html';\n\n  /**\n   * Render data to the DOM node\n   */\n  function render(props, node) {\n    const script = document.createElement(\"script\");\n    node.appendChild(script);\n  }\n\n  /**\n   * Handle when an output is cleared or removed\n   */\n  function handleClearOutput(event, handle) {\n    function drop(id) {\n      const view = Bokeh.index.get_by_id(id)\n      if (view != null) {\n        view.model.document.clear()\n        Bokeh.index.delete(view)\n      }\n    }\n\n    const cell = handle.cell;\n\n    const id = cell.output_area._bokeh_element_id;\n    const server_id = cell.output_area._bokeh_server_id;\n\n    // Clean up Bokeh references\n    if (id != null) {\n      drop(id)\n    }\n\n    if (server_id !== undefined) {\n      // Clean up Bokeh references\n      const cmd_clean = \"from bokeh.io.state import curstate; print(curstate().uuid_to_server['\" + server_id + \"'].get_sessions()[0].document.roots[0]._id)\";\n      cell.notebook.kernel.execute(cmd_clean, {\n        iopub: {\n          output: function(msg) {\n            const id = msg.content.text.trim()\n            drop(id)\n          }\n        }\n      });\n      // Destroy server and session\n      const cmd_destroy = \"import bokeh.io.notebook as ion; ion.destroy_server('\" + server_id + \"')\";\n      cell.notebook.kernel.execute(cmd_destroy);\n    }\n  }\n\n  /**\n   * Handle when a new output is added\n   */\n  function handleAddOutput(event, handle) {\n    const output_area = handle.output_area;\n    const output = handle.output;\n\n    // limit handleAddOutput to display_data with EXEC_MIME_TYPE content only\n    if ((output.output_type != \"display_data\") || (!Object.prototype.hasOwnProperty.call(output.data, EXEC_MIME_TYPE))) {\n      return\n    }\n\n    const toinsert = output_area.element.find(\".\" + CLASS_NAME.split(' ')[0]);\n\n    if (output.metadata[EXEC_MIME_TYPE][\"id\"] !== undefined) {\n      toinsert[toinsert.length - 1].firstChild.textContent = output.data[JS_MIME_TYPE];\n      // store reference to embed id on output_area\n      output_area._bokeh_element_id = output.metadata[EXEC_MIME_TYPE][\"id\"];\n    }\n    if (output.metadata[EXEC_MIME_TYPE][\"server_id\"] !== undefined) {\n      const bk_div = document.createElement(\"div\");\n      bk_div.innerHTML = output.data[HTML_MIME_TYPE];\n      const script_attrs = bk_div.children[0].attributes;\n      for (let i = 0; i < script_attrs.length; i++) {\n        toinsert[toinsert.length - 1].firstChild.setAttribute(script_attrs[i].name, script_attrs[i].value);\n        toinsert[toinsert.length - 1].firstChild.textContent = bk_div.children[0].textContent\n      }\n      // store reference to server id on output_area\n      output_area._bokeh_server_id = output.metadata[EXEC_MIME_TYPE][\"server_id\"];\n    }\n  }\n\n  function register_renderer(events, OutputArea) {\n\n    function append_mime(data, metadata, element) {\n      // create a DOM node to render to\n      const toinsert = this.create_output_subarea(\n        metadata,\n        CLASS_NAME,\n        EXEC_MIME_TYPE\n      );\n      this.keyboard_manager.register_events(toinsert);\n      // Render to node\n      const props = {data: data, metadata: metadata[EXEC_MIME_TYPE]};\n      render(props, toinsert[toinsert.length - 1]);\n      element.append(toinsert);\n      return toinsert\n    }\n\n    /* Handle when an output is cleared or removed */\n    events.on('clear_output.CodeCell', handleClearOutput);\n    events.on('delete.Cell', handleClearOutput);\n\n    /* Handle when a new output is added */\n    events.on('output_added.OutputArea', handleAddOutput);\n\n    /**\n     * Register the mime type and append_mime function with output_area\n     */\n    OutputArea.prototype.register_mime_type(EXEC_MIME_TYPE, append_mime, {\n      /* Is output safe? */\n      safe: true,\n      /* Index of renderer in `output_area.display_order` */\n      index: 0\n    });\n  }\n\n  // register the mime type if in Jupyter Notebook environment and previously unregistered\n  if (root.Jupyter !== undefined) {\n    const events = require('base/js/events');\n    const OutputArea = require('notebook/js/outputarea').OutputArea;\n\n    if (OutputArea.prototype.mime_types().indexOf(EXEC_MIME_TYPE) == -1) {\n      register_renderer(events, OutputArea);\n    }\n  }\n  if (typeof (root._bokeh_timeout) === \"undefined\" || force === true) {\n    root._bokeh_timeout = Date.now() + 5000;\n    root._bokeh_failed_load = false;\n  }\n\n  const NB_LOAD_WARNING = {'data': {'text/html':\n     \"<div style='background-color: #fdd'>\\n\"+\n     \"<p>\\n\"+\n     \"BokehJS does not appear to have successfully loaded. If loading BokehJS from CDN, this \\n\"+\n     \"may be due to a slow or bad network connection. Possible fixes:\\n\"+\n     \"</p>\\n\"+\n     \"<ul>\\n\"+\n     \"<li>re-rerun `output_notebook()` to attempt to load from CDN again, or</li>\\n\"+\n     \"<li>use INLINE resources instead, as so:</li>\\n\"+\n     \"</ul>\\n\"+\n     \"<code>\\n\"+\n     \"from bokeh.resources import INLINE\\n\"+\n     \"output_notebook(resources=INLINE)\\n\"+\n     \"</code>\\n\"+\n     \"</div>\"}};\n\n  function display_loaded() {\n    const el = document.getElementById(\"a818de0d-e884-4efe-a6cc-c741587c10c0\");\n    if (el != null) {\n      el.textContent = \"BokehJS is loading...\";\n    }\n    if (root.Bokeh !== undefined) {\n      if (el != null) {\n        el.textContent = \"BokehJS \" + root.Bokeh.version + \" successfully loaded.\";\n      }\n    } else if (Date.now() < root._bokeh_timeout) {\n      setTimeout(display_loaded, 100)\n    }\n  }\n\n  function run_callbacks() {\n    try {\n      root._bokeh_onload_callbacks.forEach(function(callback) {\n        if (callback != null)\n          callback();\n      });\n    } finally {\n      delete root._bokeh_onload_callbacks\n    }\n    console.debug(\"Bokeh: all callbacks have finished\");\n  }\n\n  function load_libs(css_urls, js_urls, callback) {\n    if (css_urls == null) css_urls = [];\n    if (js_urls == null) js_urls = [];\n\n    root._bokeh_onload_callbacks.push(callback);\n    if (root._bokeh_is_loading > 0) {\n      console.debug(\"Bokeh: BokehJS is being loaded, scheduling callback at\", now());\n      return null;\n    }\n    if (js_urls == null || js_urls.length === 0) {\n      run_callbacks();\n      return null;\n    }\n    console.debug(\"Bokeh: BokehJS not loaded, scheduling load and callback at\", now());\n    root._bokeh_is_loading = css_urls.length + js_urls.length;\n\n    function on_load() {\n      root._bokeh_is_loading--;\n      if (root._bokeh_is_loading === 0) {\n        console.debug(\"Bokeh: all BokehJS libraries/stylesheets loaded\");\n        run_callbacks()\n      }\n    }\n\n    function on_error(url) {\n      console.error(\"failed to load \" + url);\n    }\n\n    for (let i = 0; i < css_urls.length; i++) {\n      const url = css_urls[i];\n      const element = document.createElement(\"link\");\n      element.onload = on_load;\n      element.onerror = on_error.bind(null, url);\n      element.rel = \"stylesheet\";\n      element.type = \"text/css\";\n      element.href = url;\n      console.debug(\"Bokeh: injecting link tag for BokehJS stylesheet: \", url);\n      document.body.appendChild(element);\n    }\n\n    for (let i = 0; i < js_urls.length; i++) {\n      const url = js_urls[i];\n      const element = document.createElement('script');\n      element.onload = on_load;\n      element.onerror = on_error.bind(null, url);\n      element.async = false;\n      element.src = url;\n      console.debug(\"Bokeh: injecting script tag for BokehJS library: \", url);\n      document.head.appendChild(element);\n    }\n  };\n\n  function inject_raw_css(css) {\n    const element = document.createElement(\"style\");\n    element.appendChild(document.createTextNode(css));\n    document.body.appendChild(element);\n  }\n\n  const js_urls = [\"https://cdn.bokeh.org/bokeh/release/bokeh-3.3.1.min.js\", \"https://cdn.bokeh.org/bokeh/release/bokeh-gl-3.3.1.min.js\", \"https://cdn.bokeh.org/bokeh/release/bokeh-widgets-3.3.1.min.js\", \"https://cdn.bokeh.org/bokeh/release/bokeh-tables-3.3.1.min.js\", \"https://cdn.bokeh.org/bokeh/release/bokeh-mathjax-3.3.1.min.js\"];\n  const css_urls = [];\n\n  const inline_js = [    function(Bokeh) {\n      Bokeh.set_log_level(\"info\");\n    },\nfunction(Bokeh) {\n    }\n  ];\n\n  function run_inline_js() {\n    if (root.Bokeh !== undefined || force === true) {\n          for (let i = 0; i < inline_js.length; i++) {\n      inline_js[i].call(root, root.Bokeh);\n    }\nif (force === true) {\n        display_loaded();\n      }} else if (Date.now() < root._bokeh_timeout) {\n      setTimeout(run_inline_js, 100);\n    } else if (!root._bokeh_failed_load) {\n      console.log(\"Bokeh: BokehJS failed to load within specified timeout.\");\n      root._bokeh_failed_load = true;\n    } else if (force !== true) {\n      const cell = $(document.getElementById(\"a818de0d-e884-4efe-a6cc-c741587c10c0\")).parents('.cell').data().cell;\n      cell.output_area.append_execute_result(NB_LOAD_WARNING)\n    }\n  }\n\n  if (root._bokeh_is_loading === 0) {\n    console.debug(\"Bokeh: BokehJS loaded, going straight to plotting\");\n    run_inline_js();\n  } else {\n    load_libs(css_urls, js_urls, function() {\n      console.debug(\"Bokeh: BokehJS plotting callback run at\", now());\n      run_inline_js();\n    });\n  }\n}(window));",
      "application/vnd.bokehjs_load.v0+json": ""
     },
     "metadata": {},
     "output_type": "display_data"
    },
    {
     "ename": "KeyError",
     "evalue": "'legend'",
     "output_type": "error",
     "traceback": [
      "\u001b[1;31m---------------------------------------------------------------------------\u001b[0m",
      "\u001b[1;31mKeyError\u001b[0m                                  Traceback (most recent call last)",
      "\u001b[1;32mc:\\Users\\nishi\\OneDrive\\ドキュメント\\10.LIFE\\15_Source\\10_python\\Jupyter\\MakeGantt(matplotlib).ipynb セル 9\u001b[0m in \u001b[0;36m<cell line: 23>\u001b[1;34m()\u001b[0m\n\u001b[0;32m     <a href='vscode-notebook-cell:/c%3A/Users/nishi/OneDrive/%E3%83%89%E3%82%AD%E3%83%A5%E3%83%A1%E3%83%B3%E3%83%88/10.LIFE/15_Source/10_python/Jupyter/MakeGantt%28matplotlib%29.ipynb#X34sZmlsZQ%3D%3D?line=15'>16</a>\u001b[0m fig \u001b[39m=\u001b[39m figure(title\u001b[39m=\u001b[39m\u001b[39m'\u001b[39m\u001b[39mMy Tutorial Progress\u001b[39m\u001b[39m'\u001b[39m,\n\u001b[0;32m     <a href='vscode-notebook-cell:/c%3A/Users/nishi/OneDrive/%E3%83%89%E3%82%AD%E3%83%A5%E3%83%A1%E3%83%B3%E3%83%88/10.LIFE/15_Source/10_python/Jupyter/MakeGantt%28matplotlib%29.ipynb#X34sZmlsZQ%3D%3D?line=16'>17</a>\u001b[0m              \u001b[39m#plot_height=400, plot_width=700,\u001b[39;00m\n\u001b[0;32m     <a href='vscode-notebook-cell:/c%3A/Users/nishi/OneDrive/%E3%83%89%E3%82%AD%E3%83%A5%E3%83%A1%E3%83%B3%E3%83%88/10.LIFE/15_Source/10_python/Jupyter/MakeGantt%28matplotlib%29.ipynb#X34sZmlsZQ%3D%3D?line=17'>18</a>\u001b[0m              x_axis_label\u001b[39m=\u001b[39m\u001b[39m'\u001b[39m\u001b[39mDay Number\u001b[39m\u001b[39m'\u001b[39m, y_axis_label\u001b[39m=\u001b[39m\u001b[39m'\u001b[39m\u001b[39mWords Written\u001b[39m\u001b[39m'\u001b[39m,\n\u001b[0;32m     <a href='vscode-notebook-cell:/c%3A/Users/nishi/OneDrive/%E3%83%89%E3%82%AD%E3%83%A5%E3%83%A1%E3%83%B3%E3%83%88/10.LIFE/15_Source/10_python/Jupyter/MakeGantt%28matplotlib%29.ipynb#X34sZmlsZQ%3D%3D?line=18'>19</a>\u001b[0m              x_minor_ticks\u001b[39m=\u001b[39m\u001b[39m2\u001b[39m, y_range\u001b[39m=\u001b[39m(\u001b[39m0\u001b[39m, \u001b[39m6000\u001b[39m),\n\u001b[0;32m     <a href='vscode-notebook-cell:/c%3A/Users/nishi/OneDrive/%E3%83%89%E3%82%AD%E3%83%A5%E3%83%A1%E3%83%B3%E3%83%88/10.LIFE/15_Source/10_python/Jupyter/MakeGantt%28matplotlib%29.ipynb#X34sZmlsZQ%3D%3D?line=19'>20</a>\u001b[0m              toolbar_location\u001b[39m=\u001b[39m\u001b[39mNone\u001b[39;00m)\n\u001b[0;32m     <a href='vscode-notebook-cell:/c%3A/Users/nishi/OneDrive/%E3%83%89%E3%82%AD%E3%83%A5%E3%83%A1%E3%83%B3%E3%83%88/10.LIFE/15_Source/10_python/Jupyter/MakeGantt%28matplotlib%29.ipynb#X34sZmlsZQ%3D%3D?line=21'>22</a>\u001b[0m \u001b[39m# The daily words will be represented as vertical bars (columns)\u001b[39;00m\n\u001b[1;32m---> <a href='vscode-notebook-cell:/c%3A/Users/nishi/OneDrive/%E3%83%89%E3%82%AD%E3%83%A5%E3%83%A1%E3%83%B3%E3%83%88/10.LIFE/15_Source/10_python/Jupyter/MakeGantt%28matplotlib%29.ipynb#X34sZmlsZQ%3D%3D?line=22'>23</a>\u001b[0m fig\u001b[39m.\u001b[39;49mvbar(x\u001b[39m=\u001b[39;49mday_num, bottom\u001b[39m=\u001b[39;49m\u001b[39m0\u001b[39;49m, top\u001b[39m=\u001b[39;49mdaily_words, \n\u001b[0;32m     <a href='vscode-notebook-cell:/c%3A/Users/nishi/OneDrive/%E3%83%89%E3%82%AD%E3%83%A5%E3%83%A1%E3%83%B3%E3%83%88/10.LIFE/15_Source/10_python/Jupyter/MakeGantt%28matplotlib%29.ipynb#X34sZmlsZQ%3D%3D?line=23'>24</a>\u001b[0m          color\u001b[39m=\u001b[39;49m\u001b[39m'\u001b[39;49m\u001b[39mblue\u001b[39;49m\u001b[39m'\u001b[39;49m, width\u001b[39m=\u001b[39;49m\u001b[39m0.75\u001b[39;49m, \n\u001b[0;32m     <a href='vscode-notebook-cell:/c%3A/Users/nishi/OneDrive/%E3%83%89%E3%82%AD%E3%83%A5%E3%83%A1%E3%83%B3%E3%83%88/10.LIFE/15_Source/10_python/Jupyter/MakeGantt%28matplotlib%29.ipynb#X34sZmlsZQ%3D%3D?line=24'>25</a>\u001b[0m          legend\u001b[39m=\u001b[39;49m\u001b[39m'\u001b[39;49m\u001b[39mDaily\u001b[39;49m\u001b[39m'\u001b[39;49m)\n\u001b[0;32m     <a href='vscode-notebook-cell:/c%3A/Users/nishi/OneDrive/%E3%83%89%E3%82%AD%E3%83%A5%E3%83%A1%E3%83%B3%E3%83%88/10.LIFE/15_Source/10_python/Jupyter/MakeGantt%28matplotlib%29.ipynb#X34sZmlsZQ%3D%3D?line=26'>27</a>\u001b[0m \u001b[39m# The cumulative sum will be a trend line\u001b[39;00m\n\u001b[0;32m     <a href='vscode-notebook-cell:/c%3A/Users/nishi/OneDrive/%E3%83%89%E3%82%AD%E3%83%A5%E3%83%A1%E3%83%B3%E3%83%88/10.LIFE/15_Source/10_python/Jupyter/MakeGantt%28matplotlib%29.ipynb#X34sZmlsZQ%3D%3D?line=27'>28</a>\u001b[0m fig\u001b[39m.\u001b[39mline(x\u001b[39m=\u001b[39mday_num, y\u001b[39m=\u001b[39mcumulative_words, \n\u001b[0;32m     <a href='vscode-notebook-cell:/c%3A/Users/nishi/OneDrive/%E3%83%89%E3%82%AD%E3%83%A5%E3%83%A1%E3%83%B3%E3%83%88/10.LIFE/15_Source/10_python/Jupyter/MakeGantt%28matplotlib%29.ipynb#X34sZmlsZQ%3D%3D?line=28'>29</a>\u001b[0m          color\u001b[39m=\u001b[39m\u001b[39m'\u001b[39m\u001b[39mgray\u001b[39m\u001b[39m'\u001b[39m, line_width\u001b[39m=\u001b[39m\u001b[39m1\u001b[39m,\n\u001b[0;32m     <a href='vscode-notebook-cell:/c%3A/Users/nishi/OneDrive/%E3%83%89%E3%82%AD%E3%83%A5%E3%83%A1%E3%83%B3%E3%83%88/10.LIFE/15_Source/10_python/Jupyter/MakeGantt%28matplotlib%29.ipynb#X34sZmlsZQ%3D%3D?line=29'>30</a>\u001b[0m          legend\u001b[39m=\u001b[39m\u001b[39m'\u001b[39m\u001b[39mCumulative\u001b[39m\u001b[39m'\u001b[39m)\n",
      "File \u001b[1;32mc:\\Users\\nishi\\AppData\\Local\\Programs\\Python\\Python310\\lib\\site-packages\\bokeh\\plotting\\_decorators.py:87\u001b[0m, in \u001b[0;36mglyph_method.<locals>.decorator.<locals>.wrapped\u001b[1;34m(self, *args, **kwargs)\u001b[0m\n\u001b[0;32m     85\u001b[0m \u001b[39mif\u001b[39;00m \u001b[39mself\u001b[39m\u001b[39m.\u001b[39mcoordinates \u001b[39mis\u001b[39;00m \u001b[39mnot\u001b[39;00m \u001b[39mNone\u001b[39;00m:\n\u001b[0;32m     86\u001b[0m     kwargs\u001b[39m.\u001b[39msetdefault(\u001b[39m\"\u001b[39m\u001b[39mcoordinates\u001b[39m\u001b[39m\"\u001b[39m, \u001b[39mself\u001b[39m\u001b[39m.\u001b[39mcoordinates)\n\u001b[1;32m---> 87\u001b[0m \u001b[39mreturn\u001b[39;00m create_renderer(glyphclass, \u001b[39mself\u001b[39m\u001b[39m.\u001b[39mplot, \u001b[39m*\u001b[39m\u001b[39m*\u001b[39mkwargs)\n",
      "File \u001b[1;32mc:\\Users\\nishi\\AppData\\Local\\Programs\\Python\\Python310\\lib\\site-packages\\bokeh\\plotting\\_renderer.py:133\u001b[0m, in \u001b[0;36mcreate_renderer\u001b[1;34m(glyphclass, plot, **kwargs)\u001b[0m\n\u001b[0;32m    127\u001b[0m plot\u001b[39m.\u001b[39mrenderers\u001b[39m.\u001b[39mappend(glyph_renderer)\n\u001b[0;32m    129\u001b[0m \u001b[39mif\u001b[39;00m legend_kwarg:\n\u001b[0;32m    130\u001b[0m     \u001b[39m# It must be after the renderer is added because\u001b[39;00m\n\u001b[0;32m    131\u001b[0m     \u001b[39m# if it creates a new `LegendItem`, the referenced\u001b[39;00m\n\u001b[0;32m    132\u001b[0m     \u001b[39m# renderer must already be present.\u001b[39;00m\n\u001b[1;32m--> 133\u001b[0m     update_legend(plot, legend_kwarg, glyph_renderer)\n\u001b[0;32m    135\u001b[0m \u001b[39mreturn\u001b[39;00m glyph_renderer\n",
      "File \u001b[1;32mc:\\Users\\nishi\\AppData\\Local\\Programs\\Python\\Python310\\lib\\site-packages\\bokeh\\plotting\\_legends.py:57\u001b[0m, in \u001b[0;36mupdate_legend\u001b[1;34m(plot, legend_kwarg, glyph_renderer)\u001b[0m\n\u001b[0;32m     54\u001b[0m legend \u001b[39m=\u001b[39m _get_or_create_legend(plot)\n\u001b[0;32m     55\u001b[0m kwarg, value \u001b[39m=\u001b[39m \u001b[39mnext\u001b[39m(\u001b[39miter\u001b[39m(legend_kwarg\u001b[39m.\u001b[39mitems()))\n\u001b[1;32m---> 57\u001b[0m _LEGEND_KWARG_HANDLERS[kwarg](value, legend, glyph_renderer)\n",
      "\u001b[1;31mKeyError\u001b[0m: 'legend'"
     ]
    }
   ],
   "source": [
    "import numpy as np\n",
    "\n",
    "# Bokeh libraries\n",
    "from bokeh.io import output_notebook\n",
    "from bokeh.plotting import figure, show\n",
    "\n",
    "# My word count data\n",
    "day_num = np.linspace(1, 10, 10)\n",
    "daily_words = [450, 628, 488, 210, 287, 791, 508, 639, 397, 943]\n",
    "cumulative_words = np.cumsum(daily_words)\n",
    "\n",
    "# Output the visualization directly in the notebook\n",
    "output_notebook()\n",
    "\n",
    "# Create a figure with a datetime type x-axis\n",
    "fig = figure(title='My Tutorial Progress',\n",
    "             #plot_height=400, plot_width=700,\n",
    "             x_axis_label='Day Number', y_axis_label='Words Written',\n",
    "             x_minor_ticks=2, y_range=(0, 6000),\n",
    "             toolbar_location=None)\n",
    "\n",
    "# The daily words will be represented as vertical bars (columns)\n",
    "fig.vbar(x=day_num, bottom=0, top=daily_words, \n",
    "         color='blue', width=0.75, \n",
    "         legend='Daily')\n",
    "\n",
    "# The cumulative sum will be a trend line\n",
    "fig.line(x=day_num, y=cumulative_words, \n",
    "         color='gray', line_width=1,\n",
    "         legend='Cumulative')\n",
    "\n",
    "# Put the legend in the upper left corner\n",
    "fig.legend.location = 'top_left'\n",
    "\n",
    "# Let's check it out\n",
    "show(fig)"
   ]
  },
  {
   "cell_type": "code",
   "execution_count": 27,
   "metadata": {},
   "outputs": [
    {
     "data": {
      "text/html": [
       "    <style>\n",
       "        .bk-notebook-logo {\n",
       "            display: block;\n",
       "            width: 20px;\n",
       "            height: 20px;\n",
       "            background-image: url(data:image/png;base64,iVBORw0KGgoAAAANSUhEUgAAABQAAAAUCAYAAACNiR0NAAAABHNCSVQICAgIfAhkiAAAAAlwSFlzAAALEgAACxIB0t1+/AAAABx0RVh0U29mdHdhcmUAQWRvYmUgRmlyZXdvcmtzIENTNui8sowAAAOkSURBVDiNjZRtaJVlGMd/1/08zzln5zjP1LWcU9N0NkN8m2CYjpgQYQXqSs0I84OLIC0hkEKoPtiH3gmKoiJDU7QpLgoLjLIQCpEsNJ1vqUOdO7ppbuec5+V+rj4ctwzd8IIbbi6u+8f1539dt3A78eXC7QizUF7gyV1fD1Yqg4JWz84yffhm0qkFqBogB9rM8tZdtwVsPUhWhGcFJngGeWrPzHm5oaMmkfEg1usvLFyc8jLRqDOMru7AyC8saQr7GG7f5fvDeH7Ej8CM66nIF+8yngt6HWaKh7k49Soy9nXurCi1o3qUbS3zWfrYeQDTB/Qj6kX6Ybhw4B+bOYoLKCC9H3Nu/leUTZ1JdRWkkn2ldcCamzrcf47KKXdAJllSlxAOkRgyHsGC/zRday5Qld9DyoM4/q/rUoy/CXh3jzOu3bHUVZeU+DEn8FInkPBFlu3+nW3Nw0mk6vCDiWg8CeJaxEwuHS3+z5RgY+YBR6V1Z1nxSOfoaPa4LASWxxdNp+VWTk7+4vzaou8v8PN+xo+KY2xsw6une2frhw05CTYOmQvsEhjhWjn0bmXPjpE1+kplmmkP3suftwTubK9Vq22qKmrBhpY4jvd5afdRA3wGjFAgcnTK2s4hY0/GPNIb0nErGMCRxWOOX64Z8RAC4oCXdklmEvcL8o0BfkNK4lUg9HTl+oPlQxdNo3Mg4Nv175e/1LDGzZen30MEjRUtmXSfiTVu1kK8W4txyV6BMKlbgk3lMwYCiusNy9fVfvvwMxv8Ynl6vxoByANLTWplvuj/nF9m2+PDtt1eiHPBr1oIfhCChQMBw6Aw0UulqTKZdfVvfG7VcfIqLG9bcldL/+pdWTLxLUy8Qq38heUIjh4XlzZxzQm19lLFlr8vdQ97rjZVOLf8nclzckbcD4wxXMidpX30sFd37Fv/GtwwhzhxGVAprjbg0gCAEeIgwCZyTV2Z1REEW8O4py0wsjeloKoMr6iCY6dP92H6Vw/oTyICIthibxjm/DfN9lVz8IqtqKYLUXfoKVMVQVVJOElGjrnnUt9T9wbgp8AyYKaGlqingHZU/uG2NTZSVqwHQTWkx9hxjkpWDaCg6Ckj5qebgBVbT3V3NNXMSiWSDdGV3hrtzla7J+duwPOToIg42ChPQOQjspnSlp1V+Gjdged7+8UN5CRAV7a5EdFNwCjEaBR27b3W890TE7g24NAP/mMDXRWrGoFPQI9ls/MWO2dWFAar/xcOIImbbpA3zgAAAABJRU5ErkJggg==);\n",
       "        }\n",
       "    </style>\n",
       "    <div>\n",
       "        <a href=\"https://bokeh.org\" target=\"_blank\" class=\"bk-notebook-logo\"></a>\n",
       "        <span id=\"cef48ec8-583d-464f-8484-540519ab3c17\">Loading BokehJS ...</span>\n",
       "    </div>\n"
      ]
     },
     "metadata": {},
     "output_type": "display_data"
    },
    {
     "data": {
      "application/javascript": "(function(root) {\n  function now() {\n    return new Date();\n  }\n\n  const force = true;\n\n  if (typeof root._bokeh_onload_callbacks === \"undefined\" || force === true) {\n    root._bokeh_onload_callbacks = [];\n    root._bokeh_is_loading = undefined;\n  }\n\nconst JS_MIME_TYPE = 'application/javascript';\n  const HTML_MIME_TYPE = 'text/html';\n  const EXEC_MIME_TYPE = 'application/vnd.bokehjs_exec.v0+json';\n  const CLASS_NAME = 'output_bokeh rendered_html';\n\n  /**\n   * Render data to the DOM node\n   */\n  function render(props, node) {\n    const script = document.createElement(\"script\");\n    node.appendChild(script);\n  }\n\n  /**\n   * Handle when an output is cleared or removed\n   */\n  function handleClearOutput(event, handle) {\n    function drop(id) {\n      const view = Bokeh.index.get_by_id(id)\n      if (view != null) {\n        view.model.document.clear()\n        Bokeh.index.delete(view)\n      }\n    }\n\n    const cell = handle.cell;\n\n    const id = cell.output_area._bokeh_element_id;\n    const server_id = cell.output_area._bokeh_server_id;\n\n    // Clean up Bokeh references\n    if (id != null) {\n      drop(id)\n    }\n\n    if (server_id !== undefined) {\n      // Clean up Bokeh references\n      const cmd_clean = \"from bokeh.io.state import curstate; print(curstate().uuid_to_server['\" + server_id + \"'].get_sessions()[0].document.roots[0]._id)\";\n      cell.notebook.kernel.execute(cmd_clean, {\n        iopub: {\n          output: function(msg) {\n            const id = msg.content.text.trim()\n            drop(id)\n          }\n        }\n      });\n      // Destroy server and session\n      const cmd_destroy = \"import bokeh.io.notebook as ion; ion.destroy_server('\" + server_id + \"')\";\n      cell.notebook.kernel.execute(cmd_destroy);\n    }\n  }\n\n  /**\n   * Handle when a new output is added\n   */\n  function handleAddOutput(event, handle) {\n    const output_area = handle.output_area;\n    const output = handle.output;\n\n    // limit handleAddOutput to display_data with EXEC_MIME_TYPE content only\n    if ((output.output_type != \"display_data\") || (!Object.prototype.hasOwnProperty.call(output.data, EXEC_MIME_TYPE))) {\n      return\n    }\n\n    const toinsert = output_area.element.find(\".\" + CLASS_NAME.split(' ')[0]);\n\n    if (output.metadata[EXEC_MIME_TYPE][\"id\"] !== undefined) {\n      toinsert[toinsert.length - 1].firstChild.textContent = output.data[JS_MIME_TYPE];\n      // store reference to embed id on output_area\n      output_area._bokeh_element_id = output.metadata[EXEC_MIME_TYPE][\"id\"];\n    }\n    if (output.metadata[EXEC_MIME_TYPE][\"server_id\"] !== undefined) {\n      const bk_div = document.createElement(\"div\");\n      bk_div.innerHTML = output.data[HTML_MIME_TYPE];\n      const script_attrs = bk_div.children[0].attributes;\n      for (let i = 0; i < script_attrs.length; i++) {\n        toinsert[toinsert.length - 1].firstChild.setAttribute(script_attrs[i].name, script_attrs[i].value);\n        toinsert[toinsert.length - 1].firstChild.textContent = bk_div.children[0].textContent\n      }\n      // store reference to server id on output_area\n      output_area._bokeh_server_id = output.metadata[EXEC_MIME_TYPE][\"server_id\"];\n    }\n  }\n\n  function register_renderer(events, OutputArea) {\n\n    function append_mime(data, metadata, element) {\n      // create a DOM node to render to\n      const toinsert = this.create_output_subarea(\n        metadata,\n        CLASS_NAME,\n        EXEC_MIME_TYPE\n      );\n      this.keyboard_manager.register_events(toinsert);\n      // Render to node\n      const props = {data: data, metadata: metadata[EXEC_MIME_TYPE]};\n      render(props, toinsert[toinsert.length - 1]);\n      element.append(toinsert);\n      return toinsert\n    }\n\n    /* Handle when an output is cleared or removed */\n    events.on('clear_output.CodeCell', handleClearOutput);\n    events.on('delete.Cell', handleClearOutput);\n\n    /* Handle when a new output is added */\n    events.on('output_added.OutputArea', handleAddOutput);\n\n    /**\n     * Register the mime type and append_mime function with output_area\n     */\n    OutputArea.prototype.register_mime_type(EXEC_MIME_TYPE, append_mime, {\n      /* Is output safe? */\n      safe: true,\n      /* Index of renderer in `output_area.display_order` */\n      index: 0\n    });\n  }\n\n  // register the mime type if in Jupyter Notebook environment and previously unregistered\n  if (root.Jupyter !== undefined) {\n    const events = require('base/js/events');\n    const OutputArea = require('notebook/js/outputarea').OutputArea;\n\n    if (OutputArea.prototype.mime_types().indexOf(EXEC_MIME_TYPE) == -1) {\n      register_renderer(events, OutputArea);\n    }\n  }\n  if (typeof (root._bokeh_timeout) === \"undefined\" || force === true) {\n    root._bokeh_timeout = Date.now() + 5000;\n    root._bokeh_failed_load = false;\n  }\n\n  const NB_LOAD_WARNING = {'data': {'text/html':\n     \"<div style='background-color: #fdd'>\\n\"+\n     \"<p>\\n\"+\n     \"BokehJS does not appear to have successfully loaded. If loading BokehJS from CDN, this \\n\"+\n     \"may be due to a slow or bad network connection. Possible fixes:\\n\"+\n     \"</p>\\n\"+\n     \"<ul>\\n\"+\n     \"<li>re-rerun `output_notebook()` to attempt to load from CDN again, or</li>\\n\"+\n     \"<li>use INLINE resources instead, as so:</li>\\n\"+\n     \"</ul>\\n\"+\n     \"<code>\\n\"+\n     \"from bokeh.resources import INLINE\\n\"+\n     \"output_notebook(resources=INLINE)\\n\"+\n     \"</code>\\n\"+\n     \"</div>\"}};\n\n  function display_loaded() {\n    const el = document.getElementById(\"cef48ec8-583d-464f-8484-540519ab3c17\");\n    if (el != null) {\n      el.textContent = \"BokehJS is loading...\";\n    }\n    if (root.Bokeh !== undefined) {\n      if (el != null) {\n        el.textContent = \"BokehJS \" + root.Bokeh.version + \" successfully loaded.\";\n      }\n    } else if (Date.now() < root._bokeh_timeout) {\n      setTimeout(display_loaded, 100)\n    }\n  }\n\n  function run_callbacks() {\n    try {\n      root._bokeh_onload_callbacks.forEach(function(callback) {\n        if (callback != null)\n          callback();\n      });\n    } finally {\n      delete root._bokeh_onload_callbacks\n    }\n    console.debug(\"Bokeh: all callbacks have finished\");\n  }\n\n  function load_libs(css_urls, js_urls, callback) {\n    if (css_urls == null) css_urls = [];\n    if (js_urls == null) js_urls = [];\n\n    root._bokeh_onload_callbacks.push(callback);\n    if (root._bokeh_is_loading > 0) {\n      console.debug(\"Bokeh: BokehJS is being loaded, scheduling callback at\", now());\n      return null;\n    }\n    if (js_urls == null || js_urls.length === 0) {\n      run_callbacks();\n      return null;\n    }\n    console.debug(\"Bokeh: BokehJS not loaded, scheduling load and callback at\", now());\n    root._bokeh_is_loading = css_urls.length + js_urls.length;\n\n    function on_load() {\n      root._bokeh_is_loading--;\n      if (root._bokeh_is_loading === 0) {\n        console.debug(\"Bokeh: all BokehJS libraries/stylesheets loaded\");\n        run_callbacks()\n      }\n    }\n\n    function on_error(url) {\n      console.error(\"failed to load \" + url);\n    }\n\n    for (let i = 0; i < css_urls.length; i++) {\n      const url = css_urls[i];\n      const element = document.createElement(\"link\");\n      element.onload = on_load;\n      element.onerror = on_error.bind(null, url);\n      element.rel = \"stylesheet\";\n      element.type = \"text/css\";\n      element.href = url;\n      console.debug(\"Bokeh: injecting link tag for BokehJS stylesheet: \", url);\n      document.body.appendChild(element);\n    }\n\n    for (let i = 0; i < js_urls.length; i++) {\n      const url = js_urls[i];\n      const element = document.createElement('script');\n      element.onload = on_load;\n      element.onerror = on_error.bind(null, url);\n      element.async = false;\n      element.src = url;\n      console.debug(\"Bokeh: injecting script tag for BokehJS library: \", url);\n      document.head.appendChild(element);\n    }\n  };\n\n  function inject_raw_css(css) {\n    const element = document.createElement(\"style\");\n    element.appendChild(document.createTextNode(css));\n    document.body.appendChild(element);\n  }\n\n  const js_urls = [\"https://cdn.bokeh.org/bokeh/release/bokeh-3.3.1.min.js\", \"https://cdn.bokeh.org/bokeh/release/bokeh-gl-3.3.1.min.js\", \"https://cdn.bokeh.org/bokeh/release/bokeh-widgets-3.3.1.min.js\", \"https://cdn.bokeh.org/bokeh/release/bokeh-tables-3.3.1.min.js\", \"https://cdn.bokeh.org/bokeh/release/bokeh-mathjax-3.3.1.min.js\"];\n  const css_urls = [];\n\n  const inline_js = [    function(Bokeh) {\n      Bokeh.set_log_level(\"info\");\n    },\nfunction(Bokeh) {\n    }\n  ];\n\n  function run_inline_js() {\n    if (root.Bokeh !== undefined || force === true) {\n          for (let i = 0; i < inline_js.length; i++) {\n      inline_js[i].call(root, root.Bokeh);\n    }\nif (force === true) {\n        display_loaded();\n      }} else if (Date.now() < root._bokeh_timeout) {\n      setTimeout(run_inline_js, 100);\n    } else if (!root._bokeh_failed_load) {\n      console.log(\"Bokeh: BokehJS failed to load within specified timeout.\");\n      root._bokeh_failed_load = true;\n    } else if (force !== true) {\n      const cell = $(document.getElementById(\"cef48ec8-583d-464f-8484-540519ab3c17\")).parents('.cell').data().cell;\n      cell.output_area.append_execute_result(NB_LOAD_WARNING)\n    }\n  }\n\n  if (root._bokeh_is_loading === 0) {\n    console.debug(\"Bokeh: BokehJS loaded, going straight to plotting\");\n    run_inline_js();\n  } else {\n    load_libs(css_urls, js_urls, function() {\n      console.debug(\"Bokeh: BokehJS plotting callback run at\", now());\n      run_inline_js();\n    });\n  }\n}(window));",
      "application/vnd.bokehjs_load.v0+json": ""
     },
     "metadata": {},
     "output_type": "display_data"
    },
    {
     "data": {
      "text/html": [
       "\n",
       "  <div id=\"ae5e7bae-c92f-4b5f-bb15-b5278e2f66fe\" data-root-id=\"p2539\" style=\"display: contents;\"></div>\n"
      ]
     },
     "metadata": {},
     "output_type": "display_data"
    },
    {
     "data": {
      "application/javascript": "(function(root) {\n  function embed_document(root) {\n  const docs_json = {\"ebba5136-0640-4c62-91b9-f94ec2212aeb\":{\"version\":\"3.3.1\",\"title\":\"Bokeh Application\",\"roots\":[{\"type\":\"object\",\"name\":\"Column\",\"id\":\"p2539\",\"attributes\":{\"children\":[{\"type\":\"object\",\"name\":\"Figure\",\"id\":\"p2398\",\"attributes\":{\"width\":900,\"height\":450,\"x_range\":{\"type\":\"object\",\"name\":\"Range1d\",\"id\":\"p2408\",\"attributes\":{\"start\":1690698816000.0,\"end\":1690802784000.0}},\"y_range\":{\"type\":\"object\",\"name\":\"FactorRange\",\"id\":\"p2409\",\"attributes\":{\"factors\":[\"A-JOB-001\",\"A-JOB-002\",\"A-JOB-003\",\"A-JOB-010\",\"A-JOB-011\",\"A-JOB-012\",\"B-JOB-004\",\"B-JOB-005\",\"B-JOB-006\",\"B-JOB-013\",\"B-JOB-014\",\"B-JOB-015\",\"C-JOB-007\",\"C-JOB-008\",\"C-JOB-009\",\"C-JOB-016\",\"C-JOB-017\",\"C-JOB-018\"]}},\"x_scale\":{\"type\":\"object\",\"name\":\"LinearScale\",\"id\":\"p2410\"},\"y_scale\":{\"type\":\"object\",\"name\":\"CategoricalScale\",\"id\":\"p2411\"},\"title\":{\"type\":\"object\",\"name\":\"Title\",\"id\":\"p2401\",\"attributes\":{\"text\":\"Event Duration Timeline for Key\"}},\"renderers\":[{\"type\":\"object\",\"name\":\"GlyphRenderer\",\"id\":\"p2447\",\"attributes\":{\"data_source\":{\"type\":\"object\",\"name\":\"ColumnDataSource\",\"id\":\"p2363\",\"attributes\":{\"selected\":{\"type\":\"object\",\"name\":\"Selection\",\"id\":\"p2364\",\"attributes\":{\"indices\":[],\"line_indices\":[]}},\"selection_policy\":{\"type\":\"object\",\"name\":\"UnionRenderers\",\"id\":\"p2365\"},\"data\":{\"type\":\"map\",\"entries\":[[\"index\",{\"type\":\"ndarray\",\"array\":{\"type\":\"bytes\",\"data\":\"AAAAAAEAAAACAAAAAwAAAAQAAAAFAAAABgAAAAcAAAAIAAAACQAAAAoAAAALAAAADAAAAA0AAAAOAAAADwAAABAAAAARAAAA\"},\"shape\":[18],\"dtype\":\"int32\",\"order\":\"little\"}],[\"Row\",{\"type\":\"ndarray\",\"array\":{\"type\":\"bytes\",\"data\":\"AAAAAAEAAAACAAAAAwAAAAQAAAAFAAAABgAAAAcAAAAIAAAACQAAAAoAAAALAAAADAAAAA0AAAAOAAAADwAAABAAAAARAAAA\"},\"shape\":[18],\"dtype\":\"int32\",\"order\":\"little\"}],[\"Key\",{\"type\":\"ndarray\",\"array\":[\"A-JOB-001\",\"A-JOB-002\",\"A-JOB-003\",\"A-JOB-010\",\"A-JOB-011\",\"A-JOB-012\",\"B-JOB-004\",\"B-JOB-005\",\"B-JOB-006\",\"B-JOB-013\",\"B-JOB-014\",\"B-JOB-015\",\"C-JOB-007\",\"C-JOB-008\",\"C-JOB-009\",\"C-JOB-016\",\"C-JOB-017\",\"C-JOB-018\"],\"shape\":[18],\"dtype\":\"object\",\"order\":\"little\"}],[\"start_time\",{\"type\":\"ndarray\",\"array\":{\"type\":\"bytes\",\"data\":\"AADcTGCaeEIAAF7YYZp4QgAAUARimnhCAAASu2GaeEIAANRxYZp4QgAA9hJimnhCAAAalmCaeEIAAKr1YZp4QgAAzJZimnhCAACIVGGaeEIAAFAEYpp4QgAAHq1jmnhCAAAoamCaeEIAAEoLYZp4QgAAQjBimnhCAACq9WGaeEIAAOJFYZp4QgAA6D5imnhC\"},\"shape\":[18],\"dtype\":\"float64\",\"order\":\"little\"}],[\"end_time\",{\"type\":\"ndarray\",\"array\":{\"type\":\"bytes\",\"data\":\"AACgOGWaeEIAAKA4ZZp4QgAAvIZzmnhCAABW9niaeEIAAMaWd5p4QgAAasN5mnhCAAAU8GaaeEIAAASNcJp4QgAAaDSDmnhCAAC+aHGaeEIAAHKlYpp4QgAAaDttmnhCAADYepCaeEIAAP4ylJp4QgAAoNCfmnhCAACswqGaeEIAADTtspp4QgAAJttpmnhC\"},\"shape\":[18],\"dtype\":\"float64\",\"order\":\"little\"}],[\"Width\",{\"type\":\"ndarray\",\"array\":{\"type\":\"bytes\",\"data\":\"AAAAABCvU0EAAAAAEAJLQQAAAABsgnFBAAAAAEQ7d0EAAAAA8iR2QQAAAAB0sHdBAAAAAOhnWUEAAAAAtC5tQQAAAADOToBBAAAAADYUcEEAAAAAQCQkQQAAAACUHGNBAAAAAFgIiEEAAAAA2pOJQQAAAAAv0I5BAAAAAIHmj0EAAACA1GmUQQAAAAD4cF5B\"},\"shape\":[18],\"dtype\":\"float64\",\"order\":\"little\"}],[\"Center\",{\"type\":\"ndarray\",\"array\":{\"type\":\"bytes\",\"data\":\"AAC+wmKaeEIAAH+IY5p4QgAAhsVqmnhCAAC0WG2aeEIAAE2EbJp4QgAAMOttmnhCAAAXw2OaeEIAAFdBaZp4QgAAmuVymnhCAACjXmmaeEIAAOFUYpp4QgAAQ3RomnhCAACAcniaeEIAACSfepp4QgAAcQCBmnhCAAAr3IGaeEIAAIsZipp4QgAABw1mmnhC\"},\"shape\":[18],\"dtype\":\"float64\",\"order\":\"little\"}]]}}},\"view\":{\"type\":\"object\",\"name\":\"CDSView\",\"id\":\"p2448\",\"attributes\":{\"filter\":{\"type\":\"object\",\"name\":\"AllIndices\",\"id\":\"p2449\"}}},\"glyph\":{\"type\":\"object\",\"name\":\"Rect\",\"id\":\"p2444\",\"attributes\":{\"x\":{\"type\":\"field\",\"field\":\"Center\"},\"y\":{\"type\":\"field\",\"field\":\"Row\",\"transform\":{\"type\":\"object\",\"name\":\"Dodge\",\"id\":\"p2440\",\"attributes\":{\"value\":0.5}}},\"width\":{\"type\":\"field\",\"field\":\"Width\"},\"height\":{\"type\":\"value\",\"value\":0.3},\"line_color\":{\"type\":\"value\",\"value\":\"navy\"},\"fill_color\":{\"type\":\"value\",\"value\":\"navy\"},\"fill_alpha\":{\"type\":\"value\",\"value\":0.4},\"hatch_color\":{\"type\":\"value\",\"value\":\"navy\"}}},\"nonselection_glyph\":{\"type\":\"object\",\"name\":\"Rect\",\"id\":\"p2445\",\"attributes\":{\"x\":{\"type\":\"field\",\"field\":\"Center\"},\"y\":{\"type\":\"field\",\"field\":\"Row\",\"transform\":{\"id\":\"p2440\"}},\"width\":{\"type\":\"field\",\"field\":\"Width\"},\"height\":{\"type\":\"value\",\"value\":0.3},\"line_color\":{\"type\":\"value\",\"value\":\"navy\"},\"line_alpha\":{\"type\":\"value\",\"value\":0.1},\"fill_color\":{\"type\":\"value\",\"value\":\"navy\"},\"fill_alpha\":{\"type\":\"value\",\"value\":0.1},\"hatch_color\":{\"type\":\"value\",\"value\":\"navy\"},\"hatch_alpha\":{\"type\":\"value\",\"value\":0.1}}},\"muted_glyph\":{\"type\":\"object\",\"name\":\"Rect\",\"id\":\"p2446\",\"attributes\":{\"x\":{\"type\":\"field\",\"field\":\"Center\"},\"y\":{\"type\":\"field\",\"field\":\"Row\",\"transform\":{\"id\":\"p2440\"}},\"width\":{\"type\":\"field\",\"field\":\"Width\"},\"height\":{\"type\":\"value\",\"value\":0.3},\"line_color\":{\"type\":\"value\",\"value\":\"navy\"},\"line_alpha\":{\"type\":\"value\",\"value\":0.2},\"fill_color\":{\"type\":\"value\",\"value\":\"navy\"},\"fill_alpha\":{\"type\":\"value\",\"value\":0.2},\"hatch_color\":{\"type\":\"value\",\"value\":\"navy\"},\"hatch_alpha\":{\"type\":\"value\",\"value\":0.2}}}}},{\"type\":\"object\",\"name\":\"GlyphRenderer\",\"id\":\"p2457\",\"attributes\":{\"data_source\":{\"type\":\"object\",\"name\":\"ColumnDataSource\",\"id\":\"p2366\",\"attributes\":{\"selected\":{\"type\":\"object\",\"name\":\"Selection\",\"id\":\"p2367\",\"attributes\":{\"indices\":[],\"line_indices\":[]}},\"selection_policy\":{\"type\":\"object\",\"name\":\"UnionRenderers\",\"id\":\"p2368\"},\"data\":{\"type\":\"map\",\"entries\":[[\"index\",{\"type\":\"ndarray\",\"array\":{\"type\":\"bytes\",\"data\":\"AAAAAAEAAAACAAAAAwAAAAQAAAAFAAAABgAAAAcAAAAIAAAACQAAAAoAAAALAAAADAAAAA0AAAAOAAAADwAAABAAAAARAAAA\"},\"shape\":[18],\"dtype\":\"int32\",\"order\":\"little\"}],[\"Resource\",{\"type\":\"ndarray\",\"array\":[\"A\",\"A\",\"A\",\"A\",\"A\",\"A\",\"B\",\"B\",\"B\",\"B\",\"B\",\"B\",\"C\",\"C\",\"C\",\"C\",\"C\",\"C\"],\"shape\":[18],\"dtype\":\"object\",\"order\":\"little\"}],[\"Object\",{\"type\":\"ndarray\",\"array\":[\"JOB-001\",\"JOB-011\",\"JOB-010\",\"JOB-002\",\"JOB-003\",\"JOB-012\",\"JOB-004\",\"JOB-013\",\"JOB-005\",\"JOB-014\",\"JOB-006\",\"JOB-015\",\"JOB-007\",\"JOB-008\",\"JOB-017\",\"JOB-016\",\"JOB-009\",\"JOB-018\"],\"shape\":[18],\"dtype\":\"object\",\"order\":\"little\"}],[\"Status\",{\"type\":\"ndarray\",\"array\":[\"WAIT\",\"WAIT\",\"RUN\",\"WAIT\",\"WAIT\",\"RUN\",\"RUN\",\"WAIT\",\"WAIT\",\"RUN\",\"WAIT\",\"WAIT\",\"WAIT\",\"RUN\",\"WAIT\",\"RUN\",\"RUN\",\"RUN\"],\"shape\":[18],\"dtype\":\"object\",\"order\":\"little\"}],[\"Start\",{\"type\":\"ndarray\",\"array\":{\"type\":\"bytes\",\"data\":\"AADcTGCaeEIAANRxYZp4QgAAErthmnhCAABe2GGaeEIAAFAEYpp4QgAA9hJimnhCAAAalmCaeEIAAIhUYZp4QgAAqvVhmnhCAABQBGKaeEIAAMyWYpp4QgAAHq1jmnhCAAAoamCaeEIAAEoLYZp4QgAA4kVhmnhCAACq9WGaeEIAAEIwYpp4QgAA6D5imnhC\"},\"shape\":[18],\"dtype\":\"float64\",\"order\":\"little\"}],[\"Finish\",{\"type\":\"ndarray\",\"array\":{\"type\":\"bytes\",\"data\":\"AACgOGWaeEIAAMaWd5p4QgAAVvZ4mnhCAACgOGWaeEIAALyGc5p4QgAAasN5mnhCAAAU8GaaeEIAAL5ocZp4QgAABI1wmnhCAABypWKaeEIAAGg0g5p4QgAAaDttmnhCAADYepCaeEIAAP4ylJp4QgAANO2ymnhCAACswqGaeEIAAKDQn5p4QgAAJttpmnhC\"},\"shape\":[18],\"dtype\":\"float64\",\"order\":\"little\"}],[\"Key\",{\"type\":\"ndarray\",\"array\":[\"A-JOB-001\",\"A-JOB-011\",\"A-JOB-010\",\"A-JOB-002\",\"A-JOB-003\",\"A-JOB-012\",\"B-JOB-004\",\"B-JOB-013\",\"B-JOB-005\",\"B-JOB-014\",\"B-JOB-006\",\"B-JOB-015\",\"C-JOB-007\",\"C-JOB-008\",\"C-JOB-017\",\"C-JOB-016\",\"C-JOB-009\",\"C-JOB-018\"],\"shape\":[18],\"dtype\":\"object\",\"order\":\"little\"}],[\"Task\",{\"type\":\"ndarray\",\"array\":[\"JOB-001\",\"JOB-011\",\"JOB-010\",\"JOB-002\",\"JOB-003\",\"JOB-012\",\"JOB-004\",\"JOB-013\",\"JOB-005\",\"JOB-014\",\"JOB-006\",\"JOB-015\",\"JOB-007\",\"JOB-008\",\"JOB-017\",\"JOB-016\",\"JOB-009\",\"JOB-018\"],\"shape\":[18],\"dtype\":\"object\",\"order\":\"little\"}],[\"Row\",{\"type\":\"ndarray\",\"array\":{\"type\":\"bytes\",\"data\":\"AAAAAAQAAAADAAAAAQAAAAIAAAAFAAAABgAAAAkAAAAHAAAACgAAAAgAAAALAAAADAAAAA0AAAAQAAAADwAAAA4AAAARAAAA\"},\"shape\":[18],\"dtype\":\"int32\",\"order\":\"little\"}],[\"start_time\",{\"type\":\"ndarray\",\"array\":{\"type\":\"bytes\",\"data\":\"AADcTGCaeEIAANRxYZp4QgAAErthmnhCAABe2GGaeEIAAFAEYpp4QgAA9hJimnhCAAAalmCaeEIAAIhUYZp4QgAAqvVhmnhCAABQBGKaeEIAAMyWYpp4QgAAHq1jmnhCAAAoamCaeEIAAEoLYZp4QgAA4kVhmnhCAACq9WGaeEIAAEIwYpp4QgAA6D5imnhC\"},\"shape\":[18],\"dtype\":\"float64\",\"order\":\"little\"}],[\"end_time\",{\"type\":\"ndarray\",\"array\":{\"type\":\"bytes\",\"data\":\"AACgOGWaeEIAAMaWd5p4QgAAVvZ4mnhCAACgOGWaeEIAALyGc5p4QgAAasN5mnhCAAAU8GaaeEIAAL5ocZp4QgAABI1wmnhCAABypWKaeEIAAGg0g5p4QgAAaDttmnhCAADYepCaeEIAAP4ylJp4QgAANO2ymnhCAACswqGaeEIAAKDQn5p4QgAAJttpmnhC\"},\"shape\":[18],\"dtype\":\"float64\",\"order\":\"little\"}],[\"Width\",{\"type\":\"ndarray\",\"array\":{\"type\":\"bytes\",\"data\":\"AAAAABCvU0EAAAAA8iR2QQAAAABEO3dBAAAAABACS0EAAAAAbIJxQQAAAAB0sHdBAAAAAOhnWUEAAAAANhRwQQAAAAC0Lm1BAAAAAEAkJEEAAAAAzk6AQQAAAACUHGNBAAAAAFgIiEEAAAAA2pOJQQAAAIDUaZRBAAAAAIHmj0EAAAAAL9COQQAAAAD4cF5B\"},\"shape\":[18],\"dtype\":\"float64\",\"order\":\"little\"}],[\"Center\",{\"type\":\"ndarray\",\"array\":{\"type\":\"bytes\",\"data\":\"AAC+wmKaeEIAAE2EbJp4QgAAtFhtmnhCAAB/iGOaeEIAAIbFapp4QgAAMOttmnhCAAAXw2OaeEIAAKNeaZp4QgAAV0FpmnhCAADhVGKaeEIAAJrlcpp4QgAAQ3RomnhCAACAcniaeEIAACSfepp4QgAAixmKmnhCAAAr3IGaeEIAAHEAgZp4QgAABw1mmnhC\"},\"shape\":[18],\"dtype\":\"float64\",\"order\":\"little\"}]]}}},\"view\":{\"type\":\"object\",\"name\":\"CDSView\",\"id\":\"p2458\",\"attributes\":{\"filter\":{\"type\":\"object\",\"name\":\"AllIndices\",\"id\":\"p2459\"}}},\"glyph\":{\"type\":\"object\",\"name\":\"Scatter\",\"id\":\"p2454\",\"attributes\":{\"x\":{\"type\":\"field\",\"field\":\"Start\"},\"y\":{\"type\":\"field\",\"field\":\"Row\",\"transform\":{\"type\":\"object\",\"name\":\"Dodge\",\"id\":\"p2450\",\"attributes\":{\"value\":0.5}}},\"size\":{\"type\":\"value\",\"value\":5},\"line_color\":{\"type\":\"value\",\"value\":\"navy\"},\"line_alpha\":{\"type\":\"value\",\"value\":0.5},\"fill_color\":{\"type\":\"value\",\"value\":\"navy\"},\"fill_alpha\":{\"type\":\"value\",\"value\":0.5},\"hatch_color\":{\"type\":\"value\",\"value\":\"navy\"},\"hatch_alpha\":{\"type\":\"value\",\"value\":0.5},\"marker\":{\"type\":\"value\",\"value\":\"diamond\"}}},\"nonselection_glyph\":{\"type\":\"object\",\"name\":\"Scatter\",\"id\":\"p2455\",\"attributes\":{\"x\":{\"type\":\"field\",\"field\":\"Start\"},\"y\":{\"type\":\"field\",\"field\":\"Row\",\"transform\":{\"id\":\"p2450\"}},\"size\":{\"type\":\"value\",\"value\":5},\"line_color\":{\"type\":\"value\",\"value\":\"navy\"},\"line_alpha\":{\"type\":\"value\",\"value\":0.1},\"fill_color\":{\"type\":\"value\",\"value\":\"navy\"},\"fill_alpha\":{\"type\":\"value\",\"value\":0.1},\"hatch_color\":{\"type\":\"value\",\"value\":\"navy\"},\"hatch_alpha\":{\"type\":\"value\",\"value\":0.1},\"marker\":{\"type\":\"value\",\"value\":\"diamond\"}}},\"muted_glyph\":{\"type\":\"object\",\"name\":\"Scatter\",\"id\":\"p2456\",\"attributes\":{\"x\":{\"type\":\"field\",\"field\":\"Start\"},\"y\":{\"type\":\"field\",\"field\":\"Row\",\"transform\":{\"id\":\"p2450\"}},\"size\":{\"type\":\"value\",\"value\":5},\"line_color\":{\"type\":\"value\",\"value\":\"navy\"},\"line_alpha\":{\"type\":\"value\",\"value\":0.2},\"fill_color\":{\"type\":\"value\",\"value\":\"navy\"},\"fill_alpha\":{\"type\":\"value\",\"value\":0.2},\"hatch_color\":{\"type\":\"value\",\"value\":\"navy\"},\"hatch_alpha\":{\"type\":\"value\",\"value\":0.2},\"marker\":{\"type\":\"value\",\"value\":\"diamond\"}}}}}],\"toolbar\":{\"type\":\"object\",\"name\":\"Toolbar\",\"id\":\"p2407\",\"attributes\":{\"tools\":[{\"type\":\"object\",\"name\":\"HoverTool\",\"id\":\"p2369\",\"attributes\":{\"renderers\":\"auto\",\"tooltips\":[[\"Key\",\"@Key\"],[\"start_time\",\"@start_time\"],[\"end_time\",\"@end_time\"],[\"Status\",\"@Status\"],[\"Object\",\"@Object\"]]}},{\"type\":\"object\",\"name\":\"WheelZoomTool\",\"id\":\"p2434\",\"attributes\":{\"dimensions\":\"width\",\"renderers\":\"auto\"}},{\"type\":\"object\",\"name\":\"BoxZoomTool\",\"id\":\"p2435\",\"attributes\":{\"overlay\":{\"type\":\"object\",\"name\":\"BoxAnnotation\",\"id\":\"p2436\",\"attributes\":{\"syncable\":false,\"level\":\"overlay\",\"visible\":false,\"left_units\":\"canvas\",\"right_units\":\"canvas\",\"top_units\":\"canvas\",\"bottom_units\":\"canvas\",\"line_color\":\"black\",\"line_alpha\":1.0,\"line_width\":2,\"line_dash\":[4,4],\"fill_color\":\"lightgrey\",\"fill_alpha\":0.5}}}},{\"type\":\"object\",\"name\":\"ResetTool\",\"id\":\"p2437\"},{\"type\":\"object\",\"name\":\"SaveTool\",\"id\":\"p2438\"},{\"type\":\"object\",\"name\":\"PanTool\",\"id\":\"p2439\",\"attributes\":{\"dimensions\":\"width\"}}]}},\"left\":[{\"type\":\"object\",\"name\":\"CategoricalAxis\",\"id\":\"p2429\",\"attributes\":{\"ticker\":{\"type\":\"object\",\"name\":\"CategoricalTicker\",\"id\":\"p2430\"},\"formatter\":{\"type\":\"object\",\"name\":\"CategoricalTickFormatter\",\"id\":\"p2431\"},\"axis_label\":\"Key\",\"major_label_policy\":{\"type\":\"object\",\"name\":\"AllLabels\",\"id\":\"p2432\"}}}],\"below\":[{\"type\":\"object\",\"name\":\"DatetimeAxis\",\"id\":\"p2412\",\"attributes\":{\"ticker\":{\"type\":\"object\",\"name\":\"DatetimeTicker\",\"id\":\"p2413\",\"attributes\":{\"num_minor_ticks\":10,\"tickers\":[{\"type\":\"object\",\"name\":\"AdaptiveTicker\",\"id\":\"p2414\",\"attributes\":{\"num_minor_ticks\":0,\"mantissas\":[1,2,5],\"max_interval\":500.0}},{\"type\":\"object\",\"name\":\"AdaptiveTicker\",\"id\":\"p2415\",\"attributes\":{\"num_minor_ticks\":0,\"base\":60,\"mantissas\":[1,2,5,10,15,20,30],\"min_interval\":1000.0,\"max_interval\":1800000.0}},{\"type\":\"object\",\"name\":\"AdaptiveTicker\",\"id\":\"p2416\",\"attributes\":{\"num_minor_ticks\":0,\"base\":24,\"mantissas\":[1,2,4,6,8,12],\"min_interval\":3600000.0,\"max_interval\":43200000.0}},{\"type\":\"object\",\"name\":\"DaysTicker\",\"id\":\"p2417\",\"attributes\":{\"days\":[1,2,3,4,5,6,7,8,9,10,11,12,13,14,15,16,17,18,19,20,21,22,23,24,25,26,27,28,29,30,31]}},{\"type\":\"object\",\"name\":\"DaysTicker\",\"id\":\"p2418\",\"attributes\":{\"days\":[1,4,7,10,13,16,19,22,25,28]}},{\"type\":\"object\",\"name\":\"DaysTicker\",\"id\":\"p2419\",\"attributes\":{\"days\":[1,8,15,22]}},{\"type\":\"object\",\"name\":\"DaysTicker\",\"id\":\"p2420\",\"attributes\":{\"days\":[1,15]}},{\"type\":\"object\",\"name\":\"MonthsTicker\",\"id\":\"p2421\",\"attributes\":{\"months\":[0,1,2,3,4,5,6,7,8,9,10,11]}},{\"type\":\"object\",\"name\":\"MonthsTicker\",\"id\":\"p2422\",\"attributes\":{\"months\":[0,2,4,6,8,10]}},{\"type\":\"object\",\"name\":\"MonthsTicker\",\"id\":\"p2423\",\"attributes\":{\"months\":[0,4,8]}},{\"type\":\"object\",\"name\":\"MonthsTicker\",\"id\":\"p2424\",\"attributes\":{\"months\":[0,6]}},{\"type\":\"object\",\"name\":\"YearsTicker\",\"id\":\"p2425\"}]}},\"formatter\":{\"type\":\"object\",\"name\":\"DatetimeTickFormatter\",\"id\":\"p2538\",\"attributes\":{\"milliseconds\":\"%H:%M:%S.%3N\",\"seconds\":\"%H:%M:%S\",\"minutes\":\"%H:%M:%S\",\"hours\":\"%H:%M:%S\",\"days\":\"%m-%d %H:%M\"}},\"axis_label\":\"Event Time\",\"major_label_policy\":{\"type\":\"object\",\"name\":\"AllLabels\",\"id\":\"p2427\"}}}],\"center\":[{\"type\":\"object\",\"name\":\"Grid\",\"id\":\"p2428\",\"attributes\":{\"axis\":{\"id\":\"p2412\"},\"minor_grid_line_color\":\"navy\",\"minor_grid_line_alpha\":0.3}},{\"type\":\"object\",\"name\":\"Grid\",\"id\":\"p2433\",\"attributes\":{\"dimension\":1,\"axis\":{\"id\":\"p2429\"},\"grid_line_color\":null}}],\"min_border_left\":50}},{\"type\":\"object\",\"name\":\"Figure\",\"id\":\"p2488\",\"attributes\":{\"width\":900,\"height\":120,\"x_range\":{\"type\":\"object\",\"name\":\"Range1d\",\"id\":\"p2498\",\"attributes\":{\"start\":1690694484000.0,\"end\":1690807116000.0}},\"y_range\":{\"type\":\"object\",\"name\":\"DataRange1d\",\"id\":\"p2490\"},\"x_scale\":{\"type\":\"object\",\"name\":\"LinearScale\",\"id\":\"p2499\"},\"y_scale\":{\"type\":\"object\",\"name\":\"LinearScale\",\"id\":\"p2500\"},\"title\":{\"type\":\"object\",\"name\":\"Title\",\"id\":\"p2491\",\"attributes\":{\"text\":\"Range Selector\"}},\"renderers\":[{\"type\":\"object\",\"name\":\"GlyphRenderer\",\"id\":\"p2529\",\"attributes\":{\"data_source\":{\"type\":\"object\",\"name\":\"ColumnDataSource\",\"id\":\"p2520\",\"attributes\":{\"selected\":{\"type\":\"object\",\"name\":\"Selection\",\"id\":\"p2521\",\"attributes\":{\"indices\":[],\"line_indices\":[]}},\"selection_policy\":{\"type\":\"object\",\"name\":\"UnionRenderers\",\"id\":\"p2522\"},\"data\":{\"type\":\"map\",\"entries\":[[\"index\",{\"type\":\"ndarray\",\"array\":{\"type\":\"bytes\",\"data\":\"AAAAAAEAAAACAAAAAwAAAAQAAAAFAAAABgAAAAcAAAAIAAAACQAAAAoAAAALAAAADAAAAA0AAAAOAAAADwAAABAAAAARAAAA\"},\"shape\":[18],\"dtype\":\"int32\",\"order\":\"little\"}],[\"Resource\",{\"type\":\"ndarray\",\"array\":[\"A\",\"A\",\"A\",\"A\",\"A\",\"A\",\"B\",\"B\",\"B\",\"B\",\"B\",\"B\",\"C\",\"C\",\"C\",\"C\",\"C\",\"C\"],\"shape\":[18],\"dtype\":\"object\",\"order\":\"little\"}],[\"Object\",{\"type\":\"ndarray\",\"array\":[\"JOB-001\",\"JOB-011\",\"JOB-010\",\"JOB-002\",\"JOB-003\",\"JOB-012\",\"JOB-004\",\"JOB-013\",\"JOB-005\",\"JOB-014\",\"JOB-006\",\"JOB-015\",\"JOB-007\",\"JOB-008\",\"JOB-017\",\"JOB-016\",\"JOB-009\",\"JOB-018\"],\"shape\":[18],\"dtype\":\"object\",\"order\":\"little\"}],[\"Status\",{\"type\":\"ndarray\",\"array\":[\"WAIT\",\"WAIT\",\"RUN\",\"WAIT\",\"WAIT\",\"RUN\",\"RUN\",\"WAIT\",\"WAIT\",\"RUN\",\"WAIT\",\"WAIT\",\"WAIT\",\"RUN\",\"WAIT\",\"RUN\",\"RUN\",\"RUN\"],\"shape\":[18],\"dtype\":\"object\",\"order\":\"little\"}],[\"Start\",{\"type\":\"ndarray\",\"array\":{\"type\":\"bytes\",\"data\":\"AADcTGCaeEIAANRxYZp4QgAAErthmnhCAABe2GGaeEIAAFAEYpp4QgAA9hJimnhCAAAalmCaeEIAAIhUYZp4QgAAqvVhmnhCAABQBGKaeEIAAMyWYpp4QgAAHq1jmnhCAAAoamCaeEIAAEoLYZp4QgAA4kVhmnhCAACq9WGaeEIAAEIwYpp4QgAA6D5imnhC\"},\"shape\":[18],\"dtype\":\"float64\",\"order\":\"little\"}],[\"Finish\",{\"type\":\"ndarray\",\"array\":{\"type\":\"bytes\",\"data\":\"AACgOGWaeEIAAMaWd5p4QgAAVvZ4mnhCAACgOGWaeEIAALyGc5p4QgAAasN5mnhCAAAU8GaaeEIAAL5ocZp4QgAABI1wmnhCAABypWKaeEIAAGg0g5p4QgAAaDttmnhCAADYepCaeEIAAP4ylJp4QgAANO2ymnhCAACswqGaeEIAAKDQn5p4QgAAJttpmnhC\"},\"shape\":[18],\"dtype\":\"float64\",\"order\":\"little\"}],[\"Key\",{\"type\":\"ndarray\",\"array\":[\"A-JOB-001\",\"A-JOB-011\",\"A-JOB-010\",\"A-JOB-002\",\"A-JOB-003\",\"A-JOB-012\",\"B-JOB-004\",\"B-JOB-013\",\"B-JOB-005\",\"B-JOB-014\",\"B-JOB-006\",\"B-JOB-015\",\"C-JOB-007\",\"C-JOB-008\",\"C-JOB-017\",\"C-JOB-016\",\"C-JOB-009\",\"C-JOB-018\"],\"shape\":[18],\"dtype\":\"object\",\"order\":\"little\"}],[\"Task\",{\"type\":\"ndarray\",\"array\":[\"JOB-001\",\"JOB-011\",\"JOB-010\",\"JOB-002\",\"JOB-003\",\"JOB-012\",\"JOB-004\",\"JOB-013\",\"JOB-005\",\"JOB-014\",\"JOB-006\",\"JOB-015\",\"JOB-007\",\"JOB-008\",\"JOB-017\",\"JOB-016\",\"JOB-009\",\"JOB-018\"],\"shape\":[18],\"dtype\":\"object\",\"order\":\"little\"}],[\"Row\",{\"type\":\"ndarray\",\"array\":{\"type\":\"bytes\",\"data\":\"AAAAAAQAAAADAAAAAQAAAAIAAAAFAAAABgAAAAkAAAAHAAAACgAAAAgAAAALAAAADAAAAA0AAAAQAAAADwAAAA4AAAARAAAA\"},\"shape\":[18],\"dtype\":\"int32\",\"order\":\"little\"}],[\"start_time\",{\"type\":\"ndarray\",\"array\":{\"type\":\"bytes\",\"data\":\"AADcTGCaeEIAANRxYZp4QgAAErthmnhCAABe2GGaeEIAAFAEYpp4QgAA9hJimnhCAAAalmCaeEIAAIhUYZp4QgAAqvVhmnhCAABQBGKaeEIAAMyWYpp4QgAAHq1jmnhCAAAoamCaeEIAAEoLYZp4QgAA4kVhmnhCAACq9WGaeEIAAEIwYpp4QgAA6D5imnhC\"},\"shape\":[18],\"dtype\":\"float64\",\"order\":\"little\"}],[\"end_time\",{\"type\":\"ndarray\",\"array\":{\"type\":\"bytes\",\"data\":\"AACgOGWaeEIAAMaWd5p4QgAAVvZ4mnhCAACgOGWaeEIAALyGc5p4QgAAasN5mnhCAAAU8GaaeEIAAL5ocZp4QgAABI1wmnhCAABypWKaeEIAAGg0g5p4QgAAaDttmnhCAADYepCaeEIAAP4ylJp4QgAANO2ymnhCAACswqGaeEIAAKDQn5p4QgAAJttpmnhC\"},\"shape\":[18],\"dtype\":\"float64\",\"order\":\"little\"}],[\"Width\",{\"type\":\"ndarray\",\"array\":{\"type\":\"bytes\",\"data\":\"AAAAABCvU0EAAAAA8iR2QQAAAABEO3dBAAAAABACS0EAAAAAbIJxQQAAAAB0sHdBAAAAAOhnWUEAAAAANhRwQQAAAAC0Lm1BAAAAAEAkJEEAAAAAzk6AQQAAAACUHGNBAAAAAFgIiEEAAAAA2pOJQQAAAIDUaZRBAAAAAIHmj0EAAAAAL9COQQAAAAD4cF5B\"},\"shape\":[18],\"dtype\":\"float64\",\"order\":\"little\"}],[\"Center\",{\"type\":\"ndarray\",\"array\":{\"type\":\"bytes\",\"data\":\"AAC+wmKaeEIAAE2EbJp4QgAAtFhtmnhCAAB/iGOaeEIAAIbFapp4QgAAMOttmnhCAAAXw2OaeEIAAKNeaZp4QgAAV0FpmnhCAADhVGKaeEIAAJrlcpp4QgAAQ3RomnhCAACAcniaeEIAACSfepp4QgAAixmKmnhCAAAr3IGaeEIAAHEAgZp4QgAABw1mmnhC\"},\"shape\":[18],\"dtype\":\"float64\",\"order\":\"little\"}]]}}},\"view\":{\"type\":\"object\",\"name\":\"CDSView\",\"id\":\"p2530\",\"attributes\":{\"filter\":{\"type\":\"object\",\"name\":\"AllIndices\",\"id\":\"p2531\"}}},\"glyph\":{\"type\":\"object\",\"name\":\"Circle\",\"id\":\"p2526\",\"attributes\":{\"x\":{\"type\":\"field\",\"field\":\"Start\"},\"y\":{\"type\":\"field\",\"field\":\"Row\"},\"line_color\":{\"type\":\"value\",\"value\":\"blue\"},\"fill_color\":{\"type\":\"value\",\"value\":\"blue\"},\"hatch_color\":{\"type\":\"value\",\"value\":\"blue\"}}},\"nonselection_glyph\":{\"type\":\"object\",\"name\":\"Circle\",\"id\":\"p2527\",\"attributes\":{\"x\":{\"type\":\"field\",\"field\":\"Start\"},\"y\":{\"type\":\"field\",\"field\":\"Row\"},\"line_color\":{\"type\":\"value\",\"value\":\"blue\"},\"line_alpha\":{\"type\":\"value\",\"value\":0.1},\"fill_color\":{\"type\":\"value\",\"value\":\"blue\"},\"fill_alpha\":{\"type\":\"value\",\"value\":0.1},\"hatch_color\":{\"type\":\"value\",\"value\":\"blue\"},\"hatch_alpha\":{\"type\":\"value\",\"value\":0.1}}},\"muted_glyph\":{\"type\":\"object\",\"name\":\"Circle\",\"id\":\"p2528\",\"attributes\":{\"x\":{\"type\":\"field\",\"field\":\"Start\"},\"y\":{\"type\":\"field\",\"field\":\"Row\"},\"line_color\":{\"type\":\"value\",\"value\":\"blue\"},\"line_alpha\":{\"type\":\"value\",\"value\":0.2},\"fill_color\":{\"type\":\"value\",\"value\":\"blue\"},\"fill_alpha\":{\"type\":\"value\",\"value\":0.2},\"hatch_color\":{\"type\":\"value\",\"value\":\"blue\"},\"hatch_alpha\":{\"type\":\"value\",\"value\":0.2}}}}}],\"toolbar\":{\"type\":\"object\",\"name\":\"Toolbar\",\"id\":\"p2497\",\"attributes\":{\"tools\":[{\"type\":\"object\",\"name\":\"RangeTool\",\"id\":\"p2532\",\"attributes\":{\"x_range\":{\"id\":\"p2408\"},\"overlay\":{\"type\":\"object\",\"name\":\"BoxAnnotation\",\"id\":\"p2537\",\"attributes\":{\"syncable\":false,\"level\":\"overlay\",\"propagate_hover\":true,\"left_limit\":{\"type\":\"object\",\"name\":\"Node\",\"id\":\"p2533\",\"attributes\":{\"target\":\"frame\",\"symbol\":\"left\"}},\"right_limit\":{\"type\":\"object\",\"name\":\"Node\",\"id\":\"p2534\",\"attributes\":{\"target\":\"frame\",\"symbol\":\"right\"}},\"top_limit\":{\"type\":\"object\",\"name\":\"Node\",\"id\":\"p2535\",\"attributes\":{\"target\":\"frame\",\"symbol\":\"top\"}},\"bottom_limit\":{\"type\":\"object\",\"name\":\"Node\",\"id\":\"p2536\",\"attributes\":{\"target\":\"frame\",\"symbol\":\"bottom\"}},\"editable\":true,\"line_color\":\"black\",\"line_alpha\":1.0,\"line_width\":0.5,\"line_dash\":[2,2],\"fill_color\":\"navy\",\"fill_alpha\":0.2}}}}]}},\"toolbar_location\":null,\"below\":[{\"type\":\"object\",\"name\":\"DatetimeAxis\",\"id\":\"p2501\",\"attributes\":{\"ticker\":{\"type\":\"object\",\"name\":\"DatetimeTicker\",\"id\":\"p2502\",\"attributes\":{\"num_minor_ticks\":5,\"tickers\":[{\"type\":\"object\",\"name\":\"AdaptiveTicker\",\"id\":\"p2503\",\"attributes\":{\"num_minor_ticks\":0,\"mantissas\":[1,2,5],\"max_interval\":500.0}},{\"type\":\"object\",\"name\":\"AdaptiveTicker\",\"id\":\"p2504\",\"attributes\":{\"num_minor_ticks\":0,\"base\":60,\"mantissas\":[1,2,5,10,15,20,30],\"min_interval\":1000.0,\"max_interval\":1800000.0}},{\"type\":\"object\",\"name\":\"AdaptiveTicker\",\"id\":\"p2505\",\"attributes\":{\"num_minor_ticks\":0,\"base\":24,\"mantissas\":[1,2,4,6,8,12],\"min_interval\":3600000.0,\"max_interval\":43200000.0}},{\"type\":\"object\",\"name\":\"DaysTicker\",\"id\":\"p2506\",\"attributes\":{\"days\":[1,2,3,4,5,6,7,8,9,10,11,12,13,14,15,16,17,18,19,20,21,22,23,24,25,26,27,28,29,30,31]}},{\"type\":\"object\",\"name\":\"DaysTicker\",\"id\":\"p2507\",\"attributes\":{\"days\":[1,4,7,10,13,16,19,22,25,28]}},{\"type\":\"object\",\"name\":\"DaysTicker\",\"id\":\"p2508\",\"attributes\":{\"days\":[1,8,15,22]}},{\"type\":\"object\",\"name\":\"DaysTicker\",\"id\":\"p2509\",\"attributes\":{\"days\":[1,15]}},{\"type\":\"object\",\"name\":\"MonthsTicker\",\"id\":\"p2510\",\"attributes\":{\"months\":[0,1,2,3,4,5,6,7,8,9,10,11]}},{\"type\":\"object\",\"name\":\"MonthsTicker\",\"id\":\"p2511\",\"attributes\":{\"months\":[0,2,4,6,8,10]}},{\"type\":\"object\",\"name\":\"MonthsTicker\",\"id\":\"p2512\",\"attributes\":{\"months\":[0,4,8]}},{\"type\":\"object\",\"name\":\"MonthsTicker\",\"id\":\"p2513\",\"attributes\":{\"months\":[0,6]}},{\"type\":\"object\",\"name\":\"YearsTicker\",\"id\":\"p2514\"}]}},\"formatter\":{\"type\":\"object\",\"name\":\"DatetimeTickFormatter\",\"id\":\"p2519\",\"attributes\":{\"milliseconds\":\"%H:%M:%S.%3N\",\"seconds\":\"%H:%M:%S\",\"minutes\":\"%H:%M:%S\",\"hours\":\"%H:%M:%S\",\"days\":\"%m-%d %H:%M\"}},\"major_label_policy\":{\"type\":\"object\",\"name\":\"AllLabels\",\"id\":\"p2516\"}}},{\"type\":\"object\",\"name\":\"Title\",\"id\":\"p2518\",\"attributes\":{\"text\":\"Drag the middle or edges of the selection box to change the range in the main chart\",\"text_font_size\":\"10px\",\"align\":\"right\"}}],\"center\":[{\"type\":\"object\",\"name\":\"Grid\",\"id\":\"p2517\",\"attributes\":{\"axis\":{\"id\":\"p2501\"}}}]}}]}}]}};\n  const render_items = [{\"docid\":\"ebba5136-0640-4c62-91b9-f94ec2212aeb\",\"roots\":{\"p2539\":\"ae5e7bae-c92f-4b5f-bb15-b5278e2f66fe\"},\"root_ids\":[\"p2539\"]}];\n  root.Bokeh.embed.embed_items_notebook(docs_json, render_items);\n  }\n  if (root.Bokeh !== undefined) {\n    embed_document(root);\n  } else {\n    let attempts = 0;\n    const timer = setInterval(function(root) {\n      if (root.Bokeh !== undefined) {\n        clearInterval(timer);\n        embed_document(root);\n      } else {\n        attempts++;\n        if (attempts > 100) {\n          clearInterval(timer);\n          console.log(\"Bokeh: ERROR: Unable to run BokehJS code because BokehJS library is missing\");\n        }\n      }\n    }, 10, root)\n  }\n})(window);",
      "application/vnd.bokehjs_exec.v0+json": ""
     },
     "metadata": {
      "application/vnd.bokehjs_exec.v0+json": {
       "id": "p2539"
      }
     },
     "output_type": "display_data"
    }
   ],
   "source": [
    "from msticpy.vis import mp_pandas_plot\n",
    "from msticpy.vis.timeline_duration import display_timeline_duration\n",
    "\n",
    "display_timeline_duration(\n",
    "   df,\n",
    "   group_by=\"Key\",\n",
    "   time_column=\"Start\",\n",
    "   end_time_column=\"Finish\"\n",
    "   ,source_columns= (\"Status\",\"Object\")\n",
    ");\n",
    "\n"
   ]
  },
  {
   "cell_type": "code",
   "execution_count": 7,
   "metadata": {},
   "outputs": [
    {
     "name": "stdout",
     "output_type": "stream",
     "text": [
      "Warning: Cannot change to a different GUI toolkit: notebook. Using tk instead.\n"
     ]
    }
   ],
   "source": [
    "# ライブラリーの読み込み\n",
    "import pandas as pd\n",
    "from statsmodels.tsa.seasonal import STL #STL分解\n",
    "import matplotlib.pyplot as plt          #グラフ描写\n",
    "\n",
    "\n",
    "# データセットの読み込み\n",
    "url='https://www.salesanalytics.co.jp/591h' #データセットのあるURL\n",
    "table=pd.read_csv(url,                      #読み込むデータのURL\n",
    "                  index_col='Month',        #変数「Month」をインデックスに設定\n",
    "                  parse_dates=True)         #インデックスを日付型に設定\n",
    "\n",
    "# グラフ設定１\n",
    "%matplotlib notebook\n",
    "plt.style.use('ggplot')\n",
    "plt.rcParams['figure.figsize'] = [10, 8]\n",
    "# プロット\n",
    "table.plot()\n",
    "plt.title('Passengers')                            #グラフタイトル\n",
    "plt.ylabel('Monthly Number of Airline Passengers') #タテ軸のラベル\n",
    "plt.xlabel('Month')                                #ヨコ軸のラベル\n",
    "plt.show()"
   ]
  },
  {
   "cell_type": "markdown",
   "metadata": {},
   "source": [
    "PyGWalker を使用する"
   ]
  },
  {
   "cell_type": "code",
   "execution_count": 14,
   "metadata": {},
   "outputs": [
    {
     "name": "stderr",
     "output_type": "stream",
     "text": [
      "WARNING: parse invoke code failed, This may affect feature of export code.\n"
     ]
    },
    {
     "data": {
      "application/vnd.jupyter.widget-view+json": {
       "model_id": "11bc1c8db76a46668cc9637247ccdaec",
       "version_major": 2,
       "version_minor": 0
      },
      "text/plain": [
       "Box(children=(HTML(value='<div id=\"ifr-pyg-0\" style=\"height: auto\">\\n    <head>\\n        <meta http-equiv=\"Con…"
      ]
     },
     "metadata": {},
     "output_type": "display_data"
    },
    {
     "data": {
      "text/html": [
       "<html>\n",
       "<style>\n",
       ".tabs{\n",
       "    position:relative;\n",
       "    height:660px;\n",
       "}\n",
       ".tab-pane{\n",
       "    display:inline-block;\n",
       "}\n",
       ".tabs input[type='radio']{\n",
       "    position:absolute;\n",
       "    clip:rect(0,0,0,0)\n",
       "}\n",
       ".tab-item{\n",
       "    display:block;\n",
       "    height:34px;\n",
       "    line-height:34px;\n",
       "    cursor:pointer;\n",
       "    padding:0 10px\n",
       "}\n",
       "\n",
       ".tabs input[type='radio']:checked+.tab-item{\n",
       "    background:#2563eb;\n",
       "    color:#fff\n",
       "}\n",
       "\n",
       ".tab-content{\n",
       "    display: none;\n",
       "    position:absolute;\n",
       "    left:0;\n",
       "    top:56px;\n",
       "    bottom:0;\n",
       "    right:0;\n",
       "}\n",
       "\n",
       ".tabs input[type='radio']:checked+.tab-item+.tab-content{\n",
       "    display: block;\n",
       "}\n",
       "</style>\n",
       "\n",
       "<body>\n",
       "    <div id=\"pygwalker-preview-0\">\n",
       "        <div class=\"tabs\">\n",
       "            \n",
       "        </div>\n",
       "    </div>\n",
       "</body>\n",
       "</html>"
      ],
      "text/plain": [
       "<IPython.core.display.HTML object>"
      ]
     },
     "metadata": {},
     "output_type": "display_data"
    }
   ],
   "source": [
    "import pygwalker as pyg\n",
    "gwalker = pyg.walk(df)"
   ]
  },
  {
   "cell_type": "markdown",
   "metadata": {},
   "source": [
    "複数のグラフ(Axes)を一つのページ(figure)にプロットする  \n",
    "方針2: figureオブジェクトではなく、subplotsオブジェクトを生成する。"
   ]
  },
  {
   "cell_type": "code",
   "execution_count": 6,
   "metadata": {},
   "outputs": [
    {
     "data": {
      "image/png": "[encoded data removed]",
      "text/plain": [
       "<Figure size 864x576 with 3 Axes>"
      ]
     },
     "metadata": {
      "needs_background": "light"
     },
     "output_type": "display_data"
    }
   ],
   "source": [
    "# プロット領域の初期化(今回は1行2列の配列)\n",
    "fig, (ax1, ax2, ax3) = plt.subplots(1, 3, figsize=(12, 8))\n",
    "\n",
    "# データのプロット\n",
    "ax1.bar([1,2,3], [3,4,5])\n",
    "ax2.barh([0.5, 1, 2.5], [0,1,2])\n",
    "ax3.scatter(y1,y2)\n",
    "\n",
    "plt.show()\n"
   ]
  },
  {
   "cell_type": "markdown",
   "metadata": {},
   "source": [
    "複数のグラフ(Axes)を一つのページ(figure)にプロットする  \n",
    "方針1: figureオブジェクト内にadd_subplot()メソッドで追加する。"
   ]
  },
  {
   "cell_type": "code",
   "execution_count": 4,
   "metadata": {},
   "outputs": [
    {
     "data": {
      "image/png": "[encoded data removed]",
      "text/plain": [
       "<Figure size 864x576 with 3 Axes>"
      ]
     },
     "metadata": {
      "needs_background": "light"
     },
     "output_type": "display_data"
    }
   ],
   "source": [
    "# データ生成\n",
    "x = np.linspace(0,10,100)\n",
    "y1 = np.sin(x)\n",
    "y2 = np.cos(x)\n",
    "\n",
    "# プロット領域(Figure、Axes)の初期化\n",
    "fig = plt.figure(figsize=(12,8))\n",
    "ax1 = fig.add_subplot(131)\n",
    "ax2 = fig.add_subplot(132)\n",
    "ax3 = fig.add_subplot(133)\n",
    "\n",
    "# 棒グラフの作成\n",
    "ax1.bar([1,2,3],[3,4,5])\n",
    "ax2.barh([0.5,1,2.5],[0,1,2])\n",
    "ax3.scatter(y1,y2)\n",
    "\n",
    "# 水平線、垂直線を入れる\n",
    "ax3.axhline(0.45)\n",
    "ax3.axvline(0.65)\n",
    "\n",
    "plt.show()\n",
    "\n"
   ]
  },
  {
   "cell_type": "markdown",
   "metadata": {},
   "source": [
    "インスタンスを明言してプロットする"
   ]
  },
  {
   "cell_type": "code",
   "execution_count": 2,
   "metadata": {},
   "outputs": [
    {
     "data": {
      "image/png": "[encoded data removed]",
      "text/plain": [
       "<Figure size 864x576 with 1 Axes>"
      ]
     },
     "metadata": {
      "needs_background": "light"
     },
     "output_type": "display_data"
    }
   ],
   "source": [
    "# データ生成\n",
    "x = np.linspace(0, 10, 100)\n",
    "y = x + np.random.randn(100) \n",
    "\n",
    "# プロット\n",
    "# plt.plot(x, y, label=\"test\")\n",
    "\n",
    "# Figureの初期化\n",
    "fig = plt.figure(figsize=(12,8))\n",
    "\n",
    "# Figure内にAxesを追加()\n",
    "ax = fig.add_subplot(111)\n",
    "ax.plot(x,y,label=\"test\")\n",
    "\n",
    "# 凡例の表示\n",
    "plt.legend()\n",
    "\n",
    "# プロット表示(設定の反映)\n",
    "plt.show()"
   ]
  },
  {
   "cell_type": "markdown",
   "metadata": {},
   "source": [
    "ガントチャートを作りたい"
   ]
  },
  {
   "cell_type": "code",
   "execution_count": 10,
   "metadata": {},
   "outputs": [
    {
     "data": {
      "application/vnd.plotly.v1+json": {
       "config": {
        "plotlyServerURL": "https://plot.ly"
       },
       "data": [
        {
         "alignmentgroup": "True",
         "base": [
          "2023-07-30T08:58:00",
          "2023-07-30T09:18:00",
          "2023-07-30T09:25:00",
          "2023-07-30T09:28:00",
          "2023-07-30T09:16:00",
          "2023-07-30T09:27:00",
          "2023-07-30T09:38:00",
          "2023-07-30T09:57:00",
          "2023-07-30T09:00:00",
          "2023-07-30T09:15:00"
         ],
         "cliponaxis": false,
         "hovertemplate": "Status=WAIT<br>Start=%{base}<br>Finish=%{x}<br>Key=%{y}<br>Object=%{text}<extra></extra>",
         "legendgroup": "WAIT",
         "marker": {
          "color": "limegreen",
          "opacity": 1,
          "pattern": {
           "shape": ""
          }
         },
         "name": "WAIT",
         "offsetgroup": "WAIT",
         "orientation": "h",
         "showlegend": true,
         "text": [
          "JOB-001",
          "JOB-011",
          "JOB-002",
          "JOB-003",
          "JOB-013",
          "JOB-005",
          "JOB-006",
          "JOB-015",
          "JOB-007",
          "JOB-017"
         ],
         "textangle": 0,
         "textfont": {
          "size": 10
         },
         "textposition": "inside",
         "type": "bar",
         "width": 1,
         "x": [
          5160000,
          23220000,
          3540000,
          18360000,
          16860000,
          15300000,
          34200000,
          10020000,
          50400000,
          85620000
         ],
         "xaxis": "x",
         "y": [
          "A-JOB-001",
          "A-JOB-011",
          "A-JOB-002",
          "A-JOB-003",
          "B-JOB-013",
          "B-JOB-005",
          "B-JOB-006",
          "B-JOB-015",
          "C-JOB-007",
          "C-JOB-017"
         ],
         "yaxis": "y"
        },
        {
         "alignmentgroup": "True",
         "base": [
          "2023-07-30T09:23:00",
          "2023-07-30T09:29:00",
          "2023-07-30T09:03:00",
          "2023-07-30T09:28:00",
          "2023-07-30T09:11:00",
          "2023-07-30T09:27:00",
          "2023-07-30T09:31:00",
          "2023-07-30T09:32:00"
         ],
         "cliponaxis": false,
         "hovertemplate": "Status=RUN<br>Start=%{base}<br>Finish=%{x}<br>Key=%{y}<br>Object=%{text}<extra></extra>",
         "legendgroup": "RUN",
         "marker": {
          "color": "Blue",
          "opacity": 1,
          "pattern": {
           "shape": ""
          }
         },
         "name": "RUN",
         "offsetgroup": "RUN",
         "orientation": "h",
         "showlegend": true,
         "text": [
          "JOB-010",
          "JOB-012",
          "JOB-004",
          "JOB-014",
          "JOB-008",
          "JOB-016",
          "JOB-009",
          "JOB-018"
         ],
         "textangle": 0,
         "textfont": {
          "size": 10
         },
         "textposition": "inside",
         "type": "bar",
         "width": 1,
         "x": [
          24360000,
          24840000,
          6660000,
          660000,
          53640000,
          66900000,
          64620000,
          7980000
         ],
         "xaxis": "x",
         "y": [
          "A-JOB-010",
          "A-JOB-012",
          "B-JOB-004",
          "B-JOB-014",
          "C-JOB-008",
          "C-JOB-016",
          "C-JOB-009",
          "C-JOB-018"
         ],
         "yaxis": "y"
        }
       ],
       "layout": {
        "bargap": 0,
        "bargroupgap": 0,
        "barmode": "group",
        "clickmode": "event+select",
        "dragmode": "pan",
        "font": {
         "family": "Arial",
         "size": 20
        },
        "hoverlabel": {
         "bgcolor": "#DAEEED",
         "font": {
          "size": 15
         }
        },
        "legend": {
         "title": {
          "text": "Status"
         },
         "tracegroupgap": 0,
         "x": 0.9
        },
        "template": {
         "data": {
          "bar": [
           {
            "error_x": {
             "color": "#2a3f5f"
            },
            "error_y": {
             "color": "#2a3f5f"
            },
            "marker": {
             "line": {
              "color": "#E5ECF6",
              "width": 0.5
             },
             "pattern": {
              "fillmode": "overlay",
              "size": 10,
              "solidity": 0.2
             }
            },
            "type": "bar"
           }
          ],
          "barpolar": [
           {
            "marker": {
             "line": {
              "color": "#E5ECF6",
              "width": 0.5
             },
             "pattern": {
              "fillmode": "overlay",
              "size": 10,
              "solidity": 0.2
             }
            },
            "type": "barpolar"
           }
          ],
          "carpet": [
           {
            "aaxis": {
             "endlinecolor": "#2a3f5f",
             "gridcolor": "white",
             "linecolor": "white",
             "minorgridcolor": "white",
             "startlinecolor": "#2a3f5f"
            },
            "baxis": {
             "endlinecolor": "#2a3f5f",
             "gridcolor": "white",
             "linecolor": "white",
             "minorgridcolor": "white",
             "startlinecolor": "#2a3f5f"
            },
            "type": "carpet"
           }
          ],
          "choropleth": [
           {
            "colorbar": {
             "outlinewidth": 0,
             "ticks": ""
            },
            "type": "choropleth"
           }
          ],
          "contour": [
           {
            "colorbar": {
             "outlinewidth": 0,
             "ticks": ""
            },
            "colorscale": [
             [
              0,
              "#0d0887"
             ],
             [
              0.1111111111111111,
              "#46039f"
             ],
             [
              0.2222222222222222,
              "#7201a8"
             ],
             [
              0.3333333333333333,
              "#9c179e"
             ],
             [
              0.4444444444444444,
              "#bd3786"
             ],
             [
              0.5555555555555556,
              "#d8576b"
             ],
             [
              0.6666666666666666,
              "#ed7953"
             ],
             [
              0.7777777777777778,
              "#fb9f3a"
             ],
             [
              0.8888888888888888,
              "#fdca26"
             ],
             [
              1,
              "#f0f921"
             ]
            ],
            "type": "contour"
           }
          ],
          "contourcarpet": [
           {
            "colorbar": {
             "outlinewidth": 0,
             "ticks": ""
            },
            "type": "contourcarpet"
           }
          ],
          "heatmap": [
           {
            "colorbar": {
             "outlinewidth": 0,
             "ticks": ""
            },
            "colorscale": [
             [
              0,
              "#0d0887"
             ],
             [
              0.1111111111111111,
              "#46039f"
             ],
             [
              0.2222222222222222,
              "#7201a8"
             ],
             [
              0.3333333333333333,
              "#9c179e"
             ],
             [
              0.4444444444444444,
              "#bd3786"
             ],
             [
              0.5555555555555556,
              "#d8576b"
             ],
             [
              0.6666666666666666,
              "#ed7953"
             ],
             [
              0.7777777777777778,
              "#fb9f3a"
             ],
             [
              0.8888888888888888,
              "#fdca26"
             ],
             [
              1,
              "#f0f921"
             ]
            ],
            "type": "heatmap"
           }
          ],
          "heatmapgl": [
           {
            "colorbar": {
             "outlinewidth": 0,
             "ticks": ""
            },
            "colorscale": [
             [
              0,
              "#0d0887"
             ],
             [
              0.1111111111111111,
              "#46039f"
             ],
             [
              0.2222222222222222,
              "#7201a8"
             ],
             [
              0.3333333333333333,
              "#9c179e"
             ],
             [
              0.4444444444444444,
              "#bd3786"
             ],
             [
              0.5555555555555556,
              "#d8576b"
             ],
             [
              0.6666666666666666,
              "#ed7953"
             ],
             [
              0.7777777777777778,
              "#fb9f3a"
             ],
             [
              0.8888888888888888,
              "#fdca26"
             ],
             [
              1,
              "#f0f921"
             ]
            ],
            "type": "heatmapgl"
           }
          ],
          "histogram": [
           {
            "marker": {
             "pattern": {
              "fillmode": "overlay",
              "size": 10,
              "solidity": 0.2
             }
            },
            "type": "histogram"
           }
          ],
          "histogram2d": [
           {
            "colorbar": {
             "outlinewidth": 0,
             "ticks": ""
            },
            "colorscale": [
             [
              0,
              "#0d0887"
             ],
             [
              0.1111111111111111,
              "#46039f"
             ],
             [
              0.2222222222222222,
              "#7201a8"
             ],
             [
              0.3333333333333333,
              "#9c179e"
             ],
             [
              0.4444444444444444,
              "#bd3786"
             ],
             [
              0.5555555555555556,
              "#d8576b"
             ],
             [
              0.6666666666666666,
              "#ed7953"
             ],
             [
              0.7777777777777778,
              "#fb9f3a"
             ],
             [
              0.8888888888888888,
              "#fdca26"
             ],
             [
              1,
              "#f0f921"
             ]
            ],
            "type": "histogram2d"
           }
          ],
          "histogram2dcontour": [
           {
            "colorbar": {
             "outlinewidth": 0,
             "ticks": ""
            },
            "colorscale": [
             [
              0,
              "#0d0887"
             ],
             [
              0.1111111111111111,
              "#46039f"
             ],
             [
              0.2222222222222222,
              "#7201a8"
             ],
             [
              0.3333333333333333,
              "#9c179e"
             ],
             [
              0.4444444444444444,
              "#bd3786"
             ],
             [
              0.5555555555555556,
              "#d8576b"
             ],
             [
              0.6666666666666666,
              "#ed7953"
             ],
             [
              0.7777777777777778,
              "#fb9f3a"
             ],
             [
              0.8888888888888888,
              "#fdca26"
             ],
             [
              1,
              "#f0f921"
             ]
            ],
            "type": "histogram2dcontour"
           }
          ],
          "mesh3d": [
           {
            "colorbar": {
             "outlinewidth": 0,
             "ticks": ""
            },
            "type": "mesh3d"
           }
          ],
          "parcoords": [
           {
            "line": {
             "colorbar": {
              "outlinewidth": 0,
              "ticks": ""
             }
            },
            "type": "parcoords"
           }
          ],
          "pie": [
           {
            "automargin": true,
            "type": "pie"
           }
          ],
          "scatter": [
           {
            "fillpattern": {
             "fillmode": "overlay",
             "size": 10,
             "solidity": 0.2
            },
            "type": "scatter"
           }
          ],
          "scatter3d": [
           {
            "line": {
             "colorbar": {
              "outlinewidth": 0,
              "ticks": ""
             }
            },
            "marker": {
             "colorbar": {
              "outlinewidth": 0,
              "ticks": ""
             }
            },
            "type": "scatter3d"
           }
          ],
          "scattercarpet": [
           {
            "marker": {
             "colorbar": {
              "outlinewidth": 0,
              "ticks": ""
             }
            },
            "type": "scattercarpet"
           }
          ],
          "scattergeo": [
           {
            "marker": {
             "colorbar": {
              "outlinewidth": 0,
              "ticks": ""
             }
            },
            "type": "scattergeo"
           }
          ],
          "scattergl": [
           {
            "marker": {
             "colorbar": {
              "outlinewidth": 0,
              "ticks": ""
             }
            },
            "type": "scattergl"
           }
          ],
          "scattermapbox": [
           {
            "marker": {
             "colorbar": {
              "outlinewidth": 0,
              "ticks": ""
             }
            },
            "type": "scattermapbox"
           }
          ],
          "scatterpolar": [
           {
            "marker": {
             "colorbar": {
              "outlinewidth": 0,
              "ticks": ""
             }
            },
            "type": "scatterpolar"
           }
          ],
          "scatterpolargl": [
           {
            "marker": {
             "colorbar": {
              "outlinewidth": 0,
              "ticks": ""
             }
            },
            "type": "scatterpolargl"
           }
          ],
          "scatterternary": [
           {
            "marker": {
             "colorbar": {
              "outlinewidth": 0,
              "ticks": ""
             }
            },
            "type": "scatterternary"
           }
          ],
          "surface": [
           {
            "colorbar": {
             "outlinewidth": 0,
             "ticks": ""
            },
            "colorscale": [
             [
              0,
              "#0d0887"
             ],
             [
              0.1111111111111111,
              "#46039f"
             ],
             [
              0.2222222222222222,
              "#7201a8"
             ],
             [
              0.3333333333333333,
              "#9c179e"
             ],
             [
              0.4444444444444444,
              "#bd3786"
             ],
             [
              0.5555555555555556,
              "#d8576b"
             ],
             [
              0.6666666666666666,
              "#ed7953"
             ],
             [
              0.7777777777777778,
              "#fb9f3a"
             ],
             [
              0.8888888888888888,
              "#fdca26"
             ],
             [
              1,
              "#f0f921"
             ]
            ],
            "type": "surface"
           }
          ],
          "table": [
           {
            "cells": {
             "fill": {
              "color": "#EBF0F8"
             },
             "line": {
              "color": "white"
             }
            },
            "header": {
             "fill": {
              "color": "#C8D4E3"
             },
             "line": {
              "color": "white"
             }
            },
            "type": "table"
           }
          ]
         },
         "layout": {
          "annotationdefaults": {
           "arrowcolor": "#2a3f5f",
           "arrowhead": 0,
           "arrowwidth": 1
          },
          "autotypenumbers": "strict",
          "coloraxis": {
           "colorbar": {
            "outlinewidth": 0,
            "ticks": ""
           }
          },
          "colorscale": {
           "diverging": [
            [
             0,
             "#8e0152"
            ],
            [
             0.1,
             "#c51b7d"
            ],
            [
             0.2,
             "#de77ae"
            ],
            [
             0.3,
             "#f1b6da"
            ],
            [
             0.4,
             "#fde0ef"
            ],
            [
             0.5,
             "#f7f7f7"
            ],
            [
             0.6,
             "#e6f5d0"
            ],
            [
             0.7,
             "#b8e186"
            ],
            [
             0.8,
             "#7fbc41"
            ],
            [
             0.9,
             "#4d9221"
            ],
            [
             1,
             "#276419"
            ]
           ],
           "sequential": [
            [
             0,
             "#0d0887"
            ],
            [
             0.1111111111111111,
             "#46039f"
            ],
            [
             0.2222222222222222,
             "#7201a8"
            ],
            [
             0.3333333333333333,
             "#9c179e"
            ],
            [
             0.4444444444444444,
             "#bd3786"
            ],
            [
             0.5555555555555556,
             "#d8576b"
            ],
            [
             0.6666666666666666,
             "#ed7953"
            ],
            [
             0.7777777777777778,
             "#fb9f3a"
            ],
            [
             0.8888888888888888,
             "#fdca26"
            ],
            [
             1,
             "#f0f921"
            ]
           ],
           "sequentialminus": [
            [
             0,
             "#0d0887"
            ],
            [
             0.1111111111111111,
             "#46039f"
            ],
            [
             0.2222222222222222,
             "#7201a8"
            ],
            [
             0.3333333333333333,
             "#9c179e"
            ],
            [
             0.4444444444444444,
             "#bd3786"
            ],
            [
             0.5555555555555556,
             "#d8576b"
            ],
            [
             0.6666666666666666,
             "#ed7953"
            ],
            [
             0.7777777777777778,
             "#fb9f3a"
            ],
            [
             0.8888888888888888,
             "#fdca26"
            ],
            [
             1,
             "#f0f921"
            ]
           ]
          },
          "colorway": [
           "#636efa",
           "#EF553B",
           "#00cc96",
           "#ab63fa",
           "#FFA15A",
           "#19d3f3",
           "#FF6692",
           "#B6E880",
           "#FF97FF",
           "#FECB52"
          ],
          "font": {
           "color": "#2a3f5f"
          },
          "geo": {
           "bgcolor": "white",
           "lakecolor": "white",
           "landcolor": "#E5ECF6",
           "showlakes": true,
           "showland": true,
           "subunitcolor": "white"
          },
          "hoverlabel": {
           "align": "left"
          },
          "hovermode": "closest",
          "mapbox": {
           "style": "light"
          },
          "paper_bgcolor": "white",
          "plot_bgcolor": "#E5ECF6",
          "polar": {
           "angularaxis": {
            "gridcolor": "white",
            "linecolor": "white",
            "ticks": ""
           },
           "bgcolor": "#E5ECF6",
           "radialaxis": {
            "gridcolor": "white",
            "linecolor": "white",
            "ticks": ""
           }
          },
          "scene": {
           "xaxis": {
            "backgroundcolor": "#E5ECF6",
            "gridcolor": "white",
            "gridwidth": 2,
            "linecolor": "white",
            "showbackground": true,
            "ticks": "",
            "zerolinecolor": "white"
           },
           "yaxis": {
            "backgroundcolor": "#E5ECF6",
            "gridcolor": "white",
            "gridwidth": 2,
            "linecolor": "white",
            "showbackground": true,
            "ticks": "",
            "zerolinecolor": "white"
           },
           "zaxis": {
            "backgroundcolor": "#E5ECF6",
            "gridcolor": "white",
            "gridwidth": 2,
            "linecolor": "white",
            "showbackground": true,
            "ticks": "",
            "zerolinecolor": "white"
           }
          },
          "shapedefaults": {
           "line": {
            "color": "#2a3f5f"
           }
          },
          "ternary": {
           "aaxis": {
            "gridcolor": "white",
            "linecolor": "white",
            "ticks": ""
           },
           "baxis": {
            "gridcolor": "white",
            "linecolor": "white",
            "ticks": ""
           },
           "bgcolor": "#E5ECF6",
           "caxis": {
            "gridcolor": "white",
            "linecolor": "white",
            "ticks": ""
           }
          },
          "title": {
           "x": 0.05
          },
          "xaxis": {
           "automargin": true,
           "gridcolor": "white",
           "linecolor": "white",
           "ticks": "",
           "title": {
            "standoff": 15
           },
           "zerolinecolor": "white",
           "zerolinewidth": 2
          },
          "yaxis": {
           "automargin": true,
           "gridcolor": "white",
           "linecolor": "white",
           "ticks": "",
           "title": {
            "standoff": 15
           },
           "zerolinecolor": "white",
           "zerolinewidth": 2
          }
         }
        },
        "title": {
         "text": "1st made gantt chart"
        },
        "xaxis": {
         "anchor": "y",
         "domain": [
          0,
          1
         ],
         "linecolor": "Black",
         "showgrid": true,
         "showline": true,
         "showticklabels": true,
         "side": "bottom",
         "tickangle": 0,
         "tickfont": {
          "size": 15
         },
         "tickformat": "%Y/%m/%d %H:%M",
         "title": {
          "text": "Time"
         },
         "type": "date",
         "zeroline": true
        },
        "yaxis": {
         "anchor": "x",
         "autorange": "reversed",
         "categoryarray": [
          "A-JOB-001",
          "A-JOB-011",
          "A-JOB-010",
          "A-JOB-002",
          "A-JOB-003",
          "A-JOB-012",
          "B-JOB-004",
          "B-JOB-013",
          "B-JOB-005",
          "B-JOB-014",
          "B-JOB-006",
          "B-JOB-015",
          "C-JOB-007",
          "C-JOB-008",
          "C-JOB-017",
          "C-JOB-016",
          "C-JOB-009",
          "C-JOB-018"
         ],
         "categoryorder": "array",
         "domain": [
          0,
          1
         ],
         "linecolor": "Black",
         "showgrid": true,
         "showline": true,
         "title": {
          "text": ""
         },
         "zeroline": true
        }
       }
      }
     },
     "metadata": {},
     "output_type": "display_data"
    }
   ],
   "source": [
    "# df = pd.DataFrame([\n",
    "#     dict(Resource=\"A\",Object=\"Job A\", Status=\"End\",Start='2023-07-29 10:00', Finish='2023-07-29 12:00'),\n",
    "#     dict(Resource=\"A\",Object=\"Job C\", Status=\"End\",Start='2023-07-30 13:05', Finish='2023-07-30 16:00'),\n",
    "#     dict(Resource=\"A\",Object=\"Job B\", Status=\"End\",Start='2023-07-29 11:15', Finish='2023-07-29 15:00'),\n",
    "#     dict(Resource=\"A\",Object=\"Job F\", Status=\"Abend\",Start='2023-07-29 11:15', Finish='2023-07-29 15:00'),\n",
    "#     dict(Resource=\"A\",Object=\"Job G\", Status=\"Abend\",Start='2023-07-29 11:15', Finish='2023-07-29 15:00'),\n",
    "#     dict(Resource=\"A\",Object=\"Job G\", Status=\"Abend\",Start='2023-07-29 14:15', Finish='2023-07-29 18:00'),\n",
    "#     dict(Resource=\"A\",Object=\"Job G\", Status=\"Abend\",Start='2023-07-29 19:15', Finish='2023-07-29 21:00'),\n",
    "#     dict(Resource=\"A\",Object=\"Job I\", Status=\"Abend\",Start='2023-07-29 21:15', Finish='2023-07-29 22:00'),\n",
    "#     dict(Resource=\"A\",Object=\"Job I\", Status=\"Abend\",Start='2023-07-29 14:15', Finish='2023-07-29 18:00'),\n",
    "#     dict(Resource=\"A\",Object=\"Job H\", Status=\"Abend\",Start='2023-07-29 11:15', Finish='2023-07-29 15:00'),\n",
    "#     dict(Resource=\"B\",Object=\"Job I\", Status=\"Abend\",Start='2023-07-29 13:12', Finish='2023-07-29 16:00'),\n",
    "#     dict(Resource=\"B\",Object=\"Job D\", Status=\"End\",Start='2023-07-31 13:12', Finish='2023-07-31 16:00'),\n",
    "#     dict(Resource=\"C\",Object=\"Job E\", Status=\"Abend\",Start='2023-07-29 14:03', Finish='2023-07-29 15:00')\n",
    "# ])\n",
    "\n",
    "# print(df.head(26))\n",
    "\n",
    "fig = px.timeline(\n",
    "    df,                                                 # DF to use \n",
    "    title=\"1st made gantt chart\",                       # tittle of this graph\n",
    "    x_start='Start', x_end='Finish',                    # the column name of DF to use star time & end time column\n",
    "    y='Key',\n",
    "    # y='Resource',\n",
    "    # y='Object',                                           # the column name of DF to use row name  \n",
    "    text='Object',                                        # the column name of DF to use display\n",
    "    # pattern_shape='Object',\n",
    "    opacity= 1,\n",
    "    color_discrete_map={'RUN': 'Blue','WAIT':'limegreen','DOWN':'red'},\n",
    "    # facet_row=\"Resource\",\n",
    "    # width=1200, height=600,\n",
    "    color='Status'                                      # the column name of DF to use color section\n",
    ")\n",
    "\n",
    "# 画面向けのConfig\n",
    "config = dict(\n",
    "    {'scrollZoom': True,\n",
    "        'displaylogo': False,\n",
    "        'modeBarButtonsToAdd': [\n",
    "        # 'drawline',  # 直線\n",
    "        'drawopenpath',  # 自由な線\n",
    "        # 'drawclosedpath',  # 閉じたフリーフォーム\n",
    "        # 'drawcircle',  # 円\n",
    "        # 'drawrect',  # 四角\n",
    "        'eraseshape',  # 図形の削除\n",
    "        'toggleSpikelines',  # ホバーしたプロットに垂直・水平な線\n",
    "        'hoverclosest',  # 直近のプロット1点をホバー\n",
    "        'hovercompare',  # 直近のプロットと同じxのプロット全点をホバー\n",
    "        ]\n",
    "        ,'edits': {\n",
    "        'axisTitleText': True,  # 軸ラベルの内容の変更を可能に\n",
    "        }\n",
    "    }\n",
    ")\n",
    "\n",
    "# text font\n",
    "fig.update_traces(width=1,textfont_size=10, textangle=0, textposition='inside', cliponaxis=False)\n",
    "\n",
    "# 全体のレイアウト修正\n",
    "fig.update_layout(\n",
    "    # showlegend=False,\n",
    "    legend_x=0.9,\n",
    "    clickmode='event+select',\n",
    "    dragmode='pan',\n",
    "\n",
    "    xaxis_title=\"Time\", \n",
    "    yaxis_title=\"\",\n",
    "\n",
    "    font_size=20,font_family = 'Arial',                 # グラフ全体のフォントサイズ変更\n",
    "    hoverlabel_bgcolor='#DAEEED',                       # Change the hover tooltip background color to a universal light blue color.\n",
    "    hoverlabel_font_size=15,\n",
    "    # textangle = -180,\n",
    "    # newshape_line_color='red',                          # \n",
    "    bargap=0,bargroupgap=0,\n",
    "    barmode=\"group\"                                     # チャートを並べて表示してくれる。                    \n",
    ")\n",
    "\n",
    "# 横軸のレイアウト修正\n",
    "fig.update_xaxes(\n",
    "    # setting of tick \n",
    "    showticklabels = True,side =\"bottom\",               # Place the tick labels on the top of the chart\n",
    "    tickfont_size=15, tickangle = 0,\n",
    "    tickformat='%Y/%m/%d %H:%M',                        # 横軸の書式を変更                                                        \n",
    "    # setting of line\n",
    "    showline = True,linecolor = 'Black',\n",
    "    zeroline = True,\n",
    "    showgrid = True,\n",
    "    type=\"date\",\n",
    "    # rangeslider=dict(                                   # グラフ下にレンジスライダーを追加\n",
    "    #     visible=True,\n",
    "    #     thickness=0.05\n",
    "    # ),                     \n",
    "    # rangeselector=dict(                                 # グラフ上にレンジセレクターを追加\n",
    "    #     # xanchor='center',x=1,\n",
    "    #     # yanchor='bottom',y=0,        \n",
    "    #     buttons=list([\n",
    "    #         dict(\n",
    "    #             count=3,                                # 数値\n",
    "    #             label='3h',                             # ボタンラベル\n",
    "    #             step='hour',                            # 単位\n",
    "    #             stepmode='backward'                     # 現時点より以前\n",
    "    #             # stepmode='todate'                     # 一番最初時点から   \n",
    "    #         ),\n",
    "    #         dict(\n",
    "    #             count=6,                                # 数値\n",
    "    #             label='6h',                             # ボタンラベル\n",
    "    #             step='hour',                            # 単位\n",
    "    #             stepmode='backward'                     # 現時点より以前\n",
    "    #         ),\n",
    "    #         dict(\n",
    "    #             count=12,                               # 数値\n",
    "    #             label='12h',                            # ボタンラベル\n",
    "    #             step='hour',                            # 単位\n",
    "    #             stepmode='backward'                     # 現時点より以前\n",
    "    #         ),\n",
    "    #         dict(\n",
    "    #             count=1,                                # 数値\n",
    "    #             label='1day',                           # ボタンラベル\n",
    "    #             step='day',                             # 単位\n",
    "    #             stepmode='backward'                     # 現時点より以前                \n",
    "    #         ),\n",
    "    #         dict(step='all')\n",
    "    #     ])\n",
    "    # )\n",
    ")\n",
    "\n",
    "# 縦軸のレイアウト修正\n",
    "fig.update_yaxes(\n",
    "    autorange='reversed',\n",
    "    categoryarray=df.sort_values(by=['Resource','Start'])['Key'],       # 並べたい順序を指定する。\n",
    "    categoryorder='array',                                              # Ccategoryarrayで指定した順番でソートするときに利用する。\n",
    "    # categoryorder='category ascending',\n",
    "    # gridcolor = 'Black',\n",
    "    showline = True,linecolor = 'Black',\n",
    "    zeroline = True,\n",
    "    showgrid = True\n",
    ")                  # 縦軸の向きを逆にする\n",
    "\n",
    "fig.show()\n",
    "\n",
    "pio.write_html(fig,file=\"./Gantt.html\",config=config)"
   ]
  },
  {
   "cell_type": "markdown",
   "metadata": {},
   "source": [
    "簡単なガントチャートならこっちでいいかも・・・"
   ]
  },
  {
   "cell_type": "code",
   "execution_count": 130,
   "metadata": {},
   "outputs": [
    {
     "data": {
      "application/vnd.plotly.v1+json": {
       "config": {
        "plotlyServerURL": "https://plot.ly"
       },
       "data": [
        {
         "fill": "toself",
         "fillcolor": "rgb(255, 127, 14)",
         "hoverinfo": "name",
         "legendgroup": "rgb(255, 127, 14)",
         "mode": "none",
         "name": "WAIT",
         "showlegend": false,
         "type": "scatter",
         "x": [
          "2023-07-30T08:58:00",
          "2023-07-30T10:24:00",
          "2023-07-30T10:24:00",
          "2023-07-30T08:58:00",
          "2023-07-30T08:58:00",
          "2023-07-30T09:18:00",
          "2023-07-30T15:45:00",
          "2023-07-30T15:45:00",
          "2023-07-30T09:18:00",
          "2023-07-30T09:18:00",
          "2023-07-30T09:25:00",
          "2023-07-30T10:24:00",
          "2023-07-30T10:24:00",
          "2023-07-30T09:25:00",
          "2023-07-30T09:25:00",
          "2023-07-30T09:28:00",
          "2023-07-30T14:34:00",
          "2023-07-30T14:34:00",
          "2023-07-30T09:28:00",
          "2023-07-30T09:28:00",
          "2023-07-30T09:16:00",
          "2023-07-30T13:57:00",
          "2023-07-30T13:57:00",
          "2023-07-30T09:16:00",
          "2023-07-30T09:16:00",
          "2023-07-30T09:27:00",
          "2023-07-30T13:42:00",
          "2023-07-30T13:42:00",
          "2023-07-30T09:27:00",
          "2023-07-30T09:27:00",
          "2023-07-30T09:38:00",
          "2023-07-30T19:08:00",
          "2023-07-30T19:08:00",
          "2023-07-30T09:38:00",
          "2023-07-30T09:38:00",
          "2023-07-30T09:57:00",
          "2023-07-30T12:44:00",
          "2023-07-30T12:44:00",
          "2023-07-30T09:57:00",
          "2023-07-30T09:57:00",
          "2023-07-30T09:00:00",
          "2023-07-30T23:00:00",
          "2023-07-30T23:00:00",
          "2023-07-30T09:00:00",
          "2023-07-30T09:00:00",
          "2023-07-30T09:15:00",
          "2023-07-31T09:02:00",
          "2023-07-31T09:02:00",
          "2023-07-30T09:15:00"
         ],
         "y": [
          -0.2,
          -0.2,
          0.2,
          0.2,
          null,
          0.8,
          0.8,
          1.2,
          1.2,
          null,
          2.8,
          2.8,
          3.2,
          3.2,
          null,
          3.8,
          3.8,
          4.2,
          4.2,
          null,
          6.8,
          6.8,
          7.2,
          7.2,
          null,
          7.8,
          7.8,
          8.2,
          8.2,
          null,
          9.8,
          9.8,
          10.2,
          10.2,
          null,
          10.8,
          10.8,
          11.2,
          11.2,
          null,
          11.8,
          11.8,
          12.2,
          12.2,
          null,
          13.8,
          13.8,
          14.2,
          14.2
         ]
        },
        {
         "fill": "toself",
         "fillcolor": "rgb(31, 119, 180)",
         "hoverinfo": "name",
         "legendgroup": "rgb(31, 119, 180)",
         "mode": "none",
         "name": "RUN",
         "showlegend": false,
         "type": "scatter",
         "x": [
          "2023-07-30T09:23:00",
          "2023-07-30T16:09:00",
          "2023-07-30T16:09:00",
          "2023-07-30T09:23:00",
          "2023-07-30T09:23:00",
          "2023-07-30T09:29:00",
          "2023-07-30T16:23:00",
          "2023-07-30T16:23:00",
          "2023-07-30T09:29:00",
          "2023-07-30T09:29:00",
          "2023-07-30T09:03:00",
          "2023-07-30T10:54:00",
          "2023-07-30T10:54:00",
          "2023-07-30T09:03:00",
          "2023-07-30T09:03:00",
          "2023-07-30T09:28:00",
          "2023-07-30T09:39:00",
          "2023-07-30T09:39:00",
          "2023-07-30T09:28:00",
          "2023-07-30T09:28:00",
          "2023-07-30T09:11:00",
          "2023-07-31T00:05:00",
          "2023-07-31T00:05:00",
          "2023-07-30T09:11:00",
          "2023-07-30T09:11:00",
          "2023-07-30T09:27:00",
          "2023-07-31T04:02:00",
          "2023-07-31T04:02:00",
          "2023-07-30T09:27:00",
          "2023-07-30T09:27:00",
          "2023-07-30T09:31:00",
          "2023-07-31T03:28:00",
          "2023-07-31T03:28:00",
          "2023-07-30T09:31:00",
          "2023-07-30T09:31:00",
          "2023-07-30T09:32:00",
          "2023-07-30T11:45:00",
          "2023-07-30T11:45:00",
          "2023-07-30T09:32:00"
         ],
         "y": [
          1.8,
          1.8,
          2.2,
          2.2,
          null,
          4.8,
          4.8,
          5.2,
          5.2,
          null,
          5.8,
          5.8,
          6.2,
          6.2,
          null,
          8.8,
          8.8,
          9.2,
          9.2,
          null,
          12.8,
          12.8,
          13.2,
          13.2,
          null,
          14.8,
          14.8,
          15.2,
          15.2,
          null,
          15.8,
          15.8,
          16.2,
          16.2,
          null,
          16.8,
          16.8,
          17.2,
          17.2
         ]
        },
        {
         "legendgroup": "rgb(255, 127, 14)",
         "marker": {
          "color": "rgb(255, 127, 14)",
          "opacity": 0,
          "size": 1
         },
         "mode": "markers",
         "name": "",
         "showlegend": false,
         "text": [
          null,
          null,
          null,
          null,
          null,
          null,
          null,
          null,
          null,
          null,
          null,
          null,
          null,
          null,
          null,
          null,
          null,
          null,
          null,
          null
         ],
         "type": "scatter",
         "x": [
          "2023-07-30T08:58:00",
          "2023-07-30T10:24:00",
          "2023-07-30T09:18:00",
          "2023-07-30T15:45:00",
          "2023-07-30T09:25:00",
          "2023-07-30T10:24:00",
          "2023-07-30T09:28:00",
          "2023-07-30T14:34:00",
          "2023-07-30T09:16:00",
          "2023-07-30T13:57:00",
          "2023-07-30T09:27:00",
          "2023-07-30T13:42:00",
          "2023-07-30T09:38:00",
          "2023-07-30T19:08:00",
          "2023-07-30T09:57:00",
          "2023-07-30T12:44:00",
          "2023-07-30T09:00:00",
          "2023-07-30T23:00:00",
          "2023-07-30T09:15:00",
          "2023-07-31T09:02:00"
         ],
         "y": [
          0,
          0,
          1,
          1,
          3,
          3,
          4,
          4,
          7,
          7,
          8,
          8,
          10,
          10,
          11,
          11,
          12,
          12,
          14,
          14
         ]
        },
        {
         "legendgroup": "rgb(31, 119, 180)",
         "marker": {
          "color": "rgb(31, 119, 180)",
          "opacity": 0,
          "size": 1
         },
         "mode": "markers",
         "name": "",
         "showlegend": false,
         "text": [
          null,
          null,
          null,
          null,
          null,
          null,
          null,
          null,
          null,
          null,
          null,
          null,
          null,
          null,
          null,
          null
         ],
         "type": "scatter",
         "x": [
          "2023-07-30T09:23:00",
          "2023-07-30T16:09:00",
          "2023-07-30T09:29:00",
          "2023-07-30T16:23:00",
          "2023-07-30T09:03:00",
          "2023-07-30T10:54:00",
          "2023-07-30T09:28:00",
          "2023-07-30T09:39:00",
          "2023-07-30T09:11:00",
          "2023-07-31T00:05:00",
          "2023-07-30T09:27:00",
          "2023-07-31T04:02:00",
          "2023-07-30T09:31:00",
          "2023-07-31T03:28:00",
          "2023-07-30T09:32:00",
          "2023-07-30T11:45:00"
         ],
         "y": [
          2,
          2,
          5,
          5,
          6,
          6,
          9,
          9,
          13,
          13,
          15,
          15,
          16,
          16,
          17,
          17
         ]
        }
       ],
       "layout": {
        "height": 600,
        "hovermode": "closest",
        "showlegend": false,
        "template": {
         "data": {
          "bar": [
           {
            "error_x": {
             "color": "#2a3f5f"
            },
            "error_y": {
             "color": "#2a3f5f"
            },
            "marker": {
             "line": {
              "color": "#E5ECF6",
              "width": 0.5
             },
             "pattern": {
              "fillmode": "overlay",
              "size": 10,
              "solidity": 0.2
             }
            },
            "type": "bar"
           }
          ],
          "barpolar": [
           {
            "marker": {
             "line": {
              "color": "#E5ECF6",
              "width": 0.5
             },
             "pattern": {
              "fillmode": "overlay",
              "size": 10,
              "solidity": 0.2
             }
            },
            "type": "barpolar"
           }
          ],
          "carpet": [
           {
            "aaxis": {
             "endlinecolor": "#2a3f5f",
             "gridcolor": "white",
             "linecolor": "white",
             "minorgridcolor": "white",
             "startlinecolor": "#2a3f5f"
            },
            "baxis": {
             "endlinecolor": "#2a3f5f",
             "gridcolor": "white",
             "linecolor": "white",
             "minorgridcolor": "white",
             "startlinecolor": "#2a3f5f"
            },
            "type": "carpet"
           }
          ],
          "choropleth": [
           {
            "colorbar": {
             "outlinewidth": 0,
             "ticks": ""
            },
            "type": "choropleth"
           }
          ],
          "contour": [
           {
            "colorbar": {
             "outlinewidth": 0,
             "ticks": ""
            },
            "colorscale": [
             [
              0,
              "#0d0887"
             ],
             [
              0.1111111111111111,
              "#46039f"
             ],
             [
              0.2222222222222222,
              "#7201a8"
             ],
             [
              0.3333333333333333,
              "#9c179e"
             ],
             [
              0.4444444444444444,
              "#bd3786"
             ],
             [
              0.5555555555555556,
              "#d8576b"
             ],
             [
              0.6666666666666666,
              "#ed7953"
             ],
             [
              0.7777777777777778,
              "#fb9f3a"
             ],
             [
              0.8888888888888888,
              "#fdca26"
             ],
             [
              1,
              "#f0f921"
             ]
            ],
            "type": "contour"
           }
          ],
          "contourcarpet": [
           {
            "colorbar": {
             "outlinewidth": 0,
             "ticks": ""
            },
            "type": "contourcarpet"
           }
          ],
          "heatmap": [
           {
            "colorbar": {
             "outlinewidth": 0,
             "ticks": ""
            },
            "colorscale": [
             [
              0,
              "#0d0887"
             ],
             [
              0.1111111111111111,
              "#46039f"
             ],
             [
              0.2222222222222222,
              "#7201a8"
             ],
             [
              0.3333333333333333,
              "#9c179e"
             ],
             [
              0.4444444444444444,
              "#bd3786"
             ],
             [
              0.5555555555555556,
              "#d8576b"
             ],
             [
              0.6666666666666666,
              "#ed7953"
             ],
             [
              0.7777777777777778,
              "#fb9f3a"
             ],
             [
              0.8888888888888888,
              "#fdca26"
             ],
             [
              1,
              "#f0f921"
             ]
            ],
            "type": "heatmap"
           }
          ],
          "heatmapgl": [
           {
            "colorbar": {
             "outlinewidth": 0,
             "ticks": ""
            },
            "colorscale": [
             [
              0,
              "#0d0887"
             ],
             [
              0.1111111111111111,
              "#46039f"
             ],
             [
              0.2222222222222222,
              "#7201a8"
             ],
             [
              0.3333333333333333,
              "#9c179e"
             ],
             [
              0.4444444444444444,
              "#bd3786"
             ],
             [
              0.5555555555555556,
              "#d8576b"
             ],
             [
              0.6666666666666666,
              "#ed7953"
             ],
             [
              0.7777777777777778,
              "#fb9f3a"
             ],
             [
              0.8888888888888888,
              "#fdca26"
             ],
             [
              1,
              "#f0f921"
             ]
            ],
            "type": "heatmapgl"
           }
          ],
          "histogram": [
           {
            "marker": {
             "pattern": {
              "fillmode": "overlay",
              "size": 10,
              "solidity": 0.2
             }
            },
            "type": "histogram"
           }
          ],
          "histogram2d": [
           {
            "colorbar": {
             "outlinewidth": 0,
             "ticks": ""
            },
            "colorscale": [
             [
              0,
              "#0d0887"
             ],
             [
              0.1111111111111111,
              "#46039f"
             ],
             [
              0.2222222222222222,
              "#7201a8"
             ],
             [
              0.3333333333333333,
              "#9c179e"
             ],
             [
              0.4444444444444444,
              "#bd3786"
             ],
             [
              0.5555555555555556,
              "#d8576b"
             ],
             [
              0.6666666666666666,
              "#ed7953"
             ],
             [
              0.7777777777777778,
              "#fb9f3a"
             ],
             [
              0.8888888888888888,
              "#fdca26"
             ],
             [
              1,
              "#f0f921"
             ]
            ],
            "type": "histogram2d"
           }
          ],
          "histogram2dcontour": [
           {
            "colorbar": {
             "outlinewidth": 0,
             "ticks": ""
            },
            "colorscale": [
             [
              0,
              "#0d0887"
             ],
             [
              0.1111111111111111,
              "#46039f"
             ],
             [
              0.2222222222222222,
              "#7201a8"
             ],
             [
              0.3333333333333333,
              "#9c179e"
             ],
             [
              0.4444444444444444,
              "#bd3786"
             ],
             [
              0.5555555555555556,
              "#d8576b"
             ],
             [
              0.6666666666666666,
              "#ed7953"
             ],
             [
              0.7777777777777778,
              "#fb9f3a"
             ],
             [
              0.8888888888888888,
              "#fdca26"
             ],
             [
              1,
              "#f0f921"
             ]
            ],
            "type": "histogram2dcontour"
           }
          ],
          "mesh3d": [
           {
            "colorbar": {
             "outlinewidth": 0,
             "ticks": ""
            },
            "type": "mesh3d"
           }
          ],
          "parcoords": [
           {
            "line": {
             "colorbar": {
              "outlinewidth": 0,
              "ticks": ""
             }
            },
            "type": "parcoords"
           }
          ],
          "pie": [
           {
            "automargin": true,
            "type": "pie"
           }
          ],
          "scatter": [
           {
            "fillpattern": {
             "fillmode": "overlay",
             "size": 10,
             "solidity": 0.2
            },
            "type": "scatter"
           }
          ],
          "scatter3d": [
           {
            "line": {
             "colorbar": {
              "outlinewidth": 0,
              "ticks": ""
             }
            },
            "marker": {
             "colorbar": {
              "outlinewidth": 0,
              "ticks": ""
             }
            },
            "type": "scatter3d"
           }
          ],
          "scattercarpet": [
           {
            "marker": {
             "colorbar": {
              "outlinewidth": 0,
              "ticks": ""
             }
            },
            "type": "scattercarpet"
           }
          ],
          "scattergeo": [
           {
            "marker": {
             "colorbar": {
              "outlinewidth": 0,
              "ticks": ""
             }
            },
            "type": "scattergeo"
           }
          ],
          "scattergl": [
           {
            "marker": {
             "colorbar": {
              "outlinewidth": 0,
              "ticks": ""
             }
            },
            "type": "scattergl"
           }
          ],
          "scattermapbox": [
           {
            "marker": {
             "colorbar": {
              "outlinewidth": 0,
              "ticks": ""
             }
            },
            "type": "scattermapbox"
           }
          ],
          "scatterpolar": [
           {
            "marker": {
             "colorbar": {
              "outlinewidth": 0,
              "ticks": ""
             }
            },
            "type": "scatterpolar"
           }
          ],
          "scatterpolargl": [
           {
            "marker": {
             "colorbar": {
              "outlinewidth": 0,
              "ticks": ""
             }
            },
            "type": "scatterpolargl"
           }
          ],
          "scatterternary": [
           {
            "marker": {
             "colorbar": {
              "outlinewidth": 0,
              "ticks": ""
             }
            },
            "type": "scatterternary"
           }
          ],
          "surface": [
           {
            "colorbar": {
             "outlinewidth": 0,
             "ticks": ""
            },
            "colorscale": [
             [
              0,
              "#0d0887"
             ],
             [
              0.1111111111111111,
              "#46039f"
             ],
             [
              0.2222222222222222,
              "#7201a8"
             ],
             [
              0.3333333333333333,
              "#9c179e"
             ],
             [
              0.4444444444444444,
              "#bd3786"
             ],
             [
              0.5555555555555556,
              "#d8576b"
             ],
             [
              0.6666666666666666,
              "#ed7953"
             ],
             [
              0.7777777777777778,
              "#fb9f3a"
             ],
             [
              0.8888888888888888,
              "#fdca26"
             ],
             [
              1,
              "#f0f921"
             ]
            ],
            "type": "surface"
           }
          ],
          "table": [
           {
            "cells": {
             "fill": {
              "color": "#EBF0F8"
             },
             "line": {
              "color": "white"
             }
            },
            "header": {
             "fill": {
              "color": "#C8D4E3"
             },
             "line": {
              "color": "white"
             }
            },
            "type": "table"
           }
          ]
         },
         "layout": {
          "annotationdefaults": {
           "arrowcolor": "#2a3f5f",
           "arrowhead": 0,
           "arrowwidth": 1
          },
          "autotypenumbers": "strict",
          "coloraxis": {
           "colorbar": {
            "outlinewidth": 0,
            "ticks": ""
           }
          },
          "colorscale": {
           "diverging": [
            [
             0,
             "#8e0152"
            ],
            [
             0.1,
             "#c51b7d"
            ],
            [
             0.2,
             "#de77ae"
            ],
            [
             0.3,
             "#f1b6da"
            ],
            [
             0.4,
             "#fde0ef"
            ],
            [
             0.5,
             "#f7f7f7"
            ],
            [
             0.6,
             "#e6f5d0"
            ],
            [
             0.7,
             "#b8e186"
            ],
            [
             0.8,
             "#7fbc41"
            ],
            [
             0.9,
             "#4d9221"
            ],
            [
             1,
             "#276419"
            ]
           ],
           "sequential": [
            [
             0,
             "#0d0887"
            ],
            [
             0.1111111111111111,
             "#46039f"
            ],
            [
             0.2222222222222222,
             "#7201a8"
            ],
            [
             0.3333333333333333,
             "#9c179e"
            ],
            [
             0.4444444444444444,
             "#bd3786"
            ],
            [
             0.5555555555555556,
             "#d8576b"
            ],
            [
             0.6666666666666666,
             "#ed7953"
            ],
            [
             0.7777777777777778,
             "#fb9f3a"
            ],
            [
             0.8888888888888888,
             "#fdca26"
            ],
            [
             1,
             "#f0f921"
            ]
           ],
           "sequentialminus": [
            [
             0,
             "#0d0887"
            ],
            [
             0.1111111111111111,
             "#46039f"
            ],
            [
             0.2222222222222222,
             "#7201a8"
            ],
            [
             0.3333333333333333,
             "#9c179e"
            ],
            [
             0.4444444444444444,
             "#bd3786"
            ],
            [
             0.5555555555555556,
             "#d8576b"
            ],
            [
             0.6666666666666666,
             "#ed7953"
            ],
            [
             0.7777777777777778,
             "#fb9f3a"
            ],
            [
             0.8888888888888888,
             "#fdca26"
            ],
            [
             1,
             "#f0f921"
            ]
           ]
          },
          "colorway": [
           "#636efa",
           "#EF553B",
           "#00cc96",
           "#ab63fa",
           "#FFA15A",
           "#19d3f3",
           "#FF6692",
           "#B6E880",
           "#FF97FF",
           "#FECB52"
          ],
          "font": {
           "color": "#2a3f5f"
          },
          "geo": {
           "bgcolor": "white",
           "lakecolor": "white",
           "landcolor": "#E5ECF6",
           "showlakes": true,
           "showland": true,
           "subunitcolor": "white"
          },
          "hoverlabel": {
           "align": "left"
          },
          "hovermode": "closest",
          "mapbox": {
           "style": "light"
          },
          "paper_bgcolor": "white",
          "plot_bgcolor": "#E5ECF6",
          "polar": {
           "angularaxis": {
            "gridcolor": "white",
            "linecolor": "white",
            "ticks": ""
           },
           "bgcolor": "#E5ECF6",
           "radialaxis": {
            "gridcolor": "white",
            "linecolor": "white",
            "ticks": ""
           }
          },
          "scene": {
           "xaxis": {
            "backgroundcolor": "#E5ECF6",
            "gridcolor": "white",
            "gridwidth": 2,
            "linecolor": "white",
            "showbackground": true,
            "ticks": "",
            "zerolinecolor": "white"
           },
           "yaxis": {
            "backgroundcolor": "#E5ECF6",
            "gridcolor": "white",
            "gridwidth": 2,
            "linecolor": "white",
            "showbackground": true,
            "ticks": "",
            "zerolinecolor": "white"
           },
           "zaxis": {
            "backgroundcolor": "#E5ECF6",
            "gridcolor": "white",
            "gridwidth": 2,
            "linecolor": "white",
            "showbackground": true,
            "ticks": "",
            "zerolinecolor": "white"
           }
          },
          "shapedefaults": {
           "line": {
            "color": "#2a3f5f"
           }
          },
          "ternary": {
           "aaxis": {
            "gridcolor": "white",
            "linecolor": "white",
            "ticks": ""
           },
           "baxis": {
            "gridcolor": "white",
            "linecolor": "white",
            "ticks": ""
           },
           "bgcolor": "#E5ECF6",
           "caxis": {
            "gridcolor": "white",
            "linecolor": "white",
            "ticks": ""
           }
          },
          "title": {
           "x": 0.05
          },
          "xaxis": {
           "automargin": true,
           "gridcolor": "white",
           "linecolor": "white",
           "ticks": "",
           "title": {
            "standoff": 15
           },
           "zerolinecolor": "white",
           "zerolinewidth": 2
          },
          "yaxis": {
           "automargin": true,
           "gridcolor": "white",
           "linecolor": "white",
           "ticks": "",
           "title": {
            "standoff": 15
           },
           "zerolinecolor": "white",
           "zerolinewidth": 2
          }
         }
        },
        "title": {
         "text": "Gantt Chart"
        },
        "xaxis": {
         "rangeselector": {
          "buttons": [
           {
            "count": 7,
            "label": "1w",
            "step": "day",
            "stepmode": "backward"
           },
           {
            "count": 1,
            "label": "1m",
            "step": "month",
            "stepmode": "backward"
           },
           {
            "count": 6,
            "label": "6m",
            "step": "month",
            "stepmode": "backward"
           },
           {
            "count": 1,
            "label": "YTD",
            "step": "year",
            "stepmode": "todate"
           },
           {
            "count": 1,
            "label": "1y",
            "step": "year",
            "stepmode": "backward"
           },
           {
            "step": "all"
           }
          ]
         },
         "showgrid": false,
         "type": "date",
         "zeroline": false
        },
        "yaxis": {
         "autorange": false,
         "range": [
          -1,
          19
         ],
         "showgrid": false,
         "ticktext": [
          "JOB-001",
          "JOB-011",
          "JOB-010",
          "JOB-002",
          "JOB-003",
          "JOB-012",
          "JOB-004",
          "JOB-013",
          "JOB-005",
          "JOB-014",
          "JOB-006",
          "JOB-015",
          "JOB-007",
          "JOB-008",
          "JOB-017",
          "JOB-016",
          "JOB-009",
          "JOB-018"
         ],
         "tickvals": [
          0,
          1,
          2,
          3,
          4,
          5,
          6,
          7,
          8,
          9,
          10,
          11,
          12,
          13,
          14,
          15,
          16,
          17
         ],
         "zeroline": false
        }
       }
      }
     },
     "metadata": {},
     "output_type": "display_data"
    }
   ],
   "source": [
    "import plotly.figure_factory as ff\n",
    "\n",
    "fig = ff.create_gantt(df, index_col='Status',bar_width=0.2)\n",
    "fig.show()\n"
   ]
  },
  {
   "cell_type": "code",
   "execution_count": null,
   "metadata": {},
   "outputs": [],
   "source": []
  }
 ],
 "metadata": {
  "kernelspec": {
   "display_name": "Python 3",
   "language": "python",
   "name": "python3"
  },
  "language_info": {
   "codemirror_mode": {
    "name": "ipython",
    "version": 3
   },
   "file_extension": ".py",
   "mimetype": "text/x-python",
   "name": "python",
   "nbconvert_exporter": "python",
   "pygments_lexer": "ipython3",
   "version": "3.10.5"
  },
  "orig_nbformat": 4,
  "vscode": {
   "interpreter": {
    "hash": "302eb6b7991d9250228386f0be687ac4ce423e05a82923fc07bef1035868863d"
   }
  }
 },
 "nbformat": 4,
 "nbformat_minor": 2
}
